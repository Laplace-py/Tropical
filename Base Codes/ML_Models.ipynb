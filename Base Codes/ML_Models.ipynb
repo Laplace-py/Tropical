{
 "cells": [
  {
   "cell_type": "code",
   "execution_count": 20,
   "metadata": {},
   "outputs": [],
   "source": [
    "\n",
    "import sklearn as SK\n",
    "import lightgbm as lgb\n",
    "from sklearn.metrics import *\n",
    "from sklearn.metrics import confusion_matrix\n",
    "from sklearn.model_selection import *\n",
    "from skopt import BayesSearchCV\n",
    "import numpy as np\n",
    "import pandas as pd\n",
    "import scipy.stats\n",
    "from math import sqrt\n",
    "import os \n",
    "import io\n",
    "from tensorboard.plugins.hparams import api as hp\n",
    "from utils import utils\n",
    "\n",
    "commons = utils.Commons()\n",
    "shap_helper = utils.Shap_Helper()\n",
    "ml_helper = utils.ML_Helper()\n",
    "model_generator = utils.Model_Generator()\n",
    "ml_helper.model_type = ml_helper.Regression # Always set this variable to the type of model you are building\n",
    "os.environ[\"TF_CPP_MIN_LOG_LEVEL\"] = \"-1\""
   ]
  },
  {
   "cell_type": "code",
   "execution_count": 21,
   "metadata": {},
   "outputs": [
    {
     "name": "stdout",
     "output_type": "stream",
     "text": [
      "Loaded dataset .\\data\\Eufrasia\\splits\\Random/final-220-NEW-1_train_4.csv with shape: (3754, 3)\n",
      "Loaded dataset .\\data\\Eufrasia\\splits\\Random/final-220-NEW-1_valid_4.csv with shape: (469, 3)\n",
      "Loaded dataset .\\data\\Eufrasia\\splits\\Random/final-220-NEW-1_test_4.csv with shape: (470, 3)\n"
     ]
    },
    {
     "data": {
      "text/html": [
       "<div>\n",
       "<style scoped>\n",
       "    .dataframe tbody tr th:only-of-type {\n",
       "        vertical-align: middle;\n",
       "    }\n",
       "\n",
       "    .dataframe tbody tr th {\n",
       "        vertical-align: top;\n",
       "    }\n",
       "\n",
       "    .dataframe thead th {\n",
       "        text-align: right;\n",
       "    }\n",
       "</style>\n",
       "<table border=\"1\" class=\"dataframe\">\n",
       "  <thead>\n",
       "    <tr style=\"text-align: right;\">\n",
       "      <th></th>\n",
       "      <th>ID</th>\n",
       "      <th>SMILES</th>\n",
       "      <th>VALUE_p</th>\n",
       "    </tr>\n",
       "  </thead>\n",
       "  <tbody>\n",
       "    <tr>\n",
       "      <th>0</th>\n",
       "      <td>1</td>\n",
       "      <td>NC1=C2CCCCC2=NC2=CC=CC=C12</td>\n",
       "      <td>6.318759</td>\n",
       "    </tr>\n",
       "    <tr>\n",
       "      <th>1</th>\n",
       "      <td>2</td>\n",
       "      <td>COC1(C2=CN(O)C(=O)C(C(=O)C3C(C)C=CC4CC(C)CCC43...</td>\n",
       "      <td>6.091515</td>\n",
       "    </tr>\n",
       "    <tr>\n",
       "      <th>2</th>\n",
       "      <td>3</td>\n",
       "      <td>O=S(=O)(N=C(NCCCCNC1=C2CCCCC2=NC2=CC=CC=C12)N1...</td>\n",
       "      <td>5.599999</td>\n",
       "    </tr>\n",
       "    <tr>\n",
       "      <th>3</th>\n",
       "      <td>4</td>\n",
       "      <td>O=C1C2=CC=CC=C2C(=O)N1CCCCCCNCC1=CC=CC=C1</td>\n",
       "      <td>5.676748</td>\n",
       "    </tr>\n",
       "    <tr>\n",
       "      <th>4</th>\n",
       "      <td>5</td>\n",
       "      <td>O=C1C2=CC=CC=C2C(=O)N1CCCCCCNCC1=CC=CC=C1F</td>\n",
       "      <td>6.026410</td>\n",
       "    </tr>\n",
       "  </tbody>\n",
       "</table>\n",
       "</div>"
      ],
      "text/plain": [
       "   ID                                             SMILES   VALUE_p\n",
       "0   1                         NC1=C2CCCCC2=NC2=CC=CC=C12  6.318759\n",
       "1   2  COC1(C2=CN(O)C(=O)C(C(=O)C3C(C)C=CC4CC(C)CCC43...  6.091515\n",
       "2   3  O=S(=O)(N=C(NCCCCNC1=C2CCCCC2=NC2=CC=CC=C12)N1...  5.599999\n",
       "3   4          O=C1C2=CC=CC=C2C(=O)N1CCCCCCNCC1=CC=CC=C1  5.676748\n",
       "4   5         O=C1C2=CC=CC=C2C(=O)N1CCCCCCNCC1=CC=CC=C1F  6.026410"
      ]
     },
     "execution_count": 21,
     "metadata": {},
     "output_type": "execute_result"
    }
   ],
   "source": [
    "#Inport train, validation and test sets\n",
    "FOLD = 4\n",
    "task = 0\n",
    "path = \".\\data\\Eufrasia\\splits\\Random\"\n",
    "training = [path+\"/\"+train for train in os.listdir(path) if train.find(\"train\")!=-1 and train.endswith(str(FOLD)+\".csv\")]\n",
    "validation = [path+\"/\"+val for val in os.listdir(path) if val.find(\"val\")!=-1 and val.endswith(str(FOLD)+\".csv\")] \n",
    "test = [path+\"/\"+test for test in os.listdir(path) if test.find(\"test\")!=-1 and test.endswith(str(FOLD)+\".csv\")]\n",
    "TASK_START = 2\n",
    "NUM_TASKS = 1\n",
    "SMILES = 'SMILES'\n",
    "# Available Models are (LGBM,SVM,RF)\n",
    "SELECTED_MODEL = model_generator.SVM\n",
    "\n",
    "train_dataset,y_train,train_smiles = commons.load_dataset(training[task],SMILES,TASK_START,NUM_TASKS)\n",
    "valid_dataset,y_val,val_smiles = commons.load_dataset(validation[task],SMILES,TASK_START,NUM_TASKS)\n",
    "test_dataset,y_test,test_smiles = commons.load_dataset(test[task],SMILES,TASK_START,NUM_TASKS)\n",
    "\n",
    "train_dataset.head()"
   ]
  },
  {
   "cell_type": "code",
   "execution_count": 22,
   "metadata": {},
   "outputs": [],
   "source": [
    "# calculate ECFP (defaut) fingerprints using RDKit\n",
    "RADIUS = 2 #diameter 4\n",
    "FP_SIZE = 2048  #bit string size\n",
    "FEAT = False #used when you consider pharmacophoric features\n",
    "X_train = commons.assing_fp(train_smiles,FP_SIZE,RADIUS,FEAT)\n",
    "X_test = commons.assing_fp(test_smiles,FP_SIZE,RADIUS,FEAT)\n",
    "\n",
    "y_train = y_train.ravel()\n",
    "y_train = np.array(y_train).astype(int)\n",
    "y_test = y_test.ravel()\n",
    "y_test = np.array(y_test).astype(int)\n"
   ]
  },
  {
   "cell_type": "code",
   "execution_count": 23,
   "metadata": {},
   "outputs": [
    {
     "name": "stderr",
     "output_type": "stream",
     "text": [
      "c:\\Users\\Laplace\\anaconda3\\envs\\AI\\lib\\site-packages\\sklearn\\model_selection\\_split.py:684: UserWarning: The least populated class in y has only 1 members, which is less than n_splits=5.\n",
      "  warnings.warn(\n",
      "c:\\Users\\Laplace\\anaconda3\\envs\\AI\\lib\\site-packages\\sklearn\\model_selection\\_split.py:684: UserWarning: The least populated class in y has only 1 members, which is less than n_splits=5.\n",
      "  warnings.warn(\n",
      "c:\\Users\\Laplace\\anaconda3\\envs\\AI\\lib\\site-packages\\sklearn\\model_selection\\_split.py:684: UserWarning: The least populated class in y has only 1 members, which is less than n_splits=5.\n",
      "  warnings.warn(\n"
     ]
    },
    {
     "name": "stdout",
     "output_type": "stream",
     "text": [
      "Best parameters: OrderedDict([('C', 0.0410104548749355), ('degree', 6), ('kernel', 'sigmoid')])\n"
     ]
    }
   ],
   "source": [
    "cv = RepeatedStratifiedKFold(n_splits=5, n_repeats=3, random_state=1)\n",
    "scorer = make_scorer(mean_squared_error)\n",
    "\n",
    "build_model = model_generator.Models[SELECTED_MODEL]\n",
    "CLASSIFIER = build_model[\"classifier\"]\n",
    "PARAMS = build_model[\"params\"]\n",
    "\n",
    "# log-uniform: understand as search over p = exp(x) by varying x\n",
    "\n",
    "best_model = BayesSearchCV(CLASSIFIER,\n",
    "    PARAMS,\n",
    "    n_iter=1, # Number of parameter settings that are sampled\n",
    "    cv=cv,\n",
    "    scoring = scorer,\n",
    "    refit = True, # Refit the best estimator with the entire dataset.\n",
    "    random_state=42,\n",
    "    n_jobs = -1\n",
    ")\n",
    "\n",
    "best_model.fit(X_train, y_train)\n",
    "\n",
    "print(\"Best parameters: %s\" % best_model.best_params_)"
   ]
  },
  {
   "cell_type": "code",
   "execution_count": 24,
   "metadata": {},
   "outputs": [
    {
     "data": {
      "text/html": [
       "<style>#sk-container-id-3 {color: black;background-color: white;}#sk-container-id-3 pre{padding: 0;}#sk-container-id-3 div.sk-toggleable {background-color: white;}#sk-container-id-3 label.sk-toggleable__label {cursor: pointer;display: block;width: 100%;margin-bottom: 0;padding: 0.3em;box-sizing: border-box;text-align: center;}#sk-container-id-3 label.sk-toggleable__label-arrow:before {content: \"▸\";float: left;margin-right: 0.25em;color: #696969;}#sk-container-id-3 label.sk-toggleable__label-arrow:hover:before {color: black;}#sk-container-id-3 div.sk-estimator:hover label.sk-toggleable__label-arrow:before {color: black;}#sk-container-id-3 div.sk-toggleable__content {max-height: 0;max-width: 0;overflow: hidden;text-align: left;background-color: #f0f8ff;}#sk-container-id-3 div.sk-toggleable__content pre {margin: 0.2em;color: black;border-radius: 0.25em;background-color: #f0f8ff;}#sk-container-id-3 input.sk-toggleable__control:checked~div.sk-toggleable__content {max-height: 200px;max-width: 100%;overflow: auto;}#sk-container-id-3 input.sk-toggleable__control:checked~label.sk-toggleable__label-arrow:before {content: \"▾\";}#sk-container-id-3 div.sk-estimator input.sk-toggleable__control:checked~label.sk-toggleable__label {background-color: #d4ebff;}#sk-container-id-3 div.sk-label input.sk-toggleable__control:checked~label.sk-toggleable__label {background-color: #d4ebff;}#sk-container-id-3 input.sk-hidden--visually {border: 0;clip: rect(1px 1px 1px 1px);clip: rect(1px, 1px, 1px, 1px);height: 1px;margin: -1px;overflow: hidden;padding: 0;position: absolute;width: 1px;}#sk-container-id-3 div.sk-estimator {font-family: monospace;background-color: #f0f8ff;border: 1px dotted black;border-radius: 0.25em;box-sizing: border-box;margin-bottom: 0.5em;}#sk-container-id-3 div.sk-estimator:hover {background-color: #d4ebff;}#sk-container-id-3 div.sk-parallel-item::after {content: \"\";width: 100%;border-bottom: 1px solid gray;flex-grow: 1;}#sk-container-id-3 div.sk-label:hover label.sk-toggleable__label {background-color: #d4ebff;}#sk-container-id-3 div.sk-serial::before {content: \"\";position: absolute;border-left: 1px solid gray;box-sizing: border-box;top: 0;bottom: 0;left: 50%;z-index: 0;}#sk-container-id-3 div.sk-serial {display: flex;flex-direction: column;align-items: center;background-color: white;padding-right: 0.2em;padding-left: 0.2em;position: relative;}#sk-container-id-3 div.sk-item {position: relative;z-index: 1;}#sk-container-id-3 div.sk-parallel {display: flex;align-items: stretch;justify-content: center;background-color: white;position: relative;}#sk-container-id-3 div.sk-item::before, #sk-container-id-3 div.sk-parallel-item::before {content: \"\";position: absolute;border-left: 1px solid gray;box-sizing: border-box;top: 0;bottom: 0;left: 50%;z-index: -1;}#sk-container-id-3 div.sk-parallel-item {display: flex;flex-direction: column;z-index: 1;position: relative;background-color: white;}#sk-container-id-3 div.sk-parallel-item:first-child::after {align-self: flex-end;width: 50%;}#sk-container-id-3 div.sk-parallel-item:last-child::after {align-self: flex-start;width: 50%;}#sk-container-id-3 div.sk-parallel-item:only-child::after {width: 0;}#sk-container-id-3 div.sk-dashed-wrapped {border: 1px dashed gray;margin: 0 0.4em 0.5em 0.4em;box-sizing: border-box;padding-bottom: 0.4em;background-color: white;}#sk-container-id-3 div.sk-label label {font-family: monospace;font-weight: bold;display: inline-block;line-height: 1.2em;}#sk-container-id-3 div.sk-label-container {text-align: center;}#sk-container-id-3 div.sk-container {/* jupyter's `normalize.less` sets `[hidden] { display: none; }` but bootstrap.min.css set `[hidden] { display: none !important; }` so we also need the `!important` here to be able to override the default hidden behavior on the sphinx rendered scikit-learn.org. See: https://github.com/scikit-learn/scikit-learn/issues/21755 */display: inline-block !important;position: relative;}#sk-container-id-3 div.sk-text-repr-fallback {display: none;}</style><div id=\"sk-container-id-3\" class=\"sk-top-container\"><div class=\"sk-text-repr-fallback\"><pre>SVC(C=0.0410104548749355, degree=6, kernel=&#x27;sigmoid&#x27;)</pre><b>In a Jupyter environment, please rerun this cell to show the HTML representation or trust the notebook. <br />On GitHub, the HTML representation is unable to render, please try loading this page with nbviewer.org.</b></div><div class=\"sk-container\" hidden><div class=\"sk-item\"><div class=\"sk-estimator sk-toggleable\"><input class=\"sk-toggleable__control sk-hidden--visually\" id=\"sk-estimator-id-3\" type=\"checkbox\" checked><label for=\"sk-estimator-id-3\" class=\"sk-toggleable__label sk-toggleable__label-arrow\">SVC</label><div class=\"sk-toggleable__content\"><pre>SVC(C=0.0410104548749355, degree=6, kernel=&#x27;sigmoid&#x27;)</pre></div></div></div></div></div>"
      ],
      "text/plain": [
       "SVC(C=0.0410104548749355, degree=6, kernel='sigmoid')"
      ]
     },
     "execution_count": 24,
     "metadata": {},
     "output_type": "execute_result"
    }
   ],
   "source": [
    "model = CLASSIFIER.set_params(**best_model.best_params_)\n",
    "#model.probability = True\n",
    "model.fit(X_train, y_train)\n"
   ]
  },
  {
   "cell_type": "code",
   "execution_count": 25,
   "metadata": {},
   "outputs": [
    {
     "name": "stdout",
     "output_type": "stream",
     "text": [
      "Before 3 Sigma:\n",
      " Statistic         Value\n",
      "-----------  ----------\n",
      "MSE           3.01332\n",
      "MAE           1.23388\n",
      "R2           -0.0779146\n",
      "\n",
      "After 3 Sigma:\n",
      "\n",
      "Mean error:  1.2338838572189665\n",
      "\n",
      "Average std error:  1.2210035844172458\n",
      "\n",
      "Drop list size:  1161\n",
      "\n",
      "Statistic         Value\n",
      "-----------  ----------\n",
      "MSE           2.89549\n",
      "MAE           1.54879\n",
      "R2           -0.0963466\n",
      "\n",
      "Before 3 Sigma:\n",
      " Statistic        Value\n",
      "-----------  ---------\n",
      "MSE           2.93404\n",
      "MAE           1.22766\n",
      "R2           -0.115448\n",
      "\n",
      "After 3 Sigma:\n",
      "\n",
      "Mean error:  1.2276595744680852\n",
      "\n",
      "Average std error:  1.1945269031747796\n",
      "\n",
      "Drop list size:  152\n",
      "\n",
      "Statistic        Value\n",
      "-----------  ---------\n",
      "MSE           2.59119\n",
      "MAE           1.4717\n",
      "R2           -0.137548\n",
      "\n"
     ]
    }
   ],
   "source": [
    "text = ml_helper.get_ML_StatsForNSplits(model,X_train=X_train,y_train=y_train,X_test=X_test,y_test=y_test)"
   ]
  },
  {
   "cell_type": "code",
   "execution_count": 26,
   "metadata": {},
   "outputs": [],
   "source": [
    "with open(f\"results_for {SELECTED_MODEL}.txt\", \"a+\") as f:\n",
    "    in_this_task = training[task].replace(\"train\",\"\").replace(path,\"\").replace(\".csv\",\"\").replace(\"/\",\"\").replace(f\"__{FOLD}\",\"\")\n",
    "    f.write(f\"{in_this_task} Fold {FOLD}:\\n {text}\\r\")"
   ]
  }
 ],
 "metadata": {
  "kernelspec": {
   "display_name": "AI",
   "language": "python",
   "name": "python3"
  },
  "language_info": {
   "codemirror_mode": {
    "name": "ipython",
    "version": 3
   },
   "file_extension": ".py",
   "mimetype": "text/x-python",
   "name": "python",
   "nbconvert_exporter": "python",
   "pygments_lexer": "ipython3",
   "version": "3.9.12"
  },
  "orig_nbformat": 4,
  "vscode": {
   "interpreter": {
    "hash": "305c663c06086012150402cb542001f2c1c554dcd7eca29927fc1d739b83f0a9"
   }
  }
 },
 "nbformat": 4,
 "nbformat_minor": 2
}
