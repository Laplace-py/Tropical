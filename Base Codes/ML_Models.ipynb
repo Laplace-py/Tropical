{
 "cells": [
  {
   "cell_type": "code",
   "execution_count": 2,
   "metadata": {},
   "outputs": [],
   "source": [
    "\n",
    "import sklearn as SK\n",
    "import lightgbm as lgb\n",
    "from sklearn.metrics import *\n",
    "from sklearn.metrics import confusion_matrix\n",
    "from sklearn.model_selection import *\n",
    "from skopt import BayesSearchCV\n",
    "import numpy as np\n",
    "import pandas as pd\n",
    "import scipy.stats\n",
    "from math import sqrt\n",
    "import os \n",
    "import io\n",
    "from tensorboard.plugins.hparams import api as hp\n",
    "from utils import utils\n",
    "\n",
    "commons = utils.Commons()\n",
    "ml_helper = utils.ML_Helper()\n",
    "modelGen = utils.Model_Generator()\n",
    "Bayes = utils.BayesSearch_Helper()\n",
    "ml_helper.model_type = ml_helper.Regression # Always set this variable to the type of model you are building\n",
    "Bayes.model_type = ml_helper.model_type\n",
    "os.environ[\"TF_CPP_MIN_LOG_LEVEL\"] = \"-1\"\n"
   ]
  },
  {
   "cell_type": "code",
   "execution_count": null,
   "metadata": {},
   "outputs": [],
   "source": [
    "#Inport train, validation and test sets\n",
    "# Available Models are (LGBM,SVM,RF)\n",
    "\n",
    "FOLD = 0 # 0-5 -4\n",
    "\n",
    "GLOBAL_NUMBER_OF_TASKS = 8\n",
    "PATH = \".\\data\\Eufrasia\\splits\\Random\"\n",
    "\n",
    "TASK_START = 2\n",
    "LOCAL_NUM_TASKS = 1\n",
    "SMILES_COL = 'SMILES'\n",
    "SPLITS = [\"train\",\"val\",\"test\"]\n",
    "\n",
    "#USE_DEFAULT_PARAMS = True\n",
    "\n",
    "RADIUS = 2 #diameter 4\n",
    "FP_SIZE = 2048  #bit string size\n",
    "FEAT = False #used when you consider pharmacophoric features\n",
    "#BUILD_PARAMS = {\"fp_size\":FP_SIZE,\"radius\":RADIUS,\"feat\":FEAT,\"path\":PATH,\"global_tasks\":GLOBAL_NUMBER_OF_TASKS,\"smiles_col\":SMILES_COL,\"task_start\":TASK_START,\"local_num_tasks\":LOCAL_NUM_TASKS,\"which_splits\":SPLITS,\"fold\":FOLD,\"useDefaultParams\":USE_DEFAULT_PARAMS,\"selected_model\":ml_helper.model_type}\n",
    "\n",
    "\n",
    "#This is an example of how to use the functions, you can change non constant parameters to fit your needs\n",
    "SELECTED_MODELS = [\"lgbm\",\"rf\",\"svm\"]\n",
    "for SELECTED_MODEL in SELECTED_MODELS:\n",
    "    for (df,y_data,smiles),which_split in commons.load_dataset_list(PATH, GLOBAL_NUMBER_OF_TASKS, SMILES_COL, TASK_START, LOCAL_NUM_TASKS, SPLITS, FOLD):\n",
    "        x_data,y_data = commons.setML_FPs(smiles,y_data,FP_SIZE, RADIUS, FEAT)\n",
    "        print(x_data.shape,y_data.shape)\n",
    "        text,df = Bayes.get_Stats(SELECTED_MODEL,x_data,y_data)\n",
    "        print(text)\n",
    "        df[\"Selected Model\"] = SELECTED_MODEL\n",
    "        df[\"Split\"] = which_split\n",
    "        df[\"Fold\"] = FOLD\n",
    "        df.to_csv(f\"results_for_{SELECTED_MODEL}.csv\",index=False)\n",
    "    # all_df = None\n",
    "    # for df,split in buildThenFitThenGetStats(**BUILD_PARAMS):\n",
    "    #     all_df = pd.concat([all_df,df],ignore_index=True)\n",
    "    # all_df.to_csv(f\"results_for_{SELECTED_MODEL}.csv\",index=False)"
   ]
  },
  {
   "cell_type": "code",
   "execution_count": null,
   "metadata": {},
   "outputs": [],
   "source": [
    "# calculate ECFP (defaut) fingerprints using RDKit\n",
    "# RADIUS = 2 #diameter 4\n",
    "# FP_SIZE = 2048  #bit string size\n",
    "# FEAT = False #used when you consider pharmacophoric features\n",
    "# def assign_fingerprints(smiles,fp_size,radius,feat):\n",
    "#     return commons.assing_fp(smiles,fp_size,radius,feat)\n",
    "# X_train = commons.assing_fp(train_smiles,FP_SIZE,RADIUS,FEAT)\n",
    "# X_test = commons.assing_fp(test_smiles,FP_SIZE,RADIUS,FEAT)\n",
    "\n",
    "# y_train = y_train.ravel()\n",
    "# y_train = np.array(y_train).astype(int)\n",
    "# y_test = y_test.ravel()\n",
    "# y_test = np.array(y_test).astype(int)\n"
   ]
  },
  {
   "cell_type": "code",
   "execution_count": null,
   "metadata": {},
   "outputs": [],
   "source": [
    "\n",
    "# cv = RepeatedStratifiedKFold(n_splits=5, n_repeats=3, random_state=1)\n",
    "# scorer = make_scorer(mean_squared_error)\n",
    "\n",
    "# build_model = model_generator.Models[SELECTED_MODEL]\n",
    "# CLASSIFIER = build_model[\"classifier\"]\n",
    "# PARAMS = build_model[\"params\"]\n",
    "\n",
    "# log-uniform: understand as search over p = exp(x) by varying x\n",
    "\n",
    "# best_model = BayesSearchCV(CLASSIFIER,\n",
    "#     PARAMS,\n",
    "#     n_iter=1, # Number of parameter settings that are sampled\n",
    "#     cv=cv,\n",
    "#     scoring = scorer,\n",
    "#     refit = True, # Refit the best estimator with the entire dataset.\n",
    "#     random_state=42,\n",
    "#     n_jobs = -1\n",
    "# )\n",
    "\n",
    "# best_model.fit(X_train, y_train)\n",
    "\n",
    "# print(\"Best parameters: %s\" % best_model.best_params_)"
   ]
  },
  {
   "cell_type": "code",
   "execution_count": null,
   "metadata": {},
   "outputs": [],
   "source": [
    "#RF best parameters: {'max_depth': 5, 'max_features': 'sqrt', 'n_estimators': 140}\n",
    "#SVM best parameters: {'C': 0.001, 'gamma': 0.001, 'kernel': 'rbf'}\n",
    "#LGBM best parameters: {'learning_rate': 0.04690935629679825, 'max_depth': 8, 'n_estimators': 47, 'num_leaves': 5, 'subsample': 0.23402958965378692}\n",
    "# model = CLASSIFIER.set_params(**best_model.best_params_)\n",
    "# model.probability = True\n",
    "# model.fit(X_train, y_train)\n"
   ]
  },
  {
   "cell_type": "code",
   "execution_count": null,
   "metadata": {},
   "outputs": [],
   "source": [
    "#text = ml_helper.get_ML_StatsForNSplits(model,X_train=X_train,y_train=y_train,X_test=X_test,y_test=y_test)"
   ]
  },
  {
   "cell_type": "code",
   "execution_count": null,
   "metadata": {},
   "outputs": [],
   "source": [
    "# with open(f\"results_for {SELECTED_MODEL}.txt\", \"a+\") as f:\n",
    "#     in_this_task = training[task].replace(\"train\",\"\").replace(path,\"\").replace(\".csv\",\"\").replace(\"/\",\"\").replace(f\"__{FOLD}\",\"\")\n",
    "#     f.write(f\"{in_this_task} Fold {FOLD}:\\n {text}\\r\")"
   ]
  }
 ],
 "metadata": {
  "kernelspec": {
   "display_name": "AI",
   "language": "python",
   "name": "python3"
  },
  "language_info": {
   "codemirror_mode": {
    "name": "ipython",
    "version": 3
   },
   "file_extension": ".py",
   "mimetype": "text/x-python",
   "name": "python",
   "nbconvert_exporter": "python",
   "pygments_lexer": "ipython3",
   "version": "3.9.12"
  },
  "orig_nbformat": 4,
  "vscode": {
   "interpreter": {
    "hash": "305c663c06086012150402cb542001f2c1c554dcd7eca29927fc1d739b83f0a9"
   }
  }
 },
 "nbformat": 4,
 "nbformat_minor": 2
}
