{
 "cells": [
  {
   "cell_type": "code",
   "execution_count": null,
   "id": "3c1661c2",
   "metadata": {},
   "outputs": [],
   "source": [
    "#Import standard packages for model training\n",
    "\n",
    "import tensorflow as T\n",
    "from tensorflow import *\n",
    "from tensorflow.keras import initializers\n",
    "from tensorflow.keras import regularizers\n",
    "from tensorflow.keras import layers\n",
    "from tensorflow.keras.layers import *\n",
    "from tensorflow.keras.optimizers import *\n",
    "from tensorflow.keras.callbacks import *\n",
    "from tensorflow.keras.losses import *\n",
    "import numpy as np\n",
    "import pandas as pd\n",
    "import sklearn.metrics as SK\n",
    "from sklearn.metrics import *\n",
    "import matplotlib.pyplot as plt\n",
    "import os \n",
    "import io\n",
    "from utils import utils\n",
    "from utils.GPU import *\n",
    "commons = utils.Commons()\n",
    "ts_helper = utils.TS_Helper()\n",
    "shap_helper = utils.Shap_Helper()\n",
    "os.environ[\"TF_CPP_MIN_LOG_LEVEL\"] = \"2\""
   ]
  },
  {
   "cell_type": "code",
   "execution_count": 5,
   "id": "452c3db9",
   "metadata": {},
   "outputs": [
    {
     "name": "stdout",
     "output_type": "stream",
     "text": [
      "Loaded dataset ./data/Classification/T.cruzi/scaffold_split/train_fold_0.csv with shape: (4914, 3)\n",
      "Loaded dataset ./data/Classification/T.cruzi/scaffold_split/valid_fold_1.csv with shape: (615, 3)\n",
      "Loaded dataset ./data/Classification/T.cruzi/scaffold_split/test_fold_2.csv with shape: (614, 3)\n"
     ]
    },
    {
     "data": {
      "text/html": [
       "<div>\n",
       "<style scoped>\n",
       "    .dataframe tbody tr th:only-of-type {\n",
       "        vertical-align: middle;\n",
       "    }\n",
       "\n",
       "    .dataframe tbody tr th {\n",
       "        vertical-align: top;\n",
       "    }\n",
       "\n",
       "    .dataframe thead th {\n",
       "        text-align: right;\n",
       "    }\n",
       "</style>\n",
       "<table border=\"1\" class=\"dataframe\">\n",
       "  <thead>\n",
       "    <tr style=\"text-align: right;\">\n",
       "      <th></th>\n",
       "      <th>ID</th>\n",
       "      <th>SMILES</th>\n",
       "      <th>T.cruzi</th>\n",
       "    </tr>\n",
       "  </thead>\n",
       "  <tbody>\n",
       "    <tr>\n",
       "      <th>0</th>\n",
       "      <td>596</td>\n",
       "      <td>[H]N(C(=O)C1=C([H])C([H])=C([H])S1)C1=C(OC([H]...</td>\n",
       "      <td>1</td>\n",
       "    </tr>\n",
       "    <tr>\n",
       "      <th>1</th>\n",
       "      <td>5514</td>\n",
       "      <td>[H]N1C(=O)N(C([H])=C(F)C1=O)C1([H])OC([H])(C([...</td>\n",
       "      <td>0</td>\n",
       "    </tr>\n",
       "    <tr>\n",
       "      <th>2</th>\n",
       "      <td>916</td>\n",
       "      <td>[H]C1=C([H])N(C([H])=N1)C1=C([H])C([H])=C(C([H...</td>\n",
       "      <td>1</td>\n",
       "    </tr>\n",
       "    <tr>\n",
       "      <th>3</th>\n",
       "      <td>5413</td>\n",
       "      <td>[H]SC1=NN=C(N1C1([H])C([H])([H])C([H])([H])C([...</td>\n",
       "      <td>0</td>\n",
       "    </tr>\n",
       "    <tr>\n",
       "      <th>4</th>\n",
       "      <td>547</td>\n",
       "      <td>[H]C1=NC([H])=C(C([H])=C1[H])N(C1=C([H])C([H])...</td>\n",
       "      <td>1</td>\n",
       "    </tr>\n",
       "  </tbody>\n",
       "</table>\n",
       "</div>"
      ],
      "text/plain": [
       "     ID                                             SMILES  T.cruzi\n",
       "0   596  [H]N(C(=O)C1=C([H])C([H])=C([H])S1)C1=C(OC([H]...        1\n",
       "1  5514  [H]N1C(=O)N(C([H])=C(F)C1=O)C1([H])OC([H])(C([...        0\n",
       "2   916  [H]C1=C([H])N(C([H])=N1)C1=C([H])C([H])=C(C([H...        1\n",
       "3  5413  [H]SC1=NN=C(N1C1([H])C([H])([H])C([H])([H])C([...        0\n",
       "4   547  [H]C1=NC([H])=C(C([H])=C1[H])N(C1=C([H])C([H])...        1"
      ]
     },
     "execution_count": 5,
     "metadata": {},
     "output_type": "execute_result"
    }
   ],
   "source": [
    "#Import train, validation and test sets\n",
    "\n",
    "training = './data/Classification/T.cruzi/scaffold_split/train_fold_0.csv'\n",
    "validation = './data/Classification/T.cruzi/scaffold_split/valid_fold_1.csv'\n",
    "test = './data/Classification/T.cruzi/scaffold_split/test_fold_2.csv'\n",
    "TASK_START = 2\n",
    "NUM_TASKS = 1\n",
    "\n",
    "train_dataset,y_train = commons.load_dataset(training,TASK_START,NUM_TASKS)\n",
    "val_dataset,y_val = commons.load_dataset(validation,TASK_START,NUM_TASKS)\n",
    "test_dataset,y_test = commons.load_dataset(test,TASK_START,NUM_TASKS)\n",
    "train_dataset.head()"
   ]
  },
  {
   "cell_type": "code",
   "execution_count": 8,
   "id": "6ce4554d",
   "metadata": {},
   "outputs": [
    {
     "name": "stdout",
     "output_type": "stream",
     "text": [
      "array(['[H]N(C(=O)C1=C([H])C([H])=C([H])S1)C1=C(OC([H])([H])[H])C([H])=C([H])C(=C1[H])C1=NC2=C(O1)C([H])=C([H])C([H])=N2',\n",
      "       '[H]N1C(=O)N(C([H])=C(F)C1=O)C1([H])OC([H])(C([H])([H])OC(=O)C([H])([H])[H])C([H])(OC(=O)C([H])([H])[H])C1([H])OC(=O)C([H])([H])[H]',\n",
      "       '[H]C1=C([H])N(C([H])=N1)C1=C([H])C([H])=C(C([H])=C1[H])C([H])([H])N1C([H])([H])C([H])([H])N(C([H])([H])C1([H])[H])S(=O)(=O)C1=C(C([H])=C([H])C([H])=C1[H])C(F)(F)F',\n",
      "       ...,\n",
      "       '[H]N(C(=O)C([H])=C([H])C1=C(Cl)C([H])=C([H])C([H])=C1F)C1=NC([H])=C([H])C([H])=N1',\n",
      "       '[H]C1=C([H])C([H])=C(C([H])=C1[H])N1C2=C(C([H])=C(OC(=O)C3=C([H])C(OC([H])([H])[H])=C(OC([H])([H])[H])C(OC([H])([H])[H])=C3[H])C([H])=C2[H])C(C(=O)OC([H])([H])C([H])([H])[H])=C1C([H])([H])[H]',\n",
      "       '[H]N(C(=O)C([H])(N1C([H])=C([H])C([H])=C([H])C1=O)C(=O)C1=C([H])C([H])=C(F)C([H])=C1[H])C([H])([H])C1=NC([H])=C([H])C([H])=C1[H]'],\n",
      "      dtype=object)\n",
      "Graph (including self-loops):\n",
      "\tatom features\t (42, 29)\n",
      "\tbond features\t (128, 7)\n",
      "\tpair indices\t (128, 2)\n"
     ]
    }
   ],
   "source": [
    "#Import atom and bond featurizers\n",
    "\n",
    "from utils.graphs import *\n",
    "\n",
    "X_train = graphs_from_smiles(train_dataset.iloc[:,NUM_TASKS].values)\n",
    "print(train_dataset.iloc[:,NUM_TASKS].values)\n",
    "X_test = graphs_from_smiles(test_dataset.iloc[:,NUM_TASKS].values)\n",
    "\n",
    "X_val = graphs_from_smiles(val_dataset.iloc[:,NUM_TASKS].values)\n",
    "\n",
    "molecule = molecule_from_smiles(train_dataset.iloc[8].SMILES)\n",
    "graph = graph_from_molecule(molecule)\n",
    "print(\"Graph (including self-loops):\")\n",
    "print(\"\\tatom features\\t\", graph[0].shape)\n",
    "print(\"\\tbond features\\t\", graph[1].shape)\n",
    "print(\"\\tpair indices\\t\", graph[2].shape)"
   ]
  },
  {
   "cell_type": "code",
   "execution_count": null,
   "id": "c47cd610",
   "metadata": {
    "scrolled": true
   },
   "outputs": [],
   "source": [
    "# Import parameters for batch, MPNN, loss and scorers\n",
    "\n",
    "batch_size =48\n",
    "dense_units = 50\n",
    "\n",
    "from utils.batch import *\n",
    "from utils.MPNN import *\n",
    "from utils.utils import *\n",
    "\n",
    "\n",
    "# parameters for train network\n",
    "\n",
    "def MPNNModel(atom_dim,\n",
    "    bond_dim,\n",
    "    batch_size=batch_size,\n",
    "    message_units=48,\n",
    "    message_steps=8,\n",
    "    num_attention_heads=16,\n",
    "    dense_units=dense_units):\n",
    "\n",
    "    atom_features = layers.Input((atom_dim), dtype=\"float32\", name=\"atom_features\")\n",
    "    bond_features = layers.Input((bond_dim), dtype=\"float32\", name=\"bond_features\")\n",
    "    pair_indices = layers.Input((2), dtype=\"int32\", name=\"pair_indices\")\n",
    "    molecule_indicator = layers.Input((), dtype=\"int32\", name=\"molecule_indicator\")\n",
    "\n",
    "    x = MessagePassing(message_units, message_steps)([atom_features, bond_features, pair_indices])\n",
    "    x = TransformerEncoderReadout(num_attention_heads, message_units, dense_units, batch_size)([x, molecule_indicator])\n",
    "    x = layers.Dense(10, activation=\"sigmoid\", kernel_regularizer=T.keras.regularizers.L2(0.05))(x)\n",
    "\n",
    "    \n",
    "    model = keras.Model(inputs=[atom_features, bond_features, pair_indices, molecule_indicator],\n",
    "        outputs=[x])\n",
    "    return model\n",
    "    \n",
    "\n",
    "\n",
    "optimizer = RMSprop(0.1, momentum=0.99)\n",
    "lr_metric = ts_helper.get_lr_metric(optimizer)   \n",
    "\n",
    "model = MPNNModel(atom_dim=X_train[0][0][0].shape[0], bond_dim=X_train[1][0][0].shape[0])\n",
    "model.compile(loss = ts_helper.classification_loss(ts_helper.BinaryCrossentropy), metrics=[lr_metric])   \n",
    "model.summary()\n",
    "T.keras.utils.plot_model(model)"
   ]
  },
  {
   "cell_type": "code",
   "execution_count": null,
   "id": "0d0d0455",
   "metadata": {
    "scrolled": true
   },
   "outputs": [],
   "source": [
    "# Early stopping parameters\n",
    "\n",
    "train_dataset = MPNNDataset(X_train, y_train, batch_size)\n",
    "val_dataset = MPNNDataset(X_val, y_val, batch_size)\n",
    "test_dataset = MPNNDataset(X_test, y_test, batch_size)\n",
    "\n",
    "callbacks_list = [\n",
    "    ReduceLROnPlateau(monitor='loss', factor=0.5, patience=10, min_lr=0.000000001, verbose=1, mode='auto',cooldown=0),\n",
    "    #ModelCheckpoint(filepath=\"./models/fine_tuned_model2.tf\", monitor='val_loss', save_best_only=True, verbose=1, mode='auto'),\n",
    "    EarlyStopping(monitor='val_loss', min_delta=0.001, patience=10, mode='min', verbose=1)]\n",
    "\n",
    "# parameters for train network\n",
    "\n",
    "epochs = 2000\n",
    "\n",
    "history = model.fit(train_dataset,\n",
    "                    epochs=epochs,\n",
    "                    batch_size=batch_size,\n",
    "                    validation_data=val_dataset,                    \n",
    "                    callbacks=(callbacks_list))\n"
   ]
  },
  {
   "cell_type": "code",
   "execution_count": null,
   "id": "9da804fd",
   "metadata": {
    "scrolled": true
   },
   "outputs": [],
   "source": [
    "#Plot model history\n",
    "\n",
    "ts_helper.plot_history(history)"
   ]
  },
  {
   "cell_type": "code",
   "execution_count": null,
   "id": "059e867d",
   "metadata": {
    "scrolled": true
   },
   "outputs": [],
   "source": [
    "#Statistical characteristics of tasks\n",
    "THRESHOLD = 0.5\n",
    "ts_helper.get_modelStats(model,X_train,X_test,X_val,y_train,y_val,y_test,NUM_TASKS,THRESHOLD)"
   ]
  },
  {
   "cell_type": "code",
   "execution_count": null,
   "id": "7817d7ba",
   "metadata": {},
   "outputs": [],
   "source": []
  }
 ],
 "metadata": {
  "kernelspec": {
   "display_name": "AI",
   "language": "python",
   "name": "python3"
  },
  "language_info": {
   "codemirror_mode": {
    "name": "ipython",
    "version": 3
   },
   "file_extension": ".py",
   "mimetype": "text/x-python",
   "name": "python",
   "nbconvert_exporter": "python",
   "pygments_lexer": "ipython3",
   "version": "3.9.12"
  },
  "vscode": {
   "interpreter": {
    "hash": "305c663c06086012150402cb542001f2c1c554dcd7eca29927fc1d739b83f0a9"
   }
  }
 },
 "nbformat": 4,
 "nbformat_minor": 5
}
