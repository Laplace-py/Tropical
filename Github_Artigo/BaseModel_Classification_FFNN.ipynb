{
 "cells": [
  {
   "cell_type": "code",
   "execution_count": null,
   "id": "539345d1",
   "metadata": {
    "scrolled": true
   },
   "outputs": [],
   "source": [
    "#Import standard packages for model training\n",
    "\n",
    "import tensorflow as T\n",
    "from tensorflow import *\n",
    "from tensorflow.keras import initializers\n",
    "from tensorflow.keras import regularizers\n",
    "from tensorflow.keras import layers\n",
    "from tensorflow.keras.layers import *\n",
    "from tensorflow.keras.optimizers import *\n",
    "from tensorflow.keras.callbacks import *\n",
    "from tensorflow.keras.losses import *\n",
    "import numpy as np\n",
    "import pandas as pd\n",
    "import sklearn.metrics as SK\n",
    "from sklearn.metrics import *\n",
    "import matplotlib.pyplot as plt\n",
    "import os \n",
    "import io\n",
    "from utils.GPU import *\n",
    "from utils import utils\n",
    "import tabulate\n",
    "commons = utils.Commons()\n",
    "ts_helper = utils.TS_Helper()\n",
    "shap_helper = utils.Shap_Helper()\n",
    "os.environ[\"TF_CPP_MIN_LOG_LEVEL\"] = \"2\""
   ]
  },
  {
   "cell_type": "code",
   "execution_count": null,
   "id": "dbf80ac7",
   "metadata": {
    "scrolled": true
   },
   "outputs": [],
   "source": [
    "#Import train, validation and test sets\n",
    "\n",
    "training = './data/classification/Tb.brucei/random_split/train_fold_4.csv'\n",
    "validation = './data/classification/Tb.brucei/random_split/valid_fold_4.csv'\n",
    "test = './data/classification/Tb.brucei/random_split/test_fold_4.csv'\n",
    "TASK_START = 2\n",
    "NUM_TASKS = 1\n",
    "\n",
    "train_dataset,y_train = commons.load_dataset(training,TASK_START,NUM_TASKS)\n",
    "validation_dataset,y_val = commons.load_dataset(validation,TASK_START,NUM_TASKS)\n",
    "test_dataset,y_test = commons.load_dataset(test,TASK_START,NUM_TASKS)\n",
    "\n",
    "train_dataset.head()"
   ]
  },
  {
   "cell_type": "code",
   "execution_count": null,
   "id": "dc355297",
   "metadata": {
    "scrolled": true
   },
   "outputs": [],
   "source": [
    "# calculate ECFP (defaut) fingerprints using RDKit\n",
    "FP_SIZE = 2048  #bit string size\n",
    "RADIUS = 2 #diameter 4\n",
    "FEAT = False #used when you consider pharmacophoric features\n",
    "\n",
    "train_smiles = train_dataset[\"SMILES\"].values\n",
    "val_smiles = validation_dataset[\"SMILES\"].values\n",
    "test_smiles = test_dataset[\"SMILES\"].values\n",
    "\n",
    "X_train = commons.assing_fp(train_smiles,FP_SIZE,RADIUS,FEAT)\n",
    "X_val = commons.assing_fp(val_smiles,FP_SIZE,RADIUS,FEAT)\n",
    "X_test = commons.assing_fp(test_smiles,FP_SIZE,RADIUS,FEAT)\n",
    "\n",
    "X_train.shape, X_val.shape, X_test.shape"
   ]
  },
  {
   "cell_type": "code",
   "execution_count": null,
   "id": "282c103b",
   "metadata": {
    "scrolled": true
   },
   "outputs": [],
   "source": [
    "# custom loss function for missing values in input data (i.e. target labels or values)\n",
    "# parameters for train network\n",
    "\n",
    "bit_vector = X_train.shape[1]\n",
    "\n",
    "def create_model():\n",
    "    return T.keras.models.Sequential([\n",
    "            T.keras.layers.Dense(10,input_dim=bit_vector, activation='LeakyReLU'),\n",
    "            T.keras.layers.Dropout(0.5),\n",
    "            T.keras.layers.Dense(10, activation='LeakyReLU'),\n",
    "            T.keras.layers.Dropout(0.5),\n",
    "            T.keras.layers.Dense(10, activation='LeakyReLU'),\n",
    "            T.keras.layers.Dropout(0.3),\n",
    "            T.keras.layers.Dense(NUM_TASKS, activation='sigmoid'),\n",
    "            ])\n",
    "\n",
    "\n",
    "\n",
    "optimizer = RMSprop(0.1)\n",
    "lr_metric = ts_helper.get_lr_metric(optimizer)\n",
    "\n",
    "model = create_model()\n",
    "model.compile(loss = ts_helper.classification_loss(ts_helper.BinaryCrossentropy), metrics = [lr_metric])    \n",
    "model.summary()\n",
    "T.keras.utils.plot_model(model)"
   ]
  },
  {
   "cell_type": "code",
   "execution_count": null,
   "id": "6c204f9a",
   "metadata": {
    "scrolled": true
   },
   "outputs": [],
   "source": [
    "# Early stopping parameters\n",
    "\n",
    "callbacks_list = [\n",
    "    ReduceLROnPlateau(monitor='loss', factor=0.5, patience=5, min_lr=0.00000001, verbose=1, mode='auto',cooldown=0),\n",
    "    ModelCheckpoint(filepath=\"./models/TM-FNN_classification_model.hdf5\", monitor='val_loss', save_best_only=True, verbose=1, mode='auto'),\n",
    "    EarlyStopping(monitor='val_loss', min_delta=0.001, patience=5, mode='min', verbose=1)]\n",
    "\n",
    "\n",
    "# parameters for train network\n",
    "\n",
    "epochs=2000\n",
    "batch_size=10\n",
    "\n",
    "\n",
    "history = model.fit(X_train, y_train, \n",
    "                    epochs=epochs,\n",
    "                    batch_size=batch_size,\n",
    "                    validation_data=(X_val, y_val),\n",
    "                    callbacks=(callbacks_list))"
   ]
  },
  {
   "cell_type": "code",
   "execution_count": null,
   "id": "bab0eb2d",
   "metadata": {
    "scrolled": true
   },
   "outputs": [],
   "source": [
    "#Plot model history\n",
    "\n",
    "ts_helper.plot_history(history)"
   ]
  },
  {
   "cell_type": "code",
   "execution_count": null,
   "id": "86915614",
   "metadata": {
    "scrolled": false
   },
   "outputs": [],
   "source": [
    "#Statistical characteristics of tasks\n",
    "\n",
    "THRESHOLD = 0.5\n",
    "ts_helper.get_modelStats(model,X_train,X_test,X_val,y_train,y_val,y_test,NUM_TASKS,THRESHOLD)"
   ]
  }
 ],
 "metadata": {
  "kernelspec": {
   "display_name": "AI",
   "language": "python",
   "name": "python3"
  },
  "language_info": {
   "codemirror_mode": {
    "name": "ipython",
    "version": 3
   },
   "file_extension": ".py",
   "mimetype": "text/x-python",
   "name": "python",
   "nbconvert_exporter": "python",
   "pygments_lexer": "ipython3",
   "version": "3.9.12"
  },
  "vscode": {
   "interpreter": {
    "hash": "305c663c06086012150402cb542001f2c1c554dcd7eca29927fc1d739b83f0a9"
   }
  }
 },
 "nbformat": 4,
 "nbformat_minor": 5
}
