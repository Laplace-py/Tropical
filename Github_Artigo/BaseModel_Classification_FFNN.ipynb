{
 "cells": [
  {
   "cell_type": "code",
   "execution_count": 1,
   "id": "539345d1",
   "metadata": {
    "scrolled": true
   },
   "outputs": [
    {
     "name": "stdout",
     "output_type": "stream",
     "text": [
      "  tensorlayer: GPU MEM Fraction 0.900000\n",
      "Num GPUs Available:  0\n"
     ]
    }
   ],
   "source": [
    "#Import standard packages for model training\n",
    "\n",
    "import tensorflow as T\n",
    "from tensorflow import *\n",
    "from tensorflow.keras import initializers\n",
    "from tensorflow.keras import regularizers\n",
    "from tensorflow.keras import layers\n",
    "from tensorflow.keras.layers import *\n",
    "from tensorflow.keras.optimizers import *\n",
    "from tensorflow.keras.callbacks import *\n",
    "from tensorflow.keras.losses import *\n",
    "import numpy as np\n",
    "import pandas as pd\n",
    "import sklearn.metrics as SK\n",
    "from sklearn.metrics import *\n",
    "import matplotlib.pyplot as plt\n",
    "import os \n",
    "import io\n",
    "from utils.GPU import *\n",
    "from utils import utils\n",
    "import tabulate\n",
    "\n",
    "commons = utils.Commons()\n",
    "ts_helper = utils.TS_Helper()\n",
    "ts_helper.model_type = ts_helper.Classification\n",
    "shap_helper = utils.Shap_Helper()\n",
    "\n",
    "os.environ[\"TF_CPP_MIN_LOG_LEVEL\"] = \"2\""
   ]
  },
  {
   "cell_type": "code",
   "execution_count": 2,
   "id": "dbf80ac7",
   "metadata": {
    "scrolled": true
   },
   "outputs": [
    {
     "name": "stdout",
     "output_type": "stream",
     "text": [
      "Loaded dataset ./data/classification/Tb.brucei/random_split/train_fold_4.csv with shape: (1051, 3)\n",
      "Loaded dataset ./data/classification/Tb.brucei/random_split/valid_fold_4.csv with shape: (132, 3)\n",
      "Loaded dataset ./data/classification/Tb.brucei/random_split/test_fold_4.csv with shape: (131, 3)\n"
     ]
    },
    {
     "data": {
      "text/html": [
       "<div>\n",
       "<style scoped>\n",
       "    .dataframe tbody tr th:only-of-type {\n",
       "        vertical-align: middle;\n",
       "    }\n",
       "\n",
       "    .dataframe tbody tr th {\n",
       "        vertical-align: top;\n",
       "    }\n",
       "\n",
       "    .dataframe thead th {\n",
       "        text-align: right;\n",
       "    }\n",
       "</style>\n",
       "<table border=\"1\" class=\"dataframe\">\n",
       "  <thead>\n",
       "    <tr style=\"text-align: right;\">\n",
       "      <th></th>\n",
       "      <th>ID</th>\n",
       "      <th>SMILES</th>\n",
       "      <th>Tb.brucei</th>\n",
       "    </tr>\n",
       "  </thead>\n",
       "  <tbody>\n",
       "    <tr>\n",
       "      <th>0</th>\n",
       "      <td>128</td>\n",
       "      <td>CC1(O)C2=CC=CC=C2C2=C1C(OCC(F)(F)F)=NC1=CC=C(B...</td>\n",
       "      <td>1.0</td>\n",
       "    </tr>\n",
       "    <tr>\n",
       "      <th>1</th>\n",
       "      <td>821</td>\n",
       "      <td>CC(CNC(=O)NC1=CC=C(F)C=C1)N1CCC(C)CC1</td>\n",
       "      <td>1.0</td>\n",
       "    </tr>\n",
       "    <tr>\n",
       "      <th>2</th>\n",
       "      <td>189</td>\n",
       "      <td>CCC(C)C(=O)OC1CCC=C2C=CC(C)C(CCC3CC(O)CC(=O)O3...</td>\n",
       "      <td>1.0</td>\n",
       "    </tr>\n",
       "    <tr>\n",
       "      <th>3</th>\n",
       "      <td>983</td>\n",
       "      <td>NC1=NC(NCCCNCCCCCCCCCCCCNCCCNC2=NC(N)=NC(N)=N2...</td>\n",
       "      <td>0.0</td>\n",
       "    </tr>\n",
       "    <tr>\n",
       "      <th>4</th>\n",
       "      <td>218</td>\n",
       "      <td>CC1=CC=C(C=C1)S(=O)(=O)NCCCN1C=NC(=N1)[N+]([O-...</td>\n",
       "      <td>1.0</td>\n",
       "    </tr>\n",
       "  </tbody>\n",
       "</table>\n",
       "</div>"
      ],
      "text/plain": [
       "    ID                                             SMILES  Tb.brucei\n",
       "0  128  CC1(O)C2=CC=CC=C2C2=C1C(OCC(F)(F)F)=NC1=CC=C(B...        1.0\n",
       "1  821              CC(CNC(=O)NC1=CC=C(F)C=C1)N1CCC(C)CC1        1.0\n",
       "2  189  CCC(C)C(=O)OC1CCC=C2C=CC(C)C(CCC3CC(O)CC(=O)O3...        1.0\n",
       "3  983  NC1=NC(NCCCNCCCCCCCCCCCCNCCCNC2=NC(N)=NC(N)=N2...        0.0\n",
       "4  218  CC1=CC=C(C=C1)S(=O)(=O)NCCCN1C=NC(=N1)[N+]([O-...        1.0"
      ]
     },
     "execution_count": 2,
     "metadata": {},
     "output_type": "execute_result"
    }
   ],
   "source": [
    "#Import train, validation and test sets\n",
    "\n",
    "training = './data/classification/Tb.brucei/random_split/train_fold_4.csv'\n",
    "validation = './data/classification/Tb.brucei/random_split/valid_fold_4.csv'\n",
    "test = './data/classification/Tb.brucei/random_split/test_fold_4.csv'\n",
    "TASK_START = 2\n",
    "NUM_TASKS = 1\n",
    "SMILES = 'SMILES'\n",
    "train_dataset,y_train,train_smiles = commons.load_dataset(training,SMILES,TASK_START,NUM_TASKS)\n",
    "validation_dataset,y_val,val_smiles = commons.load_dataset(validation,SMILES,TASK_START,NUM_TASKS)\n",
    "test_dataset,y_test,test_smiles = commons.load_dataset(test,SMILES,TASK_START,NUM_TASKS)\n",
    "\n",
    "train_dataset.head()"
   ]
  },
  {
   "cell_type": "code",
   "execution_count": 3,
   "id": "dc355297",
   "metadata": {
    "scrolled": true
   },
   "outputs": [
    {
     "data": {
      "text/plain": [
       "((1051, 2048), (132, 2048), (131, 2048))"
      ]
     },
     "execution_count": 3,
     "metadata": {},
     "output_type": "execute_result"
    }
   ],
   "source": [
    "# calculate ECFP (defaut) fingerprints using RDKit\n",
    "FP_SIZE = 2048  #bit string size\n",
    "RADIUS = 2 #diameter 4\n",
    "FEAT = False #used when you consider pharmacophoric features\n",
    "\n",
    "X_train = commons.assing_fp(train_smiles,FP_SIZE,RADIUS,FEAT)\n",
    "X_val = commons.assing_fp(val_smiles,FP_SIZE,RADIUS,FEAT)\n",
    "X_test = commons.assing_fp(test_smiles,FP_SIZE,RADIUS,FEAT)\n",
    "\n",
    "X_train.shape, X_val.shape, X_test.shape"
   ]
  },
  {
   "cell_type": "code",
   "execution_count": 4,
   "id": "282c103b",
   "metadata": {
    "scrolled": true
   },
   "outputs": [
    {
     "name": "stdout",
     "output_type": "stream",
     "text": [
      "Model: \"sequential_1\"\n",
      "_________________________________________________________________\n",
      " Layer (type)                Output Shape              Param #   \n",
      "=================================================================\n",
      " dense (Dense)               (None, 10)                20490     \n",
      "                                                                 \n",
      " dropout (Dropout)           (None, 10)                0         \n",
      "                                                                 \n",
      " dense_1 (Dense)             (None, 10)                110       \n",
      "                                                                 \n",
      " dropout_1 (Dropout)         (None, 10)                0         \n",
      "                                                                 \n",
      " dense_2 (Dense)             (None, 10)                110       \n",
      "                                                                 \n",
      " dropout_2 (Dropout)         (None, 10)                0         \n",
      "                                                                 \n",
      " dense_3 (Dense)             (None, 1)                 11        \n",
      "                                                                 \n",
      "=================================================================\n",
      "Total params: 20,721\n",
      "Trainable params: 20,721\n",
      "Non-trainable params: 0\n",
      "_________________________________________________________________\n"
     ]
    },
    {
     "data": {
      "image/png": "[encoded data removed]",
      "text/plain": [
       "<IPython.core.display.Image object>"
      ]
     },
     "execution_count": 4,
     "metadata": {},
     "output_type": "execute_result"
    }
   ],
   "source": [
    "# custom loss function for missing values in input data (i.e. target labels or values)\n",
    "# parameters for train network\n",
    "\n",
    "bit_vector = X_train.shape[1]\n",
    "\n",
    "def create_model():\n",
    "    return T.keras.models.Sequential([\n",
    "            T.keras.layers.Dense(10,input_dim=bit_vector, activation='LeakyReLU'),\n",
    "            T.keras.layers.Dropout(0.5),\n",
    "            T.keras.layers.Dense(10, activation='LeakyReLU'),\n",
    "            T.keras.layers.Dropout(0.5),\n",
    "            T.keras.layers.Dense(10, activation='LeakyReLU'),\n",
    "            T.keras.layers.Dropout(0.3),\n",
    "            T.keras.layers.Dense(NUM_TASKS, activation='sigmoid'),\n",
    "            ])\n",
    "\n",
    "\n",
    "\n",
    "optimizer = RMSprop(0.1)\n",
    "lr_metric = ts_helper.get_lr_metric(optimizer)\n",
    "\n",
    "model = create_model()\n",
    "model.compile(loss = ts_helper.classification_loss(ts_helper.BinaryCrossentropy), metrics = [lr_metric])    \n",
    "model.summary()\n",
    "T.keras.utils.plot_model(model)"
   ]
  },
  {
   "cell_type": "code",
   "execution_count": 5,
   "id": "6c204f9a",
   "metadata": {
    "scrolled": true
   },
   "outputs": [
    {
     "name": "stdout",
     "output_type": "stream",
     "text": [
      "Epoch 1/2000\n",
      "102/106 [===========================>..] - ETA: 0s - loss: 0.6918 - lr: 0.1000\n",
      "Epoch 1: val_loss improved from inf to 0.67967, saving model to ./models\\TM-FNN_classification_model.hdf5\n",
      "106/106 [==============================] - 1s 3ms/step - loss: 0.6926 - lr: 0.0010 - val_loss: 0.6797 - val_lr: 0.1000\n",
      "Epoch 2/2000\n",
      " 69/106 [==================>...........] - ETA: 0s - loss: 0.6726 - lr: 0.1000\n",
      "Epoch 2: val_loss improved from 0.67967 to 0.65210, saving model to ./models\\TM-FNN_classification_model.hdf5\n",
      "106/106 [==============================] - 0s 2ms/step - loss: 0.6690 - lr: 0.0010 - val_loss: 0.6521 - val_lr: 0.1000\n",
      "Epoch 3/2000\n",
      " 83/106 [======================>.......] - ETA: 0s - loss: 0.6410 - lr: 0.1000\n",
      "Epoch 3: val_loss improved from 0.65210 to 0.61957, saving model to ./models\\TM-FNN_classification_model.hdf5\n",
      "106/106 [==============================] - 0s 2ms/step - loss: 0.6441 - lr: 0.0010 - val_loss: 0.6196 - val_lr: 0.1000\n",
      "Epoch 4/2000\n",
      " 87/106 [=======================>......] - ETA: 0s - loss: 0.6188 - lr: 0.1000\n",
      "Epoch 4: val_loss improved from 0.61957 to 0.58875, saving model to ./models\\TM-FNN_classification_model.hdf5\n",
      "106/106 [==============================] - 0s 2ms/step - loss: 0.6172 - lr: 0.0010 - val_loss: 0.5887 - val_lr: 0.1000\n",
      "Epoch 5/2000\n",
      " 85/106 [=======================>......] - ETA: 0s - loss: 0.5792 - lr: 0.1000\n",
      "Epoch 5: val_loss improved from 0.58875 to 0.56005, saving model to ./models\\TM-FNN_classification_model.hdf5\n",
      "106/106 [==============================] - 0s 2ms/step - loss: 0.5689 - lr: 0.0010 - val_loss: 0.5600 - val_lr: 0.1000\n",
      "Epoch 6/2000\n",
      " 85/106 [=======================>......] - ETA: 0s - loss: 0.5375 - lr: 0.1000\n",
      "Epoch 6: val_loss improved from 0.56005 to 0.54873, saving model to ./models\\TM-FNN_classification_model.hdf5\n",
      "106/106 [==============================] - 0s 2ms/step - loss: 0.5338 - lr: 0.0010 - val_loss: 0.5487 - val_lr: 0.1000\n",
      "Epoch 7/2000\n",
      " 95/106 [=========================>....] - ETA: 0s - loss: 0.5236 - lr: 0.1000\n",
      "Epoch 7: val_loss improved from 0.54873 to 0.53941, saving model to ./models\\TM-FNN_classification_model.hdf5\n",
      "106/106 [==============================] - 0s 2ms/step - loss: 0.5187 - lr: 0.0010 - val_loss: 0.5394 - val_lr: 0.1000\n",
      "Epoch 8/2000\n",
      " 95/106 [=========================>....] - ETA: 0s - loss: 0.4912 - lr: 0.1000\n",
      "Epoch 8: val_loss improved from 0.53941 to 0.53757, saving model to ./models\\TM-FNN_classification_model.hdf5\n",
      "106/106 [==============================] - 0s 2ms/step - loss: 0.4920 - lr: 0.0010 - val_loss: 0.5376 - val_lr: 0.1000\n",
      "Epoch 9/2000\n",
      " 92/106 [=========================>....] - ETA: 0s - loss: 0.4846 - lr: 0.1000\n",
      "Epoch 9: val_loss did not improve from 0.53757\n",
      "106/106 [==============================] - 0s 1ms/step - loss: 0.4751 - lr: 0.0010 - val_loss: 0.5482 - val_lr: 0.1000\n",
      "Epoch 10/2000\n",
      "106/106 [==============================] - ETA: 0s - loss: 0.4718 - lr: 0.1000\n",
      "Epoch 10: val_loss improved from 0.53757 to 0.52744, saving model to ./models\\TM-FNN_classification_model.hdf5\n",
      "106/106 [==============================] - 0s 1ms/step - loss: 0.4718 - lr: 0.0010 - val_loss: 0.5274 - val_lr: 0.1000\n",
      "Epoch 11/2000\n",
      " 89/106 [========================>.....] - ETA: 0s - loss: 0.4267 - lr: 0.1000\n",
      "Epoch 11: val_loss did not improve from 0.52744\n",
      "106/106 [==============================] - 0s 1ms/step - loss: 0.4420 - lr: 0.0010 - val_loss: 0.5307 - val_lr: 0.1000\n",
      "Epoch 12/2000\n",
      "102/106 [===========================>..] - ETA: 0s - loss: 0.4110 - lr: 0.1000\n",
      "Epoch 12: val_loss did not improve from 0.52744\n",
      "106/106 [==============================] - 0s 1ms/step - loss: 0.4102 - lr: 0.0010 - val_loss: 0.5364 - val_lr: 0.1000\n",
      "Epoch 13/2000\n",
      " 54/106 [==============>...............] - ETA: 0s - loss: 0.4197 - lr: 0.1000\n",
      "Epoch 13: val_loss did not improve from 0.52744\n",
      "106/106 [==============================] - 0s 1ms/step - loss: 0.4143 - lr: 0.0010 - val_loss: 0.5443 - val_lr: 0.1000\n",
      "Epoch 14/2000\n",
      " 54/106 [==============>...............] - ETA: 0s - loss: 0.4118 - lr: 0.1000\n",
      "Epoch 14: val_loss did not improve from 0.52744\n",
      "106/106 [==============================] - 0s 1ms/step - loss: 0.3893 - lr: 0.0010 - val_loss: 0.5464 - val_lr: 0.1000\n",
      "Epoch 15/2000\n",
      " 99/106 [===========================>..] - ETA: 0s - loss: 0.3901 - lr: 0.1000\n",
      "Epoch 15: val_loss did not improve from 0.52744\n",
      "106/106 [==============================] - 0s 1ms/step - loss: 0.3896 - lr: 0.0010 - val_loss: 0.5592 - val_lr: 0.1000\n",
      "Epoch 15: early stopping\n"
     ]
    }
   ],
   "source": [
    "# Early stopping parameters\n",
    "\n",
    "callbacks_list = [\n",
    "    ReduceLROnPlateau(monitor='loss', factor=0.5, patience=5, min_lr=0.00000001, verbose=1, mode='auto',cooldown=0),\n",
    "    ModelCheckpoint(filepath=\"./models/TM-FNN_classification_model.hdf5\", monitor='val_loss', save_best_only=True, verbose=1, mode='auto'),\n",
    "    EarlyStopping(monitor='val_loss', min_delta=0.001, patience=5, mode='min', verbose=1)]\n",
    "\n",
    "\n",
    "# parameters for train network\n",
    "\n",
    "epochs=2000\n",
    "batch_size=10\n",
    "\n",
    "\n",
    "history = model.fit(X_train, y_train, \n",
    "                    epochs=epochs,\n",
    "                    batch_size=batch_size,\n",
    "                    validation_data=(X_val, y_val),\n",
    "                    callbacks=(callbacks_list))"
   ]
  },
  {
   "cell_type": "code",
   "execution_count": 6,
   "id": "bab0eb2d",
   "metadata": {
    "scrolled": true
   },
   "outputs": [
    {
     "data": {
      "image/png": "[encoded data removed]",
      "text/plain": [
       "<Figure size 936x648 with 2 Axes>"
      ]
     },
     "metadata": {
      "needs_background": "light"
     },
     "output_type": "display_data"
    }
   ],
   "source": [
    "#Plot model history\n",
    "\n",
    "ts_helper.plot_history(history)"
   ]
  },
  {
   "cell_type": "code",
   "execution_count": 7,
   "id": "86915614",
   "metadata": {
    "scrolled": false
   },
   "outputs": [
    {
     "name": "stdout",
     "output_type": "stream",
     "text": [
      "Metric for a Classification Model\n",
      "33/33 [==============================] - 0s 686us/step\n",
      "Confusion matrix: [[499  66]\n",
      " [ 56 430]]\n",
      "Statistic       Value\n",
      "-----------  --------\n",
      "Accuracy     0.88392\n",
      "Precision    0.866935\n",
      "Recall       0.884774\n",
      "F1           0.875764\n",
      "MCC          0.766996\n",
      "Kappa        0.766856\n",
      "SE           0.884774\n",
      "SP           0.883186\n",
      "PPV          0.866935\n",
      "NPV          0.899099\n",
      "TPR          0.884774\n",
      "FPR          0.116814\n",
      "[[499  66]\n",
      " [ 56 430]]\n"
     ]
    },
    {
     "data": {
      "image/png": "[encoded data removed]",
      "text/plain": [
       "<Figure size 432x288 with 2 Axes>"
      ]
     },
     "metadata": {
      "needs_background": "light"
     },
     "output_type": "display_data"
    },
    {
     "name": "stdout",
     "output_type": "stream",
     "text": [
      "Metric for a Classification Model\n",
      "5/5 [==============================] - 0s 1ms/step\n",
      "Confusion matrix: [[45 20]\n",
      " [18 48]]\n",
      "Statistic       Value\n",
      "-----------  --------\n",
      "Accuracy     0.709924\n",
      "Precision    0.705882\n",
      "Recall       0.727273\n",
      "F1           0.716418\n",
      "MCC          0.419874\n",
      "Kappa        0.419678\n",
      "SE           0.727273\n",
      "SP           0.692308\n",
      "PPV          0.705882\n",
      "NPV          0.714286\n",
      "TPR          0.727273\n",
      "FPR          0.307692\n",
      "[[45 20]\n",
      " [18 48]]\n"
     ]
    },
    {
     "data": {
      "image/png": "[encoded data removed]",
      "text/plain": [
       "<Figure size 432x288 with 2 Axes>"
      ]
     },
     "metadata": {
      "needs_background": "light"
     },
     "output_type": "display_data"
    },
    {
     "name": "stdout",
     "output_type": "stream",
     "text": [
      "Metric for a Classification Model\n",
      "5/5 [==============================] - 0s 1ms/step\n",
      "Confusion matrix: [[52 20]\n",
      " [15 45]]\n",
      "Statistic       Value\n",
      "-----------  --------\n",
      "Accuracy     0.734848\n",
      "Precision    0.692308\n",
      "Recall       0.75\n",
      "F1           0.72\n",
      "MCC          0.470321\n",
      "Kappa        0.468966\n",
      "SE           0.75\n",
      "SP           0.722222\n",
      "PPV          0.692308\n",
      "NPV          0.776119\n",
      "TPR          0.75\n",
      "FPR          0.277778\n",
      "[[52 20]\n",
      " [15 45]]\n"
     ]
    },
    {
     "data": {
      "image/png": "[encoded data removed]",
      "text/plain": [
       "<Figure size 432x288 with 2 Axes>"
      ]
     },
     "metadata": {
      "needs_background": "light"
     },
     "output_type": "display_data"
    }
   ],
   "source": [
    "#Statistical characteristics of tasks\n",
    "\n",
    "THRESHOLD = 0.5\n",
    "ts_helper.get_modelStatsFor_Train_Test_Validation(model, X_train, y_train, X_test, y_test,X_val, y_val,NUM_TASKS,THRESHOLD)"
   ]
  }
 ],
 "metadata": {
  "kernelspec": {
   "display_name": "AI",
   "language": "python",
   "name": "python3"
  },
  "language_info": {
   "codemirror_mode": {
    "name": "ipython",
    "version": 3
   },
   "file_extension": ".py",
   "mimetype": "text/x-python",
   "name": "python",
   "nbconvert_exporter": "python",
   "pygments_lexer": "ipython3",
   "version": "3.9.12"
  },
  "vscode": {
   "interpreter": {
    "hash": "305c663c06086012150402cb542001f2c1c554dcd7eca29927fc1d739b83f0a9"
   }
  }
 },
 "nbformat": 4,
 "nbformat_minor": 5
}
