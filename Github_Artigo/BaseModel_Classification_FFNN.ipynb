{
 "cells": [
  {
   "cell_type": "code",
   "execution_count": 3,
   "id": "539345d1",
   "metadata": {
    "scrolled": true
   },
   "outputs": [],
   "source": [
    "#Import standard packages for model training\n",
    "\n",
    "import tensorflow as T\n",
    "from tensorflow import *\n",
    "from tensorflow.keras import initializers\n",
    "from tensorflow.keras import regularizers\n",
    "from tensorflow.keras import layers\n",
    "from tensorflow.keras.layers import *\n",
    "from tensorflow.keras.optimizers import *\n",
    "from tensorflow.keras.callbacks import *\n",
    "from tensorflow.keras.losses import *\n",
    "import numpy as np\n",
    "import pandas as pd\n",
    "import sklearn.metrics as SK\n",
    "from sklearn.metrics import *\n",
    "import matplotlib.pyplot as plt\n",
    "import os \n",
    "import io\n",
    "from utils.GPU import *\n",
    "from utils import utils\n",
    "import tabulate\n",
    "commons = utils.Commons()\n",
    "ts_helper = utils.TS_Helper()\n",
    "ts_helper.model_type = ts_helper.Classification\n",
    "shap_helper = utils.Shap_Helper()\n",
    "os.environ[\"TF_CPP_MIN_LOG_LEVEL\"] = \"2\""
   ]
  },
  {
   "cell_type": "code",
   "execution_count": 4,
   "id": "dbf80ac7",
   "metadata": {
    "scrolled": true
   },
   "outputs": [
    {
     "name": "stdout",
     "output_type": "stream",
     "text": [
      "Loaded dataset ./data/classification/Tb.brucei/random_split/train_fold_4.csv with shape: (1051, 3)\n",
      "Loaded dataset ./data/classification/Tb.brucei/random_split/valid_fold_4.csv with shape: (132, 3)\n",
      "Loaded dataset ./data/classification/Tb.brucei/random_split/test_fold_4.csv with shape: (131, 3)\n"
     ]
    },
    {
     "data": {
      "text/html": [
       "<div>\n",
       "<style scoped>\n",
       "    .dataframe tbody tr th:only-of-type {\n",
       "        vertical-align: middle;\n",
       "    }\n",
       "\n",
       "    .dataframe tbody tr th {\n",
       "        vertical-align: top;\n",
       "    }\n",
       "\n",
       "    .dataframe thead th {\n",
       "        text-align: right;\n",
       "    }\n",
       "</style>\n",
       "<table border=\"1\" class=\"dataframe\">\n",
       "  <thead>\n",
       "    <tr style=\"text-align: right;\">\n",
       "      <th></th>\n",
       "      <th>ID</th>\n",
       "      <th>SMILES</th>\n",
       "      <th>Tb.brucei</th>\n",
       "    </tr>\n",
       "  </thead>\n",
       "  <tbody>\n",
       "    <tr>\n",
       "      <th>0</th>\n",
       "      <td>128</td>\n",
       "      <td>CC1(O)C2=CC=CC=C2C2=C1C(OCC(F)(F)F)=NC1=CC=C(B...</td>\n",
       "      <td>1.0</td>\n",
       "    </tr>\n",
       "    <tr>\n",
       "      <th>1</th>\n",
       "      <td>821</td>\n",
       "      <td>CC(CNC(=O)NC1=CC=C(F)C=C1)N1CCC(C)CC1</td>\n",
       "      <td>1.0</td>\n",
       "    </tr>\n",
       "    <tr>\n",
       "      <th>2</th>\n",
       "      <td>189</td>\n",
       "      <td>CCC(C)C(=O)OC1CCC=C2C=CC(C)C(CCC3CC(O)CC(=O)O3...</td>\n",
       "      <td>1.0</td>\n",
       "    </tr>\n",
       "    <tr>\n",
       "      <th>3</th>\n",
       "      <td>983</td>\n",
       "      <td>NC1=NC(NCCCNCCCCCCCCCCCCNCCCNC2=NC(N)=NC(N)=N2...</td>\n",
       "      <td>0.0</td>\n",
       "    </tr>\n",
       "    <tr>\n",
       "      <th>4</th>\n",
       "      <td>218</td>\n",
       "      <td>CC1=CC=C(C=C1)S(=O)(=O)NCCCN1C=NC(=N1)[N+]([O-...</td>\n",
       "      <td>1.0</td>\n",
       "    </tr>\n",
       "  </tbody>\n",
       "</table>\n",
       "</div>"
      ],
      "text/plain": [
       "    ID                                             SMILES  Tb.brucei\n",
       "0  128  CC1(O)C2=CC=CC=C2C2=C1C(OCC(F)(F)F)=NC1=CC=C(B...        1.0\n",
       "1  821              CC(CNC(=O)NC1=CC=C(F)C=C1)N1CCC(C)CC1        1.0\n",
       "2  189  CCC(C)C(=O)OC1CCC=C2C=CC(C)C(CCC3CC(O)CC(=O)O3...        1.0\n",
       "3  983  NC1=NC(NCCCNCCCCCCCCCCCCNCCCNC2=NC(N)=NC(N)=N2...        0.0\n",
       "4  218  CC1=CC=C(C=C1)S(=O)(=O)NCCCN1C=NC(=N1)[N+]([O-...        1.0"
      ]
     },
     "execution_count": 4,
     "metadata": {},
     "output_type": "execute_result"
    }
   ],
   "source": [
    "#Import train, validation and test sets\n",
    "\n",
    "training = './data/classification/Tb.brucei/random_split/train_fold_4.csv'\n",
    "validation = './data/classification/Tb.brucei/random_split/valid_fold_4.csv'\n",
    "test = './data/classification/Tb.brucei/random_split/test_fold_4.csv'\n",
    "TASK_START = 2\n",
    "NUM_TASKS = 1\n",
    "SMILES = 'SMILES'\n",
    "train_dataset,y_train,train_smiles = commons.load_dataset(training,SMILES,TASK_START,NUM_TASKS)\n",
    "validation_dataset,y_val,val_smiles = commons.load_dataset(validation,SMILES,TASK_START,NUM_TASKS)\n",
    "test_dataset,y_test,test_smiles = commons.load_dataset(test,SMILES,TASK_START,NUM_TASKS)\n",
    "\n",
    "train_dataset.head()"
   ]
  },
  {
   "cell_type": "code",
   "execution_count": 5,
   "id": "dc355297",
   "metadata": {
    "scrolled": true
   },
   "outputs": [
    {
     "data": {
      "text/plain": [
       "((1051, 2048), (132, 2048), (131, 2048))"
      ]
     },
     "execution_count": 5,
     "metadata": {},
     "output_type": "execute_result"
    }
   ],
   "source": [
    "# calculate ECFP (defaut) fingerprints using RDKit\n",
    "FP_SIZE = 2048  #bit string size\n",
    "RADIUS = 2 #diameter 4\n",
    "FEAT = False #used when you consider pharmacophoric features\n",
    "\n",
    "X_train = commons.assing_fp(train_smiles,FP_SIZE,RADIUS,FEAT)\n",
    "X_val = commons.assing_fp(val_smiles,FP_SIZE,RADIUS,FEAT)\n",
    "X_test = commons.assing_fp(test_smiles,FP_SIZE,RADIUS,FEAT)\n",
    "\n",
    "X_train.shape, X_val.shape, X_test.shape"
   ]
  },
  {
   "cell_type": "code",
   "execution_count": 6,
   "id": "282c103b",
   "metadata": {
    "scrolled": true
   },
   "outputs": [
    {
     "name": "stdout",
     "output_type": "stream",
     "text": [
      "Model: \"sequential_3\"\n",
      "_________________________________________________________________\n",
      " Layer (type)                Output Shape              Param #   \n",
      "=================================================================\n",
      " dense (Dense)               (None, 10)                20490     \n",
      "                                                                 \n",
      " dropout (Dropout)           (None, 10)                0         \n",
      "                                                                 \n",
      " dense_1 (Dense)             (None, 10)                110       \n",
      "                                                                 \n",
      " dropout_1 (Dropout)         (None, 10)                0         \n",
      "                                                                 \n",
      " dense_2 (Dense)             (None, 10)                110       \n",
      "                                                                 \n",
      " dropout_2 (Dropout)         (None, 10)                0         \n",
      "                                                                 \n",
      " dense_3 (Dense)             (None, 1)                 11        \n",
      "                                                                 \n",
      "=================================================================\n",
      "Total params: 20,721\n",
      "Trainable params: 20,721\n",
      "Non-trainable params: 0\n",
      "_________________________________________________________________\n"
     ]
    },
    {
     "data": {
      "image/png": "[encoded data removed]",
      "text/plain": [
       "<IPython.core.display.Image object>"
      ]
     },
     "execution_count": 6,
     "metadata": {},
     "output_type": "execute_result"
    }
   ],
   "source": [
    "# custom loss function for missing values in input data (i.e. target labels or values)\n",
    "# parameters for train network\n",
    "\n",
    "bit_vector = X_train.shape[1]\n",
    "\n",
    "def create_model():\n",
    "    return T.keras.models.Sequential([\n",
    "            T.keras.layers.Dense(10,input_dim=bit_vector, activation='LeakyReLU'),\n",
    "            T.keras.layers.Dropout(0.5),\n",
    "            T.keras.layers.Dense(10, activation='LeakyReLU'),\n",
    "            T.keras.layers.Dropout(0.5),\n",
    "            T.keras.layers.Dense(10, activation='LeakyReLU'),\n",
    "            T.keras.layers.Dropout(0.3),\n",
    "            T.keras.layers.Dense(NUM_TASKS, activation='sigmoid'),\n",
    "            ])\n",
    "\n",
    "\n",
    "\n",
    "optimizer = RMSprop(0.1)\n",
    "lr_metric = ts_helper.get_lr_metric(optimizer)\n",
    "\n",
    "model = create_model()\n",
    "model.compile(loss = ts_helper.classification_loss(ts_helper.BinaryCrossentropy), metrics = [lr_metric])    \n",
    "model.summary()\n",
    "T.keras.utils.plot_model(model)"
   ]
  },
  {
   "cell_type": "code",
   "execution_count": 7,
   "id": "6c204f9a",
   "metadata": {
    "scrolled": true
   },
   "outputs": [
    {
     "name": "stdout",
     "output_type": "stream",
     "text": [
      "Epoch 1/2000\n",
      " 96/106 [==========================>...] - ETA: 0s - loss: 0.6879 - lr: 0.1000\n",
      "Epoch 1: val_loss improved from inf to 0.66734, saving model to ./models\\TM-FNN_classification_model.hdf5\n",
      "106/106 [==============================] - 1s 3ms/step - loss: 0.6864 - lr: 0.0010 - val_loss: 0.6673 - val_lr: 0.1000\n",
      "Epoch 2/2000\n",
      " 78/106 [=====================>........] - ETA: 0s - loss: 0.6522 - lr: 0.1000\n",
      "Epoch 2: val_loss improved from 0.66734 to 0.61998, saving model to ./models\\TM-FNN_classification_model.hdf5\n",
      "106/106 [==============================] - 0s 2ms/step - loss: 0.6471 - lr: 0.0010 - val_loss: 0.6200 - val_lr: 0.1000\n",
      "Epoch 3/2000\n",
      " 84/106 [======================>.......] - ETA: 0s - loss: 0.5952 - lr: 0.1000\n",
      "Epoch 3: val_loss improved from 0.61998 to 0.57682, saving model to ./models\\TM-FNN_classification_model.hdf5\n",
      "106/106 [==============================] - 0s 2ms/step - loss: 0.5972 - lr: 0.0010 - val_loss: 0.5768 - val_lr: 0.1000\n",
      "Epoch 4/2000\n",
      "104/106 [============================>.] - ETA: 0s - loss: 0.5639 - lr: 0.1000\n",
      "Epoch 4: val_loss improved from 0.57682 to 0.55009, saving model to ./models\\TM-FNN_classification_model.hdf5\n",
      "106/106 [==============================] - 0s 2ms/step - loss: 0.5619 - lr: 0.0010 - val_loss: 0.5501 - val_lr: 0.1000\n",
      "Epoch 5/2000\n",
      " 83/106 [======================>.......] - ETA: 0s - loss: 0.5305 - lr: 0.1000\n",
      "Epoch 5: val_loss improved from 0.55009 to 0.53318, saving model to ./models\\TM-FNN_classification_model.hdf5\n",
      "106/106 [==============================] - 0s 2ms/step - loss: 0.5266 - lr: 0.0010 - val_loss: 0.5332 - val_lr: 0.1000\n",
      "Epoch 6/2000\n",
      " 80/106 [=====================>........] - ETA: 0s - loss: 0.4890 - lr: 0.1000\n",
      "Epoch 6: val_loss did not improve from 0.53318\n",
      "106/106 [==============================] - 0s 2ms/step - loss: 0.4861 - lr: 0.0010 - val_loss: 0.5383 - val_lr: 0.1000\n",
      "Epoch 7/2000\n",
      " 88/106 [=======================>......] - ETA: 0s - loss: 0.4633 - lr: 0.1000\n",
      "Epoch 7: val_loss improved from 0.53318 to 0.52555, saving model to ./models\\TM-FNN_classification_model.hdf5\n",
      "106/106 [==============================] - 0s 2ms/step - loss: 0.4879 - lr: 0.0010 - val_loss: 0.5256 - val_lr: 0.1000\n",
      "Epoch 8/2000\n",
      " 65/106 [=================>............] - ETA: 0s - loss: 0.4634 - lr: 0.1000\n",
      "Epoch 8: val_loss improved from 0.52555 to 0.51778, saving model to ./models\\TM-FNN_classification_model.hdf5\n",
      "106/106 [==============================] - 0s 2ms/step - loss: 0.4639 - lr: 0.0010 - val_loss: 0.5178 - val_lr: 0.1000\n",
      "Epoch 9/2000\n",
      " 81/106 [=====================>........] - ETA: 0s - loss: 0.4093 - lr: 0.1000\n",
      "Epoch 9: val_loss did not improve from 0.51778\n",
      "106/106 [==============================] - 0s 2ms/step - loss: 0.4366 - lr: 0.0010 - val_loss: 0.5216 - val_lr: 0.1000\n",
      "Epoch 10/2000\n",
      "104/106 [============================>.] - ETA: 0s - loss: 0.4397 - lr: 0.1000\n",
      "Epoch 10: val_loss improved from 0.51778 to 0.51427, saving model to ./models\\TM-FNN_classification_model.hdf5\n",
      "106/106 [==============================] - 0s 2ms/step - loss: 0.4383 - lr: 0.0010 - val_loss: 0.5143 - val_lr: 0.1000\n",
      "Epoch 11/2000\n",
      " 75/106 [====================>.........] - ETA: 0s - loss: 0.4186 - lr: 0.1000\n",
      "Epoch 11: val_loss did not improve from 0.51427\n",
      "106/106 [==============================] - 0s 2ms/step - loss: 0.4226 - lr: 0.0010 - val_loss: 0.5261 - val_lr: 0.1000\n",
      "Epoch 12/2000\n",
      " 82/106 [======================>.......] - ETA: 0s - loss: 0.3652 - lr: 0.1000\n",
      "Epoch 12: val_loss did not improve from 0.51427\n",
      "106/106 [==============================] - 0s 2ms/step - loss: 0.3619 - lr: 0.0010 - val_loss: 0.5344 - val_lr: 0.1000\n",
      "Epoch 13/2000\n",
      " 95/106 [=========================>....] - ETA: 0s - loss: 0.3618 - lr: 0.1000\n",
      "Epoch 13: val_loss did not improve from 0.51427\n",
      "106/106 [==============================] - 0s 2ms/step - loss: 0.3758 - lr: 0.0010 - val_loss: 0.5732 - val_lr: 0.1000\n",
      "Epoch 14/2000\n",
      " 90/106 [========================>.....] - ETA: 0s - loss: 0.3567 - lr: 0.1000\n",
      "Epoch 14: val_loss did not improve from 0.51427\n",
      "106/106 [==============================] - 0s 1ms/step - loss: 0.3940 - lr: 0.0010 - val_loss: 0.5872 - val_lr: 0.1000\n",
      "Epoch 15/2000\n",
      " 80/106 [=====================>........] - ETA: 0s - loss: 0.3849 - lr: 0.1000\n",
      "Epoch 15: val_loss did not improve from 0.51427\n",
      "106/106 [==============================] - 0s 2ms/step - loss: 0.3655 - lr: 0.0010 - val_loss: 0.6421 - val_lr: 0.1000\n",
      "Epoch 15: early stopping\n"
     ]
    }
   ],
   "source": [
    "# Early stopping parameters\n",
    "\n",
    "callbacks_list = [\n",
    "    ReduceLROnPlateau(monitor='loss', factor=0.5, patience=5, min_lr=0.00000001, verbose=1, mode='auto',cooldown=0),\n",
    "    ModelCheckpoint(filepath=\"./models/TM-FNN_classification_model.hdf5\", monitor='val_loss', save_best_only=True, verbose=1, mode='auto'),\n",
    "    EarlyStopping(monitor='val_loss', min_delta=0.001, patience=5, mode='min', verbose=1)]\n",
    "\n",
    "\n",
    "# parameters for train network\n",
    "\n",
    "epochs=2000\n",
    "batch_size=10\n",
    "\n",
    "\n",
    "history = model.fit(X_train, y_train, \n",
    "                    epochs=epochs,\n",
    "                    batch_size=batch_size,\n",
    "                    validation_data=(X_val, y_val),\n",
    "                    callbacks=(callbacks_list))"
   ]
  },
  {
   "cell_type": "code",
   "execution_count": 8,
   "id": "bab0eb2d",
   "metadata": {
    "scrolled": true
   },
   "outputs": [
    {
     "data": {
      "image/png": "[encoded data removed]",
      "text/plain": [
       "<Figure size 936x648 with 2 Axes>"
      ]
     },
     "metadata": {
      "needs_background": "light"
     },
     "output_type": "display_data"
    }
   ],
   "source": [
    "#Plot model history\n",
    "\n",
    "ts_helper.plot_history(history)"
   ]
  },
  {
   "cell_type": "code",
   "execution_count": 9,
   "id": "86915614",
   "metadata": {
    "scrolled": false
   },
   "outputs": [
    {
     "name": "stdout",
     "output_type": "stream",
     "text": [
      "Metric for a Classification Model\n",
      "33/33 [==============================] - 0s 661us/step\n",
      "      pred    y\n",
      "0      1.0  1.0\n",
      "1      1.0  1.0\n",
      "2      1.0  1.0\n",
      "3      0.0  0.0\n",
      "4      1.0  1.0\n",
      "...    ...  ...\n",
      "1046   1.0  1.0\n",
      "1047   1.0  1.0\n",
      "1048   0.0  0.0\n",
      "1049   0.0  0.0\n",
      "1050   1.0  0.0\n",
      "\n",
      "[1051 rows x 2 columns]\n",
      "5/5 [==============================] - 0s 1000us/step\n",
      "     pred    y\n",
      "0     1.0  0.0\n",
      "1     1.0  1.0\n",
      "2     0.0  0.0\n",
      "3     0.0  1.0\n",
      "4     0.0  0.0\n",
      "..    ...  ...\n",
      "127   1.0  1.0\n",
      "128   1.0  1.0\n",
      "129   0.0  1.0\n",
      "130   0.0  0.0\n",
      "131   1.0  1.0\n",
      "\n",
      "[132 rows x 2 columns]\n",
      "5/5 [==============================] - 0s 1ms/step\n",
      "     pred    y\n",
      "0     1.0  1.0\n",
      "1     0.0  0.0\n",
      "2     1.0  0.0\n",
      "3     1.0  1.0\n",
      "4     0.0  1.0\n",
      "..    ...  ...\n",
      "126   1.0  1.0\n",
      "127   0.0  1.0\n",
      "128   0.0  0.0\n",
      "129   1.0  0.0\n",
      "130   1.0  0.0\n",
      "\n",
      "[131 rows x 2 columns]\n",
      "Confusion matrix: [[500  55]\n",
      " [ 55 441]]\n",
      "Confusion matrix: [[52 19]\n",
      " [15 46]]\n",
      "Confusion matrix: [[45 17]\n",
      " [18 51]]\n",
      "For Training in task 0 \n",
      " Statistic        Value\n",
      "-----------  ---------\n",
      "Accuracy     0.895338\n",
      "Precision    0.889113\n",
      "Recall       0.889113\n",
      "F1           0.889113\n",
      "MCC          0.790014\n",
      "Kappa        0.790014\n",
      "SE           0.889113\n",
      "SP           0.900901\n",
      "PPV          0.889113\n",
      "NPV          0.900901\n",
      "TPR          0.889113\n",
      "FPR          0.0990991\n",
      "For Validation in task 0 \n",
      " Statistic       Value\n",
      "-----------  --------\n",
      "Accuracy     0.742424\n",
      "Precision    0.707692\n",
      "Recall       0.754098\n",
      "F1           0.730159\n",
      "MCC          0.48515\n",
      "Kappa        0.484256\n",
      "SE           0.754098\n",
      "SP           0.732394\n",
      "PPV          0.707692\n",
      "NPV          0.776119\n",
      "TPR          0.754098\n",
      "FPR          0.267606\n",
      "For Testing in task 0 \n",
      " Statistic       Value\n",
      "-----------  --------\n",
      "Accuracy     0.732824\n",
      "Precision    0.75\n",
      "Recall       0.73913\n",
      "F1           0.744526\n",
      "MCC          0.464611\n",
      "Kappa        0.464557\n",
      "SE           0.73913\n",
      "SP           0.725806\n",
      "PPV          0.75\n",
      "NPV          0.714286\n",
      "TPR          0.73913\n",
      "FPR          0.274194\n",
      "[[500  55]\n",
      " [ 55 441]]\n"
     ]
    },
    {
     "data": {
      "image/png": "[encoded data removed]",
      "text/plain": [
       "<Figure size 432x288 with 2 Axes>"
      ]
     },
     "metadata": {
      "needs_background": "light"
     },
     "output_type": "display_data"
    },
    {
     "name": "stdout",
     "output_type": "stream",
     "text": [
      "[[52 19]\n",
      " [15 46]]\n"
     ]
    },
    {
     "data": {
      "image/png": "[encoded data removed]",
      "text/plain": [
       "<Figure size 432x288 with 2 Axes>"
      ]
     },
     "metadata": {
      "needs_background": "light"
     },
     "output_type": "display_data"
    },
    {
     "name": "stdout",
     "output_type": "stream",
     "text": [
      "[[45 17]\n",
      " [18 51]]\n"
     ]
    },
    {
     "data": {
      "image/png": "[encoded data removed]",
      "text/plain": [
       "<Figure size 432x288 with 2 Axes>"
      ]
     },
     "metadata": {
      "needs_background": "light"
     },
     "output_type": "display_data"
    }
   ],
   "source": [
    "#Statistical characteristics of tasks\n",
    "\n",
    "THRESHOLD = 0.5\n",
    "ts_helper.get_modelStats(model, X_train, y_train, X_test, y_test,X_val, y_val,NUM_TASKS,THRESHOLD)"
   ]
  }
 ],
 "metadata": {
  "kernelspec": {
   "display_name": "AI",
   "language": "python",
   "name": "python3"
  },
  "language_info": {
   "codemirror_mode": {
    "name": "ipython",
    "version": 3
   },
   "file_extension": ".py",
   "mimetype": "text/x-python",
   "name": "python",
   "nbconvert_exporter": "python",
   "pygments_lexer": "ipython3",
   "version": "3.9.12"
  },
  "vscode": {
   "interpreter": {
    "hash": "305c663c06086012150402cb542001f2c1c554dcd7eca29927fc1d739b83f0a9"
   }
  }
 },
 "nbformat": 4,
 "nbformat_minor": 5
}
