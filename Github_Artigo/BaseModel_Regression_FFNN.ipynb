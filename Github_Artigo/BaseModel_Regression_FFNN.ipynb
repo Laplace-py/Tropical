{
 "cells": [
  {
   "cell_type": "code",
   "execution_count": null,
   "id": "539345d1",
   "metadata": {
    "scrolled": true
   },
   "outputs": [],
   "source": [
    "#Import standard packages for model training\n",
    "\n",
    "import tensorflow as T\n",
    "from tensorflow import *\n",
    "from tensorflow.keras import initializers\n",
    "from tensorflow.keras import regularizers\n",
    "from tensorflow.keras import layers\n",
    "from tensorflow.keras.layers import *\n",
    "from tensorflow.keras.optimizers import *\n",
    "from tensorflow.keras.callbacks import *\n",
    "from tensorflow.keras.losses import *\n",
    "import numpy as np\n",
    "import pandas as pd\n",
    "import sklearn.metrics as SK\n",
    "from sklearn.metrics import *\n",
    "import matplotlib.pyplot as plt\n",
    "import seaborn as sns\n",
    "import os \n",
    "import io\n",
    "from utils.GPU import *\n",
    "from utils import utils\n",
    "commons = utils.Commons()\n",
    "ts_helper = utils.TS_Helper()\n",
    "ts_helper.model_type = ts_helper.Regression\n",
    "shap_helper = utils.Shap_Helper()\n",
    "\n",
    "os.environ[\"TF_CPP_MIN_LOG_LEVEL\"] = \"2\""
   ]
  },
  {
   "cell_type": "code",
   "execution_count": null,
   "id": "dbf80ac7",
   "metadata": {
    "scrolled": false
   },
   "outputs": [],
   "source": [
    "#Inport train, validation and test sets\n",
    "\n",
    "training = './data/regression/Tb.rhodesiense/random_split/train_fold_4.csv'\n",
    "validation = './data/regression/Tb.rhodesiense/random_split/valid_fold_4.csv'\n",
    "test = './data/regression/Tb.rhodesiense/random_split/test_fold_4.csv'\n",
    "SMILES = 'SMILES'\n",
    "TASK_START = 2\n",
    "NUM_TASKS = 1\n",
    "train_dataset,y_train,train_smiles = commons.load_dataset(training,SMILES,TASK_START,NUM_TASKS)\n",
    "valid_dataset,y_val,val_smiles = commons.load_dataset(validation,SMILES,TASK_START,NUM_TASKS)\n",
    "test_dataset,y_test,test_smiles = commons.load_dataset(test,SMILES,TASK_START,NUM_TASKS)\n",
    "\n",
    "\n",
    "train_dataset.head()"
   ]
  },
  {
   "cell_type": "code",
   "execution_count": null,
   "id": "dc355297",
   "metadata": {
    "scrolled": true
   },
   "outputs": [],
   "source": [
    "# calculate ECFP (defaut) fingerprints using RDKit\n",
    "FP_SIZE = 2048\n",
    "RADIUS = 2\n",
    "FEAT = False\n",
    "X_train = commons.assing_fp(train_smiles,FP_SIZE,RADIUS,FEAT)\n",
    "X_val = commons.assing_fp(val_smiles,FP_SIZE,RADIUS,FEAT)\n",
    "X_test = commons.assing_fp(test_smiles,FP_SIZE,RADIUS,FEAT)\n",
    "\n",
    "type(X_train), X_val.shape, X_test.shape"
   ]
  },
  {
   "cell_type": "code",
   "execution_count": null,
   "id": "282c103b",
   "metadata": {
    "scrolled": true
   },
   "outputs": [],
   "source": [
    "#Parameters for train network\n",
    "\n",
    "from utils.utils import *\n",
    "\n",
    "bit_vector = X_train.shape[1]\n",
    "\n",
    "def create_model():\n",
    "    return T.keras.models.Sequential([\n",
    "            T.keras.layers.Dense(15,input_dim=bit_vector, activation='relu'),\n",
    "            T.keras.layers.Dropout(0.3),\n",
    "            T.keras.layers.Dense(10, activation='relu'),\n",
    "            T.keras.layers.Dropout(0.1),\n",
    "            T.keras.layers.Dense(10, activation='relu'),\n",
    "            T.keras.layers.Dropout(0.1),\n",
    "            T.keras.layers.Dense(NUM_TASKS, activation='linear'),\n",
    "            ])\n",
    "\n",
    "       \n",
    "optimizer = RMSprop(lr=0.001)\n",
    "lr_metric = ts_helper.get_lr_metric(optimizer)\n",
    "model = create_model()\n",
    "model.compile(loss=ts_helper.regression_loss, metrics = [lr_metric])    \n",
    "model.summary()\n",
    "T.keras.utils.plot_model(model)"
   ]
  },
  {
   "cell_type": "code",
   "execution_count": null,
   "id": "6c204f9a",
   "metadata": {
    "scrolled": true
   },
   "outputs": [],
   "source": [
    "# Early stopping parameters\n",
    "\n",
    "callbacks_list = [\n",
    "    ReduceLROnPlateau(monitor='val_loss', factor=0.5, patience=10, min_lr=0.00000001, verbose=1, mode='auto',cooldown=0),\n",
    "    ModelCheckpoint(filepath=\"./data/TM-FNN_regression_model.hdf5\", monitor='val_loss', save_best_only=True, verbose=1, mode='auto'),\n",
    "    EarlyStopping(monitor='val_loss', min_delta=0.001, patience=10, mode='min', verbose=1)\n",
    "    ]\n",
    "\n",
    "\n",
    "# parameters for train network\n",
    "\n",
    "epochs=1000\n",
    "batch_size=40\n",
    "\n",
    "history = model.fit(X_train, y_train, \n",
    "                    epochs=epochs,\n",
    "                    batch_size=batch_size,\n",
    "                    validation_data=(X_val, y_val),\n",
    "                    callbacks=(callbacks_list))"
   ]
  },
  {
   "cell_type": "code",
   "execution_count": null,
   "id": "bab0eb2d",
   "metadata": {
    "scrolled": false
   },
   "outputs": [],
   "source": [
    "#Plot model history\n",
    "ts_helper.plot_history(history)"
   ]
  },
  {
   "cell_type": "code",
   "execution_count": null,
   "id": "93120716",
   "metadata": {
    "scrolled": true
   },
   "outputs": [],
   "source": [
    "#Statistical characteristico of model without 3-sigma rule\n",
    "THRESHOLD = 0.5\n",
    "print(X_train.shape,y_train.shape)\n",
    "print(X_val.shape,y_val.shape)\n",
    "print(X_test.shape,y_test.shape)\n",
    "ts_helper.get_DLmodelStats(model, X_train, y_train, X_test, y_test,X_val, y_val,NUM_TASKS,THRESHOLD)"
   ]
  }
 ],
 "metadata": {
  "kernelspec": {
   "display_name": "AI",
   "language": "python",
   "name": "python3"
  },
  "language_info": {
   "codemirror_mode": {
    "name": "ipython",
    "version": 3
   },
   "file_extension": ".py",
   "mimetype": "text/x-python",
   "name": "python",
   "nbconvert_exporter": "python",
   "pygments_lexer": "ipython3",
   "version": "3.9.12 | packaged by conda-forge | (main, Mar 24 2022, 23:18:12) [MSC v.1929 64 bit (AMD64)]"
  },
  "vscode": {
   "interpreter": {
    "hash": "305c663c06086012150402cb542001f2c1c554dcd7eca29927fc1d739b83f0a9"
   }
  }
 },
 "nbformat": 4,
 "nbformat_minor": 5
}
