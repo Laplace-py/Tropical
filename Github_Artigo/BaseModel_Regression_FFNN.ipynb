{
 "cells": [
  {
   "cell_type": "code",
   "execution_count": 1,
   "id": "539345d1",
   "metadata": {
    "scrolled": true
   },
   "outputs": [
    {
     "name": "stdout",
     "output_type": "stream",
     "text": [
      "  tensorlayer: GPU MEM Fraction 0.900000\n",
      "Num GPUs Available:  0\n"
     ]
    }
   ],
   "source": [
    "#Import standard packages for model training\n",
    "\n",
    "import tensorflow as T\n",
    "from tensorflow import *\n",
    "from tensorflow.keras import initializers\n",
    "from tensorflow.keras import regularizers\n",
    "from tensorflow.keras import layers\n",
    "from tensorflow.keras.layers import *\n",
    "from tensorflow.keras.optimizers import *\n",
    "from tensorflow.keras.callbacks import *\n",
    "from tensorflow.keras.losses import *\n",
    "import numpy as np\n",
    "import pandas as pd\n",
    "import sklearn.metrics as SK\n",
    "from sklearn.metrics import *\n",
    "import matplotlib.pyplot as plt\n",
    "import seaborn as sns\n",
    "import os \n",
    "import io\n",
    "from utils.GPU import *\n",
    "from utils import utils\n",
    "commons = utils.Commons()\n",
    "ts_helper = utils.TS_Helper()\n",
    "ts_helper.model_type = ts_helper.Regression\n",
    "shap_helper = utils.Shap_Helper()\n",
    "\n",
    "os.environ[\"TF_CPP_MIN_LOG_LEVEL\"] = \"2\""
   ]
  },
  {
   "cell_type": "code",
   "execution_count": 2,
   "id": "dbf80ac7",
   "metadata": {
    "scrolled": false
   },
   "outputs": [
    {
     "name": "stdout",
     "output_type": "stream",
     "text": [
      "Loaded dataset ./data/regression/Tb.rhodesiense/random_split/train_fold_4.csv with shape: (1430, 3)\n",
      "Loaded dataset ./data/regression/Tb.rhodesiense/random_split/valid_fold_4.csv with shape: (179, 3)\n",
      "Loaded dataset ./data/regression/Tb.rhodesiense/random_split/test_fold_4.csv with shape: (179, 3)\n"
     ]
    },
    {
     "data": {
      "text/html": [
       "<div>\n",
       "<style scoped>\n",
       "    .dataframe tbody tr th:only-of-type {\n",
       "        vertical-align: middle;\n",
       "    }\n",
       "\n",
       "    .dataframe tbody tr th {\n",
       "        vertical-align: top;\n",
       "    }\n",
       "\n",
       "    .dataframe thead th {\n",
       "        text-align: right;\n",
       "    }\n",
       "</style>\n",
       "<table border=\"1\" class=\"dataframe\">\n",
       "  <thead>\n",
       "    <tr style=\"text-align: right;\">\n",
       "      <th></th>\n",
       "      <th>ID</th>\n",
       "      <th>SMILES</th>\n",
       "      <th>Tb_rhodesiense</th>\n",
       "    </tr>\n",
       "  </thead>\n",
       "  <tbody>\n",
       "    <tr>\n",
       "      <th>0</th>\n",
       "      <td>2357</td>\n",
       "      <td>O=C(C1C=CC(C2NCCN=2)=CC=1)NC1C=C(C(NC2C=CC(C3N...</td>\n",
       "      <td>6.920819</td>\n",
       "    </tr>\n",
       "    <tr>\n",
       "      <th>1</th>\n",
       "      <td>291</td>\n",
       "      <td>CC1C=C(Br)C(NC2N=C(NC3C=CC(C#N)=CC=3)N=C(C#N)N...</td>\n",
       "      <td>4.877129</td>\n",
       "    </tr>\n",
       "    <tr>\n",
       "      <th>2</th>\n",
       "      <td>2054</td>\n",
       "      <td>FC(OC1C(Cl)=CC(CC(C(NC2(C#N)CC2)=O)NC(C2C=NN(C...</td>\n",
       "      <td>9.000000</td>\n",
       "    </tr>\n",
       "    <tr>\n",
       "      <th>3</th>\n",
       "      <td>3455</td>\n",
       "      <td>CCCCCCCCCCCCCCCCC1(C(=O)C(CCC)=C(O)S1)C</td>\n",
       "      <td>4.537602</td>\n",
       "    </tr>\n",
       "    <tr>\n",
       "      <th>4</th>\n",
       "      <td>2313</td>\n",
       "      <td>CN(C12CC(C3C=CC=CC=3)C(C(C3C=CC=CC=3)C1)C(OC(C...</td>\n",
       "      <td>7.096910</td>\n",
       "    </tr>\n",
       "  </tbody>\n",
       "</table>\n",
       "</div>"
      ],
      "text/plain": [
       "     ID                                             SMILES  Tb_rhodesiense\n",
       "0  2357  O=C(C1C=CC(C2NCCN=2)=CC=1)NC1C=C(C(NC2C=CC(C3N...        6.920819\n",
       "1   291  CC1C=C(Br)C(NC2N=C(NC3C=CC(C#N)=CC=3)N=C(C#N)N...        4.877129\n",
       "2  2054  FC(OC1C(Cl)=CC(CC(C(NC2(C#N)CC2)=O)NC(C2C=NN(C...        9.000000\n",
       "3  3455            CCCCCCCCCCCCCCCCC1(C(=O)C(CCC)=C(O)S1)C        4.537602\n",
       "4  2313  CN(C12CC(C3C=CC=CC=3)C(C(C3C=CC=CC=3)C1)C(OC(C...        7.096910"
      ]
     },
     "execution_count": 2,
     "metadata": {},
     "output_type": "execute_result"
    }
   ],
   "source": [
    "#Inport train, validation and test sets\n",
    "\n",
    "training = './data/regression/Tb.rhodesiense/random_split/train_fold_4.csv'\n",
    "validation = './data/regression/Tb.rhodesiense/random_split/valid_fold_4.csv'\n",
    "test = './data/regression/Tb.rhodesiense/random_split/test_fold_4.csv'\n",
    "SMILES = 'SMILES'\n",
    "TASK_START = 2\n",
    "NUM_TASKS = 1\n",
    "train_dataset,y_train,train_smiles = commons.load_dataset(training,SMILES,TASK_START,NUM_TASKS)\n",
    "valid_dataset,y_val,val_smiles = commons.load_dataset(validation,SMILES,TASK_START,NUM_TASKS)\n",
    "test_dataset,y_test,test_smiles = commons.load_dataset(test,SMILES,TASK_START,NUM_TASKS)\n",
    "\n",
    "\n",
    "train_dataset.head()"
   ]
  },
  {
   "cell_type": "code",
   "execution_count": 3,
   "id": "dc355297",
   "metadata": {
    "scrolled": true
   },
   "outputs": [
    {
     "data": {
      "text/plain": [
       "(numpy.ndarray, (179, 2048), (179, 2048))"
      ]
     },
     "execution_count": 3,
     "metadata": {},
     "output_type": "execute_result"
    }
   ],
   "source": [
    "# calculate ECFP (defaut) fingerprints using RDKit\n",
    "FP_SIZE = 2048\n",
    "RADIUS = 2\n",
    "FEAT = False\n",
    "X_train = commons.assing_fp(train_smiles,FP_SIZE,RADIUS,FEAT)\n",
    "X_val = commons.assing_fp(val_smiles,FP_SIZE,RADIUS,FEAT)\n",
    "X_test = commons.assing_fp(test_smiles,FP_SIZE,RADIUS,FEAT)\n",
    "\n",
    "type(X_train), X_val.shape, X_test.shape"
   ]
  },
  {
   "cell_type": "code",
   "execution_count": 4,
   "id": "282c103b",
   "metadata": {
    "scrolled": true
   },
   "outputs": [
    {
     "name": "stdout",
     "output_type": "stream",
     "text": [
      "Model: \"sequential_3\"\n",
      "_________________________________________________________________\n",
      " Layer (type)                Output Shape              Param #   \n",
      "=================================================================\n",
      " dense (Dense)               (None, 15)                30735     \n",
      "                                                                 \n",
      " dropout (Dropout)           (None, 15)                0         \n",
      "                                                                 \n",
      " dense_1 (Dense)             (None, 10)                160       \n",
      "                                                                 \n",
      " dropout_1 (Dropout)         (None, 10)                0         \n",
      "                                                                 \n",
      " dense_2 (Dense)             (None, 10)                110       \n",
      "                                                                 \n",
      " dropout_2 (Dropout)         (None, 10)                0         \n",
      "                                                                 \n",
      " dense_3 (Dense)             (None, 1)                 11        \n",
      "                                                                 \n",
      "=================================================================\n",
      "Total params: 31,016\n",
      "Trainable params: 31,016\n",
      "Non-trainable params: 0\n",
      "_________________________________________________________________\n"
     ]
    },
    {
     "name": "stderr",
     "output_type": "stream",
     "text": [
      "c:\\Users\\Laplace\\anaconda3\\envs\\AI\\lib\\site-packages\\keras\\optimizers\\optimizer_v2\\rmsprop.py:135: UserWarning: The `lr` argument is deprecated, use `learning_rate` instead.\n",
      "  super(RMSprop, self).__init__(name, **kwargs)\n"
     ]
    },
    {
     "data": {
      "image/png": "[encoded data removed]",
      "text/plain": [
       "<IPython.core.display.Image object>"
      ]
     },
     "execution_count": 4,
     "metadata": {},
     "output_type": "execute_result"
    }
   ],
   "source": [
    "#Parameters for train network\n",
    "\n",
    "from utils.utils import *\n",
    "\n",
    "bit_vector = X_train.shape[1]\n",
    "\n",
    "def create_model():\n",
    "    return T.keras.models.Sequential([\n",
    "            T.keras.layers.Dense(15,input_dim=bit_vector, activation='relu'),\n",
    "            T.keras.layers.Dropout(0.3),\n",
    "            T.keras.layers.Dense(10, activation='relu'),\n",
    "            T.keras.layers.Dropout(0.1),\n",
    "            T.keras.layers.Dense(10, activation='relu'),\n",
    "            T.keras.layers.Dropout(0.1),\n",
    "            T.keras.layers.Dense(NUM_TASKS, activation='linear'),\n",
    "            ])\n",
    "\n",
    "       \n",
    "optimizer = RMSprop(lr=0.001)\n",
    "lr_metric = ts_helper.get_lr_metric(optimizer)\n",
    "model = create_model()\n",
    "model.compile(loss=ts_helper.regression_loss, metrics = [lr_metric])    \n",
    "model.summary()\n",
    "T.keras.utils.plot_model(model)"
   ]
  },
  {
   "cell_type": "code",
   "execution_count": 5,
   "id": "6c204f9a",
   "metadata": {
    "scrolled": true
   },
   "outputs": [
    {
     "name": "stdout",
     "output_type": "stream",
     "text": [
      "Epoch 1/1000\n",
      " 1/36 [..............................] - ETA: 23s - loss: 35.1480 - lr: 0.0010\n",
      "Epoch 1: val_loss improved from inf to 26.70763, saving model to ./data\\TM-FNN_regression_model.hdf5\n",
      "36/36 [==============================] - 1s 6ms/step - loss: 32.8306 - lr: 0.0010 - val_loss: 26.7076 - val_lr: 0.0010\n",
      "Epoch 2/1000\n",
      " 1/36 [..............................] - ETA: 0s - loss: 27.9536 - lr: 0.0010\n",
      "Epoch 2: val_loss improved from 26.70763 to 13.04100, saving model to ./data\\TM-FNN_regression_model.hdf5\n",
      "36/36 [==============================] - 0s 2ms/step - loss: 23.1673 - lr: 0.0010 - val_loss: 13.0410 - val_lr: 0.0010\n",
      "Epoch 3/1000\n",
      " 1/36 [..............................] - ETA: 0s - loss: 18.5559 - lr: 0.0010\n",
      "Epoch 3: val_loss improved from 13.04100 to 4.15765, saving model to ./data\\TM-FNN_regression_model.hdf5\n",
      "36/36 [==============================] - 0s 2ms/step - loss: 12.0542 - lr: 0.0010 - val_loss: 4.1577 - val_lr: 0.0010\n",
      "Epoch 4/1000\n",
      " 1/36 [..............................] - ETA: 0s - loss: 5.1168 - lr: 0.0010\n",
      "Epoch 4: val_loss improved from 4.15765 to 2.30174, saving model to ./data\\TM-FNN_regression_model.hdf5\n",
      "36/36 [==============================] - 0s 2ms/step - loss: 7.6519 - lr: 0.0010 - val_loss: 2.3017 - val_lr: 0.0010\n",
      "Epoch 5/1000\n",
      " 1/36 [..............................] - ETA: 0s - loss: 6.2955 - lr: 0.0010\n",
      "Epoch 5: val_loss improved from 2.30174 to 2.00324, saving model to ./data\\TM-FNN_regression_model.hdf5\n",
      "36/36 [==============================] - 0s 2ms/step - loss: 6.8060 - lr: 0.0010 - val_loss: 2.0032 - val_lr: 0.0010\n",
      "Epoch 6/1000\n",
      " 1/36 [..............................] - ETA: 0s - loss: 2.6296 - lr: 0.0010\n",
      "Epoch 6: val_loss improved from 2.00324 to 1.83677, saving model to ./data\\TM-FNN_regression_model.hdf5\n",
      "36/36 [==============================] - 0s 2ms/step - loss: 6.3375 - lr: 0.0010 - val_loss: 1.8368 - val_lr: 0.0010\n",
      "Epoch 7/1000\n",
      " 1/36 [..............................] - ETA: 0s - loss: 3.4017 - lr: 0.0010\n",
      "Epoch 7: val_loss improved from 1.83677 to 1.69959, saving model to ./data\\TM-FNN_regression_model.hdf5\n",
      "36/36 [==============================] - 0s 2ms/step - loss: 5.7689 - lr: 0.0010 - val_loss: 1.6996 - val_lr: 0.0010\n",
      "Epoch 8/1000\n",
      " 1/36 [..............................] - ETA: 0s - loss: 6.7519 - lr: 0.0010\n",
      "Epoch 8: val_loss improved from 1.69959 to 1.49629, saving model to ./data\\TM-FNN_regression_model.hdf5\n",
      "36/36 [==============================] - 0s 2ms/step - loss: 5.8260 - lr: 0.0010 - val_loss: 1.4963 - val_lr: 0.0010\n",
      "Epoch 9/1000\n",
      " 1/36 [..............................] - ETA: 0s - loss: 4.4467 - lr: 0.0010\n",
      "Epoch 9: val_loss did not improve from 1.49629\n",
      "36/36 [==============================] - 0s 2ms/step - loss: 5.4829 - lr: 0.0010 - val_loss: 1.5765 - val_lr: 0.0010\n",
      "Epoch 10/1000\n",
      " 1/36 [..............................] - ETA: 0s - loss: 4.0499 - lr: 0.0010\n",
      "Epoch 10: val_loss improved from 1.49629 to 1.24471, saving model to ./data\\TM-FNN_regression_model.hdf5\n",
      "36/36 [==============================] - 0s 2ms/step - loss: 5.2649 - lr: 0.0010 - val_loss: 1.2447 - val_lr: 0.0010\n",
      "Epoch 11/1000\n",
      " 1/36 [..............................] - ETA: 0s - loss: 4.3711 - lr: 0.0010\n",
      "Epoch 11: val_loss improved from 1.24471 to 1.08179, saving model to ./data\\TM-FNN_regression_model.hdf5\n",
      "36/36 [==============================] - 0s 2ms/step - loss: 4.9294 - lr: 0.0010 - val_loss: 1.0818 - val_lr: 0.0010\n",
      "Epoch 12/1000\n",
      " 1/36 [..............................] - ETA: 0s - loss: 4.6295 - lr: 0.0010\n",
      "Epoch 12: val_loss did not improve from 1.08179\n",
      "36/36 [==============================] - 0s 2ms/step - loss: 4.6431 - lr: 0.0010 - val_loss: 1.2139 - val_lr: 0.0010\n",
      "Epoch 13/1000\n",
      " 1/36 [..............................] - ETA: 0s - loss: 4.0674 - lr: 0.0010\n",
      "Epoch 13: val_loss improved from 1.08179 to 1.05086, saving model to ./data\\TM-FNN_regression_model.hdf5\n",
      "36/36 [==============================] - 0s 2ms/step - loss: 4.2238 - lr: 0.0010 - val_loss: 1.0509 - val_lr: 0.0010\n",
      "Epoch 14/1000\n",
      " 1/36 [..............................] - ETA: 0s - loss: 3.6789 - lr: 0.0010\n",
      "Epoch 14: val_loss did not improve from 1.05086\n",
      "36/36 [==============================] - 0s 2ms/step - loss: 4.0395 - lr: 0.0010 - val_loss: 1.1257 - val_lr: 0.0010\n",
      "Epoch 15/1000\n",
      " 1/36 [..............................] - ETA: 0s - loss: 2.8593 - lr: 0.0010\n",
      "Epoch 15: val_loss improved from 1.05086 to 0.92491, saving model to ./data\\TM-FNN_regression_model.hdf5\n",
      "36/36 [==============================] - 0s 2ms/step - loss: 4.1059 - lr: 0.0010 - val_loss: 0.9249 - val_lr: 0.0010\n",
      "Epoch 16/1000\n",
      " 1/36 [..............................] - ETA: 0s - loss: 5.2308 - lr: 0.0010\n",
      "Epoch 16: val_loss did not improve from 0.92491\n",
      "36/36 [==============================] - 0s 2ms/step - loss: 3.7445 - lr: 0.0010 - val_loss: 0.9796 - val_lr: 0.0010\n",
      "Epoch 17/1000\n",
      "31/36 [========================>.....] - ETA: 0s - loss: 3.6395 - lr: 0.0010\n",
      "Epoch 17: val_loss improved from 0.92491 to 0.88609, saving model to ./data\\TM-FNN_regression_model.hdf5\n",
      "36/36 [==============================] - 0s 3ms/step - loss: 3.6750 - lr: 0.0010 - val_loss: 0.8861 - val_lr: 0.0010\n",
      "Epoch 18/1000\n",
      " 1/36 [..............................] - ETA: 0s - loss: 2.4545 - lr: 0.0010\n",
      "Epoch 18: val_loss did not improve from 0.88609\n",
      "36/36 [==============================] - 0s 2ms/step - loss: 3.5753 - lr: 0.0010 - val_loss: 0.9626 - val_lr: 0.0010\n",
      "Epoch 19/1000\n",
      " 1/36 [..............................] - ETA: 0s - loss: 3.4301 - lr: 0.0010\n",
      "Epoch 19: val_loss did not improve from 0.88609\n",
      "36/36 [==============================] - 0s 2ms/step - loss: 3.2152 - lr: 0.0010 - val_loss: 0.9343 - val_lr: 0.0010\n",
      "Epoch 20/1000\n",
      " 1/36 [..............................] - ETA: 0s - loss: 2.9485 - lr: 0.0010\n",
      "Epoch 20: val_loss did not improve from 0.88609\n",
      "36/36 [==============================] - 0s 2ms/step - loss: 3.1580 - lr: 0.0010 - val_loss: 1.1316 - val_lr: 0.0010\n",
      "Epoch 21/1000\n",
      " 1/36 [..............................] - ETA: 0s - loss: 4.2260 - lr: 0.0010\n",
      "Epoch 21: val_loss did not improve from 0.88609\n",
      "36/36 [==============================] - 0s 2ms/step - loss: 3.2420 - lr: 0.0010 - val_loss: 1.1879 - val_lr: 0.0010\n",
      "Epoch 22/1000\n",
      " 1/36 [..............................] - ETA: 0s - loss: 3.4485 - lr: 0.0010\n",
      "Epoch 22: val_loss did not improve from 0.88609\n",
      "36/36 [==============================] - 0s 2ms/step - loss: 2.9319 - lr: 0.0010 - val_loss: 1.2809 - val_lr: 0.0010\n",
      "Epoch 23/1000\n",
      " 1/36 [..............................] - ETA: 0s - loss: 2.4504 - lr: 0.0010\n",
      "Epoch 23: val_loss did not improve from 0.88609\n",
      "36/36 [==============================] - 0s 2ms/step - loss: 2.7642 - lr: 0.0010 - val_loss: 1.0389 - val_lr: 0.0010\n",
      "Epoch 24/1000\n",
      " 1/36 [..............................] - ETA: 0s - loss: 2.7926 - lr: 0.0010\n",
      "Epoch 24: val_loss did not improve from 0.88609\n",
      "36/36 [==============================] - 0s 2ms/step - loss: 2.4897 - lr: 0.0010 - val_loss: 1.1588 - val_lr: 0.0010\n",
      "Epoch 25/1000\n",
      " 1/36 [..............................] - ETA: 0s - loss: 1.7243 - lr: 0.0010\n",
      "Epoch 25: val_loss did not improve from 0.88609\n",
      "36/36 [==============================] - 0s 2ms/step - loss: 2.4487 - lr: 0.0010 - val_loss: 1.1835 - val_lr: 0.0010\n",
      "Epoch 26/1000\n",
      " 1/36 [..............................] - ETA: 0s - loss: 1.4829 - lr: 0.0010\n",
      "Epoch 26: val_loss did not improve from 0.88609\n",
      "36/36 [==============================] - 0s 2ms/step - loss: 2.4946 - lr: 0.0010 - val_loss: 0.9269 - val_lr: 0.0010\n",
      "Epoch 27/1000\n",
      " 1/36 [..............................] - ETA: 0s - loss: 2.1535 - lr: 0.0010\n",
      "Epoch 27: ReduceLROnPlateau reducing learning rate to 0.0005000000237487257.\n",
      "\n",
      "Epoch 27: val_loss did not improve from 0.88609\n",
      "36/36 [==============================] - 0s 2ms/step - loss: 2.3318 - lr: 0.0010 - val_loss: 1.0985 - val_lr: 0.0010\n",
      "Epoch 27: early stopping\n"
     ]
    }
   ],
   "source": [
    "# Early stopping parameters\n",
    "\n",
    "callbacks_list = [\n",
    "    ReduceLROnPlateau(monitor='val_loss', factor=0.5, patience=10, min_lr=0.00000001, verbose=1, mode='auto',cooldown=0),\n",
    "    ModelCheckpoint(filepath=\"./data/TM-FNN_regression_model.hdf5\", monitor='val_loss', save_best_only=True, verbose=1, mode='auto'),\n",
    "    EarlyStopping(monitor='val_loss', min_delta=0.001, patience=10, mode='min', verbose=1)\n",
    "    ]\n",
    "\n",
    "\n",
    "# parameters for train network\n",
    "\n",
    "epochs=1000\n",
    "batch_size=40\n",
    "\n",
    "history = model.fit(X_train, y_train, \n",
    "                    epochs=epochs,\n",
    "                    batch_size=batch_size,\n",
    "                    validation_data=(X_val, y_val),\n",
    "                    callbacks=(callbacks_list))"
   ]
  },
  {
   "cell_type": "code",
   "execution_count": 6,
   "id": "bab0eb2d",
   "metadata": {
    "scrolled": false
   },
   "outputs": [
    {
     "data": {
      "image/png": "[encoded data removed]",
      "text/plain": [
       "<Figure size 936x648 with 2 Axes>"
      ]
     },
     "metadata": {
      "needs_background": "light"
     },
     "output_type": "display_data"
    }
   ],
   "source": [
    "#Plot model history\n",
    "ts_helper.plot_history(history)"
   ]
  },
  {
   "cell_type": "code",
   "execution_count": 7,
   "id": "93120716",
   "metadata": {
    "scrolled": true
   },
   "outputs": [
    {
     "name": "stdout",
     "output_type": "stream",
     "text": [
      "(1430, 2048) (1430, 1)\n",
      "(179, 2048) (179, 1)\n",
      "(179, 2048) (179, 1)\n",
      "Metric for a Regression Model\n",
      "45/45 [==============================] - 0s 727us/step\n",
      "6/6 [==============================] - 0s 1000us/step\n",
      "6/6 [==============================] - 0s 1000us/step\n",
      "For Training in task 0 \n",
      " Statistic       Value\n",
      "-----------  --------\n",
      "MSE          1.10982\n",
      "MAE          0.863236\n",
      "R2           0.349823\n",
      "For Validation in task 0 \n",
      " Statistic       Value\n",
      "-----------  --------\n",
      "MSE          1.09852\n",
      "MAE          0.873201\n",
      "R2           0.195351\n",
      "For Testing in task 0 \n",
      " Statistic       Value\n",
      "-----------  --------\n",
      "MSE          1.00844\n",
      "MAE          0.801246\n",
      "R2           0.365164\n"
     ]
    },
    {
     "data": {
      "image/png": "[encoded data removed]",
      "text/plain": [
       "<Figure size 432x288 with 1 Axes>"
      ]
     },
     "metadata": {
      "needs_background": "light"
     },
     "output_type": "display_data"
    }
   ],
   "source": [
    "#Statistical characteristico of model without 3-sigma rule\n",
    "THRESHOLD = 0.5\n",
    "print(X_train.shape,y_train.shape)\n",
    "print(X_val.shape,y_val.shape)\n",
    "print(X_test.shape,y_test.shape)\n",
    "ts_helper.get_modelStats(model, X_train, y_train, X_test, y_test,X_val, y_val,NUM_TASKS,THRESHOLD)"
   ]
  }
 ],
 "metadata": {
  "kernelspec": {
   "display_name": "AI",
   "language": "python",
   "name": "python3"
  },
  "language_info": {
   "codemirror_mode": {
    "name": "ipython",
    "version": 3
   },
   "file_extension": ".py",
   "mimetype": "text/x-python",
   "name": "python",
   "nbconvert_exporter": "python",
   "pygments_lexer": "ipython3",
   "version": "3.9.12"
  },
  "vscode": {
   "interpreter": {
    "hash": "305c663c06086012150402cb542001f2c1c554dcd7eca29927fc1d739b83f0a9"
   }
  }
 },
 "nbformat": 4,
 "nbformat_minor": 5
}
