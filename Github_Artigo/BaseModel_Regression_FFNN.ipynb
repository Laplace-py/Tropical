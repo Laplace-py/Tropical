{
 "cells": [
  {
   "cell_type": "code",
   "execution_count": 1,
   "id": "539345d1",
   "metadata": {
    "scrolled": true
   },
   "outputs": [
    {
     "name": "stdout",
     "output_type": "stream",
     "text": [
      "  tensorlayer: GPU MEM Fraction 0.900000\n",
      "Num GPUs Available:  0\n"
     ]
    }
   ],
   "source": [
    "#Import standard packages for model training\n",
    "\n",
    "import tensorflow as T\n",
    "from tensorflow import *\n",
    "from tensorflow.keras import initializers\n",
    "from tensorflow.keras import regularizers\n",
    "from tensorflow.keras import layers\n",
    "from tensorflow.keras.layers import *\n",
    "from tensorflow.keras.optimizers import *\n",
    "from tensorflow.keras.callbacks import *\n",
    "from tensorflow.keras.losses import *\n",
    "import numpy as np\n",
    "import pandas as pd\n",
    "import sklearn.metrics as SK\n",
    "from sklearn.metrics import *\n",
    "import matplotlib.pyplot as plt\n",
    "import seaborn as sns\n",
    "import os \n",
    "import io\n",
    "from utils.GPU import *\n",
    "from utils import utils\n",
    "commons = utils.Commons()\n",
    "ts_helper = utils.TS_Helper()\n",
    "ts_helper.model_type = ts_helper.Regression\n",
    "shap_helper = utils.Shap_Helper()\n",
    "\n",
    "os.environ[\"TF_CPP_MIN_LOG_LEVEL\"] = \"2\""
   ]
  },
  {
   "cell_type": "code",
   "execution_count": 2,
   "id": "dbf80ac7",
   "metadata": {
    "scrolled": false
   },
   "outputs": [
    {
     "name": "stdout",
     "output_type": "stream",
     "text": [
      "Loaded dataset ./data/regression/Tb.rhodesiense/random_split/train_fold_4.csv with shape: (1430, 3)\n",
      "Loaded dataset ./data/regression/Tb.rhodesiense/random_split/valid_fold_4.csv with shape: (179, 3)\n",
      "Loaded dataset ./data/regression/Tb.rhodesiense/random_split/test_fold_4.csv with shape: (179, 3)\n"
     ]
    },
    {
     "data": {
      "text/html": [
       "<div>\n",
       "<style scoped>\n",
       "    .dataframe tbody tr th:only-of-type {\n",
       "        vertical-align: middle;\n",
       "    }\n",
       "\n",
       "    .dataframe tbody tr th {\n",
       "        vertical-align: top;\n",
       "    }\n",
       "\n",
       "    .dataframe thead th {\n",
       "        text-align: right;\n",
       "    }\n",
       "</style>\n",
       "<table border=\"1\" class=\"dataframe\">\n",
       "  <thead>\n",
       "    <tr style=\"text-align: right;\">\n",
       "      <th></th>\n",
       "      <th>ID</th>\n",
       "      <th>SMILES</th>\n",
       "      <th>Tb_rhodesiense</th>\n",
       "    </tr>\n",
       "  </thead>\n",
       "  <tbody>\n",
       "    <tr>\n",
       "      <th>0</th>\n",
       "      <td>2357</td>\n",
       "      <td>O=C(C1C=CC(C2NCCN=2)=CC=1)NC1C=C(C(NC2C=CC(C3N...</td>\n",
       "      <td>6.920819</td>\n",
       "    </tr>\n",
       "    <tr>\n",
       "      <th>1</th>\n",
       "      <td>291</td>\n",
       "      <td>CC1C=C(Br)C(NC2N=C(NC3C=CC(C#N)=CC=3)N=C(C#N)N...</td>\n",
       "      <td>4.877129</td>\n",
       "    </tr>\n",
       "    <tr>\n",
       "      <th>2</th>\n",
       "      <td>2054</td>\n",
       "      <td>FC(OC1C(Cl)=CC(CC(C(NC2(C#N)CC2)=O)NC(C2C=NN(C...</td>\n",
       "      <td>9.000000</td>\n",
       "    </tr>\n",
       "    <tr>\n",
       "      <th>3</th>\n",
       "      <td>3455</td>\n",
       "      <td>CCCCCCCCCCCCCCCCC1(C(=O)C(CCC)=C(O)S1)C</td>\n",
       "      <td>4.537602</td>\n",
       "    </tr>\n",
       "    <tr>\n",
       "      <th>4</th>\n",
       "      <td>2313</td>\n",
       "      <td>CN(C12CC(C3C=CC=CC=3)C(C(C3C=CC=CC=3)C1)C(OC(C...</td>\n",
       "      <td>7.096910</td>\n",
       "    </tr>\n",
       "  </tbody>\n",
       "</table>\n",
       "</div>"
      ],
      "text/plain": [
       "     ID                                             SMILES  Tb_rhodesiense\n",
       "0  2357  O=C(C1C=CC(C2NCCN=2)=CC=1)NC1C=C(C(NC2C=CC(C3N...        6.920819\n",
       "1   291  CC1C=C(Br)C(NC2N=C(NC3C=CC(C#N)=CC=3)N=C(C#N)N...        4.877129\n",
       "2  2054  FC(OC1C(Cl)=CC(CC(C(NC2(C#N)CC2)=O)NC(C2C=NN(C...        9.000000\n",
       "3  3455            CCCCCCCCCCCCCCCCC1(C(=O)C(CCC)=C(O)S1)C        4.537602\n",
       "4  2313  CN(C12CC(C3C=CC=CC=3)C(C(C3C=CC=CC=3)C1)C(OC(C...        7.096910"
      ]
     },
     "execution_count": 2,
     "metadata": {},
     "output_type": "execute_result"
    }
   ],
   "source": [
    "#Inport train, validation and test sets\n",
    "\n",
    "training = './data/regression/Tb.rhodesiense/random_split/train_fold_4.csv'\n",
    "validation = './data/regression/Tb.rhodesiense/random_split/valid_fold_4.csv'\n",
    "test = './data/regression/Tb.rhodesiense/random_split/test_fold_4.csv'\n",
    "SMILES = 'SMILES'\n",
    "TASK_START = 2\n",
    "NUM_TASKS = 1\n",
    "train_dataset,y_train,train_smiles = commons.load_dataset(training,SMILES,TASK_START,NUM_TASKS)\n",
    "valid_dataset,y_val,val_smiles = commons.load_dataset(validation,SMILES,TASK_START,NUM_TASKS)\n",
    "test_dataset,y_test,test_smiles = commons.load_dataset(test,SMILES,TASK_START,NUM_TASKS)\n",
    "\n",
    "\n",
    "train_dataset.head()"
   ]
  },
  {
   "cell_type": "code",
   "execution_count": 3,
   "id": "dc355297",
   "metadata": {
    "scrolled": true
   },
   "outputs": [
    {
     "data": {
      "text/plain": [
       "(numpy.ndarray, (179, 2048), (179, 2048))"
      ]
     },
     "execution_count": 3,
     "metadata": {},
     "output_type": "execute_result"
    }
   ],
   "source": [
    "# calculate ECFP (defaut) fingerprints using RDKit\n",
    "FP_SIZE = 2048\n",
    "RADIUS = 2\n",
    "FEAT = False\n",
    "X_train = commons.assing_fp(train_smiles,FP_SIZE,RADIUS,FEAT)\n",
    "X_val = commons.assing_fp(val_smiles,FP_SIZE,RADIUS,FEAT)\n",
    "X_test = commons.assing_fp(test_smiles,FP_SIZE,RADIUS,FEAT)\n",
    "\n",
    "type(X_train), X_val.shape, X_test.shape"
   ]
  },
  {
   "cell_type": "code",
   "execution_count": 4,
   "id": "282c103b",
   "metadata": {
    "scrolled": true
   },
   "outputs": [
    {
     "name": "stdout",
     "output_type": "stream",
     "text": [
      "Model: \"sequential_1\"\n",
      "_________________________________________________________________\n",
      " Layer (type)                Output Shape              Param #   \n",
      "=================================================================\n",
      " dense (Dense)               (None, 15)                30735     \n",
      "                                                                 \n",
      " dropout (Dropout)           (None, 15)                0         \n",
      "                                                                 \n",
      " dense_1 (Dense)             (None, 10)                160       \n",
      "                                                                 \n",
      " dropout_1 (Dropout)         (None, 10)                0         \n",
      "                                                                 \n",
      " dense_2 (Dense)             (None, 10)                110       \n",
      "                                                                 \n",
      " dropout_2 (Dropout)         (None, 10)                0         \n",
      "                                                                 \n",
      " dense_3 (Dense)             (None, 1)                 11        \n",
      "                                                                 \n",
      "=================================================================\n",
      "Total params: 31,016\n",
      "Trainable params: 31,016\n",
      "Non-trainable params: 0\n",
      "_________________________________________________________________\n"
     ]
    },
    {
     "name": "stderr",
     "output_type": "stream",
     "text": [
      "c:\\Users\\Laplace\\anaconda3\\envs\\AI\\lib\\site-packages\\keras\\optimizers\\optimizer_v2\\rmsprop.py:135: UserWarning: The `lr` argument is deprecated, use `learning_rate` instead.\n",
      "  super(RMSprop, self).__init__(name, **kwargs)\n"
     ]
    },
    {
     "data": {
      "image/png": "[encoded data removed]",
      "text/plain": [
       "<IPython.core.display.Image object>"
      ]
     },
     "execution_count": 4,
     "metadata": {},
     "output_type": "execute_result"
    }
   ],
   "source": [
    "#Parameters for train network\n",
    "\n",
    "from utils.utils import *\n",
    "\n",
    "bit_vector = X_train.shape[1]\n",
    "\n",
    "def create_model():\n",
    "    return T.keras.models.Sequential([\n",
    "            T.keras.layers.Dense(15,input_dim=bit_vector, activation='relu'),\n",
    "            T.keras.layers.Dropout(0.3),\n",
    "            T.keras.layers.Dense(10, activation='relu'),\n",
    "            T.keras.layers.Dropout(0.1),\n",
    "            T.keras.layers.Dense(10, activation='relu'),\n",
    "            T.keras.layers.Dropout(0.1),\n",
    "            T.keras.layers.Dense(NUM_TASKS, activation='linear'),\n",
    "            ])\n",
    "\n",
    "       \n",
    "optimizer = RMSprop(lr=0.001)\n",
    "lr_metric = ts_helper.get_lr_metric(optimizer)\n",
    "model = create_model()\n",
    "model.compile(loss=ts_helper.regression_loss, metrics = [lr_metric])    \n",
    "model.summary()\n",
    "T.keras.utils.plot_model(model)"
   ]
  },
  {
   "cell_type": "code",
   "execution_count": 5,
   "id": "6c204f9a",
   "metadata": {
    "scrolled": true
   },
   "outputs": [
    {
     "name": "stdout",
     "output_type": "stream",
     "text": [
      "Epoch 1/1000\n",
      " 1/36 [..............................] - ETA: 22s - loss: 34.2168 - lr: 0.0010\n",
      "Epoch 1: val_loss improved from inf to 4.16864, saving model to ./data\\TM-FNN_regression_model.hdf5\n",
      "36/36 [==============================] - 1s 5ms/step - loss: 17.5447 - lr: 0.0010 - val_loss: 4.1686 - val_lr: 0.0010\n",
      "Epoch 2/1000\n",
      " 1/36 [..............................] - ETA: 0s - loss: 8.5230 - lr: 0.0010\n",
      "Epoch 2: val_loss improved from 4.16864 to 1.98726, saving model to ./data\\TM-FNN_regression_model.hdf5\n",
      "36/36 [==============================] - 0s 2ms/step - loss: 5.5219 - lr: 0.0010 - val_loss: 1.9873 - val_lr: 0.0010\n",
      "Epoch 3/1000\n",
      " 1/36 [..............................] - ETA: 0s - loss: 4.3134 - lr: 0.0010\n",
      "Epoch 3: val_loss improved from 1.98726 to 1.97898, saving model to ./data\\TM-FNN_regression_model.hdf5\n",
      "36/36 [==============================] - 0s 2ms/step - loss: 4.5964 - lr: 0.0010 - val_loss: 1.9790 - val_lr: 0.0010\n",
      "Epoch 4/1000\n",
      " 1/36 [..............................] - ETA: 0s - loss: 3.5453 - lr: 0.0010\n",
      "Epoch 4: val_loss improved from 1.97898 to 1.67515, saving model to ./data\\TM-FNN_regression_model.hdf5\n",
      "36/36 [==============================] - 0s 2ms/step - loss: 3.8361 - lr: 0.0010 - val_loss: 1.6751 - val_lr: 0.0010\n",
      "Epoch 5/1000\n",
      " 1/36 [..............................] - ETA: 0s - loss: 4.4316 - lr: 0.0010\n",
      "Epoch 5: val_loss did not improve from 1.67515\n",
      "36/36 [==============================] - 0s 2ms/step - loss: 3.3344 - lr: 0.0010 - val_loss: 1.6973 - val_lr: 0.0010\n",
      "Epoch 6/1000\n",
      " 1/36 [..............................] - ETA: 0s - loss: 1.7863 - lr: 0.0010\n",
      "Epoch 6: val_loss improved from 1.67515 to 1.19628, saving model to ./data\\TM-FNN_regression_model.hdf5\n",
      "36/36 [==============================] - 0s 2ms/step - loss: 2.9344 - lr: 0.0010 - val_loss: 1.1963 - val_lr: 0.0010\n",
      "Epoch 7/1000\n",
      " 1/36 [..............................] - ETA: 0s - loss: 3.3580 - lr: 0.0010\n",
      "Epoch 7: val_loss did not improve from 1.19628\n",
      "36/36 [==============================] - 0s 2ms/step - loss: 2.9885 - lr: 0.0010 - val_loss: 1.2374 - val_lr: 0.0010\n",
      "Epoch 8/1000\n",
      " 1/36 [..............................] - ETA: 0s - loss: 2.9889 - lr: 0.0010\n",
      "Epoch 8: val_loss improved from 1.19628 to 1.13224, saving model to ./data\\TM-FNN_regression_model.hdf5\n",
      "36/36 [==============================] - 0s 2ms/step - loss: 2.7042 - lr: 0.0010 - val_loss: 1.1322 - val_lr: 0.0010\n",
      "Epoch 9/1000\n",
      " 1/36 [..............................] - ETA: 0s - loss: 2.2637 - lr: 0.0010\n",
      "Epoch 9: val_loss improved from 1.13224 to 1.00186, saving model to ./data\\TM-FNN_regression_model.hdf5\n",
      "36/36 [==============================] - 0s 2ms/step - loss: 2.5237 - lr: 0.0010 - val_loss: 1.0019 - val_lr: 0.0010\n",
      "Epoch 10/1000\n",
      " 1/36 [..............................] - ETA: 0s - loss: 1.9035 - lr: 0.0010\n",
      "Epoch 10: val_loss did not improve from 1.00186\n",
      "36/36 [==============================] - 0s 2ms/step - loss: 2.1392 - lr: 0.0010 - val_loss: 1.1172 - val_lr: 0.0010\n",
      "Epoch 11/1000\n",
      " 1/36 [..............................] - ETA: 0s - loss: 1.5917 - lr: 0.0010\n",
      "Epoch 11: val_loss improved from 1.00186 to 0.95538, saving model to ./data\\TM-FNN_regression_model.hdf5\n",
      "36/36 [==============================] - 0s 2ms/step - loss: 2.1845 - lr: 0.0010 - val_loss: 0.9554 - val_lr: 0.0010\n",
      "Epoch 12/1000\n",
      " 1/36 [..............................] - ETA: 0s - loss: 1.9156 - lr: 0.0010\n",
      "Epoch 12: val_loss did not improve from 0.95538\n",
      "36/36 [==============================] - 0s 2ms/step - loss: 1.8401 - lr: 0.0010 - val_loss: 1.0131 - val_lr: 0.0010\n",
      "Epoch 13/1000\n",
      "33/36 [==========================>...] - ETA: 0s - loss: 1.8299 - lr: 0.0010\n",
      "Epoch 13: val_loss did not improve from 0.95538\n",
      "36/36 [==============================] - 0s 2ms/step - loss: 1.8026 - lr: 0.0010 - val_loss: 1.0871 - val_lr: 0.0010\n",
      "Epoch 14/1000\n",
      " 1/36 [..............................] - ETA: 0s - loss: 1.8239 - lr: 0.0010\n",
      "Epoch 14: val_loss did not improve from 0.95538\n",
      "36/36 [==============================] - 0s 2ms/step - loss: 1.7950 - lr: 0.0010 - val_loss: 0.9591 - val_lr: 0.0010\n",
      "Epoch 15/1000\n",
      " 1/36 [..............................] - ETA: 0s - loss: 1.3253 - lr: 0.0010\n",
      "Epoch 15: val_loss improved from 0.95538 to 0.87459, saving model to ./data\\TM-FNN_regression_model.hdf5\n",
      "36/36 [==============================] - 0s 2ms/step - loss: 1.6405 - lr: 0.0010 - val_loss: 0.8746 - val_lr: 0.0010\n",
      "Epoch 16/1000\n",
      " 1/36 [..............................] - ETA: 0s - loss: 1.8198 - lr: 0.0010\n",
      "Epoch 16: val_loss did not improve from 0.87459\n",
      "36/36 [==============================] - 0s 2ms/step - loss: 1.5318 - lr: 0.0010 - val_loss: 1.1924 - val_lr: 0.0010\n",
      "Epoch 17/1000\n",
      " 1/36 [..............................] - ETA: 0s - loss: 0.8808 - lr: 0.0010\n",
      "Epoch 17: val_loss improved from 0.87459 to 0.82186, saving model to ./data\\TM-FNN_regression_model.hdf5\n",
      "36/36 [==============================] - 0s 2ms/step - loss: 1.4854 - lr: 0.0010 - val_loss: 0.8219 - val_lr: 0.0010\n",
      "Epoch 18/1000\n",
      " 1/36 [..............................] - ETA: 0s - loss: 1.4462 - lr: 0.0010\n",
      "Epoch 18: val_loss improved from 0.82186 to 0.71852, saving model to ./data\\TM-FNN_regression_model.hdf5\n",
      "36/36 [==============================] - 0s 2ms/step - loss: 1.4573 - lr: 0.0010 - val_loss: 0.7185 - val_lr: 0.0010\n",
      "Epoch 19/1000\n",
      " 1/36 [..............................] - ETA: 0s - loss: 1.3491 - lr: 0.0010\n",
      "Epoch 19: val_loss did not improve from 0.71852\n",
      "36/36 [==============================] - 0s 2ms/step - loss: 1.4831 - lr: 0.0010 - val_loss: 0.7984 - val_lr: 0.0010\n",
      "Epoch 20/1000\n",
      " 1/36 [..............................] - ETA: 0s - loss: 1.4271 - lr: 0.0010\n",
      "Epoch 20: val_loss did not improve from 0.71852\n",
      "36/36 [==============================] - 0s 2ms/step - loss: 1.2984 - lr: 0.0010 - val_loss: 0.7692 - val_lr: 0.0010\n",
      "Epoch 21/1000\n",
      " 1/36 [..............................] - ETA: 0s - loss: 0.8449 - lr: 0.0010\n",
      "Epoch 21: val_loss did not improve from 0.71852\n",
      "36/36 [==============================] - 0s 2ms/step - loss: 1.2419 - lr: 0.0010 - val_loss: 0.9314 - val_lr: 0.0010\n",
      "Epoch 22/1000\n",
      " 1/36 [..............................] - ETA: 0s - loss: 1.5295 - lr: 0.0010\n",
      "Epoch 22: val_loss improved from 0.71852 to 0.68670, saving model to ./data\\TM-FNN_regression_model.hdf5\n",
      "36/36 [==============================] - 0s 3ms/step - loss: 1.1964 - lr: 0.0010 - val_loss: 0.6867 - val_lr: 0.0010\n",
      "Epoch 23/1000\n",
      " 1/36 [..............................] - ETA: 0s - loss: 1.1979 - lr: 0.0010\n",
      "Epoch 23: val_loss did not improve from 0.68670\n",
      "36/36 [==============================] - 0s 2ms/step - loss: 1.2198 - lr: 0.0010 - val_loss: 0.7991 - val_lr: 0.0010\n",
      "Epoch 24/1000\n",
      " 1/36 [..............................] - ETA: 0s - loss: 0.8181 - lr: 0.0010\n",
      "Epoch 24: val_loss improved from 0.68670 to 0.58887, saving model to ./data\\TM-FNN_regression_model.hdf5\n",
      "36/36 [==============================] - 0s 2ms/step - loss: 1.1053 - lr: 0.0010 - val_loss: 0.5889 - val_lr: 0.0010\n",
      "Epoch 25/1000\n",
      " 1/36 [..............................] - ETA: 0s - loss: 1.0676 - lr: 0.0010\n",
      "Epoch 25: val_loss improved from 0.58887 to 0.58304, saving model to ./data\\TM-FNN_regression_model.hdf5\n",
      "36/36 [==============================] - 0s 2ms/step - loss: 1.1192 - lr: 0.0010 - val_loss: 0.5830 - val_lr: 0.0010\n",
      "Epoch 26/1000\n",
      " 1/36 [..............................] - ETA: 0s - loss: 0.6732 - lr: 0.0010\n",
      "Epoch 26: val_loss did not improve from 0.58304\n",
      "36/36 [==============================] - 0s 2ms/step - loss: 1.0648 - lr: 0.0010 - val_loss: 0.6957 - val_lr: 0.0010\n",
      "Epoch 27/1000\n",
      " 1/36 [..............................] - ETA: 0s - loss: 0.8137 - lr: 0.0010\n",
      "Epoch 27: val_loss did not improve from 0.58304\n",
      "36/36 [==============================] - 0s 2ms/step - loss: 1.0813 - lr: 0.0010 - val_loss: 0.7541 - val_lr: 0.0010\n",
      "Epoch 28/1000\n",
      " 1/36 [..............................] - ETA: 0s - loss: 1.2926 - lr: 0.0010\n",
      "Epoch 28: val_loss did not improve from 0.58304\n",
      "36/36 [==============================] - 0s 2ms/step - loss: 0.9849 - lr: 0.0010 - val_loss: 0.7235 - val_lr: 0.0010\n",
      "Epoch 29/1000\n",
      " 1/36 [..............................] - ETA: 0s - loss: 1.0425 - lr: 0.0010\n",
      "Epoch 29: val_loss improved from 0.58304 to 0.56998, saving model to ./data\\TM-FNN_regression_model.hdf5\n",
      "36/36 [==============================] - 0s 3ms/step - loss: 1.0683 - lr: 0.0010 - val_loss: 0.5700 - val_lr: 0.0010\n",
      "Epoch 30/1000\n",
      " 1/36 [..............................] - ETA: 0s - loss: 1.0195 - lr: 0.0010\n",
      "Epoch 30: val_loss did not improve from 0.56998\n",
      "36/36 [==============================] - 0s 2ms/step - loss: 1.0087 - lr: 0.0010 - val_loss: 0.6373 - val_lr: 0.0010\n",
      "Epoch 31/1000\n",
      " 1/36 [..............................] - ETA: 0s - loss: 1.3193 - lr: 0.0010\n",
      "Epoch 31: val_loss did not improve from 0.56998\n",
      "36/36 [==============================] - 0s 2ms/step - loss: 1.0508 - lr: 0.0010 - val_loss: 0.5847 - val_lr: 0.0010\n",
      "Epoch 32/1000\n",
      " 1/36 [..............................] - ETA: 0s - loss: 0.8679 - lr: 0.0010\n",
      "Epoch 32: val_loss improved from 0.56998 to 0.51802, saving model to ./data\\TM-FNN_regression_model.hdf5\n",
      "36/36 [==============================] - 0s 2ms/step - loss: 0.9272 - lr: 0.0010 - val_loss: 0.5180 - val_lr: 0.0010\n",
      "Epoch 33/1000\n",
      " 1/36 [..............................] - ETA: 0s - loss: 1.1012 - lr: 0.0010\n",
      "Epoch 33: val_loss did not improve from 0.51802\n",
      "36/36 [==============================] - 0s 2ms/step - loss: 0.9795 - lr: 0.0010 - val_loss: 0.5367 - val_lr: 0.0010\n",
      "Epoch 34/1000\n",
      " 1/36 [..............................] - ETA: 0s - loss: 0.7430 - lr: 0.0010\n",
      "Epoch 34: val_loss did not improve from 0.51802\n",
      "36/36 [==============================] - 0s 2ms/step - loss: 0.9795 - lr: 0.0010 - val_loss: 0.6139 - val_lr: 0.0010\n",
      "Epoch 35/1000\n",
      " 1/36 [..............................] - ETA: 0s - loss: 1.0883 - lr: 0.0010\n",
      "Epoch 35: val_loss did not improve from 0.51802\n",
      "36/36 [==============================] - 0s 2ms/step - loss: 0.9944 - lr: 0.0010 - val_loss: 0.5290 - val_lr: 0.0010\n",
      "Epoch 36/1000\n",
      " 1/36 [..............................] - ETA: 0s - loss: 0.7210 - lr: 0.0010\n",
      "Epoch 36: val_loss did not improve from 0.51802\n",
      "36/36 [==============================] - 0s 2ms/step - loss: 0.9376 - lr: 0.0010 - val_loss: 0.5187 - val_lr: 0.0010\n",
      "Epoch 37/1000\n",
      " 1/36 [..............................] - ETA: 0s - loss: 1.0547 - lr: 0.0010\n",
      "Epoch 37: val_loss did not improve from 0.51802\n",
      "36/36 [==============================] - 0s 2ms/step - loss: 0.8982 - lr: 0.0010 - val_loss: 0.5498 - val_lr: 0.0010\n",
      "Epoch 38/1000\n",
      " 1/36 [..............................] - ETA: 0s - loss: 0.6448 - lr: 0.0010\n",
      "Epoch 38: val_loss did not improve from 0.51802\n",
      "36/36 [==============================] - 0s 2ms/step - loss: 0.9344 - lr: 0.0010 - val_loss: 0.5607 - val_lr: 0.0010\n",
      "Epoch 39/1000\n",
      " 1/36 [..............................] - ETA: 0s - loss: 0.7978 - lr: 0.0010\n",
      "Epoch 39: val_loss improved from 0.51802 to 0.50253, saving model to ./data\\TM-FNN_regression_model.hdf5\n",
      "36/36 [==============================] - 0s 3ms/step - loss: 0.8771 - lr: 0.0010 - val_loss: 0.5025 - val_lr: 0.0010\n",
      "Epoch 40/1000\n",
      " 1/36 [..............................] - ETA: 0s - loss: 1.0931 - lr: 0.0010\n",
      "Epoch 40: val_loss did not improve from 0.50253\n",
      "36/36 [==============================] - 0s 2ms/step - loss: 0.8682 - lr: 0.0010 - val_loss: 0.5843 - val_lr: 0.0010\n",
      "Epoch 41/1000\n",
      " 1/36 [..............................] - ETA: 0s - loss: 1.2983 - lr: 0.0010\n",
      "Epoch 41: val_loss did not improve from 0.50253\n",
      "36/36 [==============================] - 0s 2ms/step - loss: 0.9087 - lr: 0.0010 - val_loss: 0.5204 - val_lr: 0.0010\n",
      "Epoch 42/1000\n",
      " 1/36 [..............................] - ETA: 0s - loss: 0.8027 - lr: 0.0010\n",
      "Epoch 42: val_loss did not improve from 0.50253\n",
      "36/36 [==============================] - 0s 2ms/step - loss: 0.8466 - lr: 0.0010 - val_loss: 0.6024 - val_lr: 0.0010\n",
      "Epoch 43/1000\n",
      " 1/36 [..............................] - ETA: 0s - loss: 0.9466 - lr: 0.0010\n",
      "Epoch 43: val_loss did not improve from 0.50253\n",
      "36/36 [==============================] - 0s 2ms/step - loss: 0.8666 - lr: 0.0010 - val_loss: 0.5610 - val_lr: 0.0010\n",
      "Epoch 44/1000\n",
      " 1/36 [..............................] - ETA: 0s - loss: 0.5924 - lr: 0.0010\n",
      "Epoch 44: val_loss improved from 0.50253 to 0.49099, saving model to ./data\\TM-FNN_regression_model.hdf5\n",
      "36/36 [==============================] - 0s 2ms/step - loss: 0.8255 - lr: 0.0010 - val_loss: 0.4910 - val_lr: 0.0010\n",
      "Epoch 45/1000\n",
      " 1/36 [..............................] - ETA: 0s - loss: 0.7944 - lr: 0.0010\n",
      "Epoch 45: val_loss did not improve from 0.49099\n",
      "36/36 [==============================] - 0s 2ms/step - loss: 0.8376 - lr: 0.0010 - val_loss: 0.5925 - val_lr: 0.0010\n",
      "Epoch 46/1000\n",
      " 1/36 [..............................] - ETA: 0s - loss: 0.6605 - lr: 0.0010\n",
      "Epoch 46: val_loss did not improve from 0.49099\n",
      "36/36 [==============================] - 0s 2ms/step - loss: 0.8085 - lr: 0.0010 - val_loss: 0.5406 - val_lr: 0.0010\n",
      "Epoch 47/1000\n",
      " 1/36 [..............................] - ETA: 0s - loss: 0.6646 - lr: 0.0010\n",
      "Epoch 47: val_loss did not improve from 0.49099\n",
      "36/36 [==============================] - 0s 2ms/step - loss: 0.7462 - lr: 0.0010 - val_loss: 0.5120 - val_lr: 0.0010\n",
      "Epoch 48/1000\n",
      " 1/36 [..............................] - ETA: 0s - loss: 0.9308 - lr: 0.0010\n",
      "Epoch 48: val_loss did not improve from 0.49099\n",
      "36/36 [==============================] - 0s 2ms/step - loss: 0.8063 - lr: 0.0010 - val_loss: 0.5527 - val_lr: 0.0010\n",
      "Epoch 49/1000\n",
      " 1/36 [..............................] - ETA: 0s - loss: 1.1327 - lr: 0.0010\n",
      "Epoch 49: val_loss improved from 0.49099 to 0.48123, saving model to ./data\\TM-FNN_regression_model.hdf5\n",
      "36/36 [==============================] - 0s 2ms/step - loss: 0.8087 - lr: 0.0010 - val_loss: 0.4812 - val_lr: 0.0010\n",
      "Epoch 50/1000\n",
      " 1/36 [..............................] - ETA: 0s - loss: 0.6775 - lr: 0.0010\n",
      "Epoch 50: val_loss did not improve from 0.48123\n",
      "36/36 [==============================] - 0s 2ms/step - loss: 0.7645 - lr: 0.0010 - val_loss: 0.4924 - val_lr: 0.0010\n",
      "Epoch 51/1000\n",
      " 1/36 [..............................] - ETA: 0s - loss: 1.0774 - lr: 0.0010\n",
      "Epoch 51: val_loss did not improve from 0.48123\n",
      "36/36 [==============================] - 0s 2ms/step - loss: 0.7897 - lr: 0.0010 - val_loss: 0.5048 - val_lr: 0.0010\n",
      "Epoch 52/1000\n",
      " 1/36 [..............................] - ETA: 0s - loss: 0.5879 - lr: 0.0010\n",
      "Epoch 52: val_loss did not improve from 0.48123\n",
      "36/36 [==============================] - 0s 2ms/step - loss: 0.7546 - lr: 0.0010 - val_loss: 0.5678 - val_lr: 0.0010\n",
      "Epoch 53/1000\n",
      " 1/36 [..............................] - ETA: 0s - loss: 0.5001 - lr: 0.0010\n",
      "Epoch 53: val_loss did not improve from 0.48123\n",
      "36/36 [==============================] - 0s 2ms/step - loss: 0.7427 - lr: 0.0010 - val_loss: 0.5739 - val_lr: 0.0010\n",
      "Epoch 54/1000\n",
      " 1/36 [..............................] - ETA: 0s - loss: 0.6839 - lr: 0.0010\n",
      "Epoch 54: val_loss did not improve from 0.48123\n",
      "36/36 [==============================] - 0s 2ms/step - loss: 0.8096 - lr: 0.0010 - val_loss: 0.6052 - val_lr: 0.0010\n",
      "Epoch 55/1000\n",
      " 1/36 [..............................] - ETA: 0s - loss: 1.0477 - lr: 0.0010\n",
      "Epoch 55: val_loss did not improve from 0.48123\n",
      "36/36 [==============================] - 0s 2ms/step - loss: 0.7310 - lr: 0.0010 - val_loss: 0.5276 - val_lr: 0.0010\n",
      "Epoch 56/1000\n",
      " 1/36 [..............................] - ETA: 0s - loss: 0.9506 - lr: 0.0010\n",
      "Epoch 56: val_loss did not improve from 0.48123\n",
      "36/36 [==============================] - 0s 2ms/step - loss: 0.7030 - lr: 0.0010 - val_loss: 0.6096 - val_lr: 0.0010\n",
      "Epoch 57/1000\n",
      "33/36 [==========================>...] - ETA: 0s - loss: 0.7017 - lr: 0.0010\n",
      "Epoch 57: val_loss did not improve from 0.48123\n",
      "36/36 [==============================] - 0s 2ms/step - loss: 0.7096 - lr: 0.0010 - val_loss: 0.5603 - val_lr: 0.0010\n",
      "Epoch 58/1000\n",
      " 1/36 [..............................] - ETA: 0s - loss: 0.7628 - lr: 0.0010\n",
      "Epoch 58: val_loss did not improve from 0.48123\n",
      "36/36 [==============================] - 0s 2ms/step - loss: 0.7088 - lr: 0.0010 - val_loss: 0.5570 - val_lr: 0.0010\n",
      "Epoch 59/1000\n",
      " 1/36 [..............................] - ETA: 0s - loss: 0.5696 - lr: 0.0010\n",
      "Epoch 59: ReduceLROnPlateau reducing learning rate to 0.0005000000237487257.\n",
      "\n",
      "Epoch 59: val_loss did not improve from 0.48123\n",
      "36/36 [==============================] - 0s 2ms/step - loss: 0.7571 - lr: 0.0010 - val_loss: 0.5633 - val_lr: 0.0010\n",
      "Epoch 59: early stopping\n"
     ]
    }
   ],
   "source": [
    "# Early stopping parameters\n",
    "\n",
    "callbacks_list = [\n",
    "    ReduceLROnPlateau(monitor='val_loss', factor=0.5, patience=10, min_lr=0.00000001, verbose=1, mode='auto',cooldown=0),\n",
    "    ModelCheckpoint(filepath=\"./data/TM-FNN_regression_model.hdf5\", monitor='val_loss', save_best_only=True, verbose=1, mode='auto'),\n",
    "    EarlyStopping(monitor='val_loss', min_delta=0.001, patience=10, mode='min', verbose=1)\n",
    "    ]\n",
    "\n",
    "\n",
    "# parameters for train network\n",
    "\n",
    "epochs=1000\n",
    "batch_size=40\n",
    "\n",
    "history = model.fit(X_train, y_train, \n",
    "                    epochs=epochs,\n",
    "                    batch_size=batch_size,\n",
    "                    validation_data=(X_val, y_val),\n",
    "                    callbacks=(callbacks_list))"
   ]
  },
  {
   "cell_type": "code",
   "execution_count": 6,
   "id": "bab0eb2d",
   "metadata": {
    "scrolled": false
   },
   "outputs": [
    {
     "data": {
      "image/png": "[encoded data removed]",
      "text/plain": [
       "<Figure size 936x648 with 2 Axes>"
      ]
     },
     "metadata": {
      "needs_background": "light"
     },
     "output_type": "display_data"
    }
   ],
   "source": [
    "#Plot model history\n",
    "ts_helper.plot_history(history)"
   ]
  },
  {
   "cell_type": "code",
   "execution_count": 7,
   "id": "93120716",
   "metadata": {
    "scrolled": true
   },
   "outputs": [
    {
     "name": "stdout",
     "output_type": "stream",
     "text": [
      "Metric for a Regression Model\n",
      "45/45 [==============================] - 0s 747us/step\n",
      "Statistic       Value\n",
      "-----------  --------\n",
      "MSE          0.356821\n",
      "MAE          0.458045\n",
      "R2           0.790961\n"
     ]
    },
    {
     "data": {
      "image/png": "[encoded data removed]",
      "text/plain": [
       "<Figure size 432x288 with 1 Axes>"
      ]
     },
     "metadata": {
      "needs_background": "light"
     },
     "output_type": "display_data"
    },
    {
     "name": "stdout",
     "output_type": "stream",
     "text": [
      "Metric for a Regression Model\n",
      "6/6 [==============================] - 0s 999us/step\n",
      "Statistic       Value\n",
      "-----------  --------\n",
      "MSE          0.534289\n",
      "MAE          0.572691\n",
      "R2           0.663653\n"
     ]
    },
    {
     "data": {
      "image/png": "[encoded data removed]",
      "text/plain": [
       "<Figure size 432x288 with 1 Axes>"
      ]
     },
     "metadata": {
      "needs_background": "light"
     },
     "output_type": "display_data"
    },
    {
     "name": "stdout",
     "output_type": "stream",
     "text": [
      "Metric for a Regression Model\n",
      "6/6 [==============================] - 0s 1ms/step\n",
      "Statistic       Value\n",
      "-----------  --------\n",
      "MSE          0.56329\n",
      "MAE          0.568989\n",
      "R2           0.5874\n"
     ]
    },
    {
     "data": {
      "image/png": "[encoded data removed]",
      "text/plain": [
       "<Figure size 432x288 with 1 Axes>"
      ]
     },
     "metadata": {
      "needs_background": "light"
     },
     "output_type": "display_data"
    },
    {
     "name": "stdout",
     "output_type": "stream",
     "text": [
      "45/45 [==============================] - 0s 614us/step\n",
      "6/6 [==============================] - 0s 1ms/step\n",
      "6/6 [==============================] - 0s 803us/step\n"
     ]
    },
    {
     "data": {
      "image/png": "[encoded data removed]",
      "text/plain": [
       "<Figure size 432x288 with 1 Axes>"
      ]
     },
     "metadata": {
      "needs_background": "light"
     },
     "output_type": "display_data"
    }
   ],
   "source": [
    "#Statistical characteristico of model without 3-sigma rule\n",
    "THRESHOLD = 0.5\n",
    "#print(X_train.shape,y_train.shape)\n",
    "#print(X_val.shape,y_val.shape)\n",
    "#print(X_test.shape,y_test[:,0])\n",
    "ts_helper.get_modelStatsFor_Train_Test_Validation(model, X_train, y_train, X_test, y_test, X_val, y_val,NUM_TASKS,THRESHOLD)"
   ]
  }
 ],
 "metadata": {
  "kernelspec": {
   "display_name": "AI",
   "language": "python",
   "name": "python3"
  },
  "language_info": {
   "codemirror_mode": {
    "name": "ipython",
    "version": 3
   },
   "file_extension": ".py",
   "mimetype": "text/x-python",
   "name": "python",
   "nbconvert_exporter": "python",
   "pygments_lexer": "ipython3",
   "version": "3.9.12"
  },
  "vscode": {
   "interpreter": {
    "hash": "305c663c06086012150402cb542001f2c1c554dcd7eca29927fc1d739b83f0a9"
   }
  }
 },
 "nbformat": 4,
 "nbformat_minor": 5
}
