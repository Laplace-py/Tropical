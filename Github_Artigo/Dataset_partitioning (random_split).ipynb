{
 "cells": [
  {
   "cell_type": "code",
   "execution_count": 3,
   "id": "a54bd168",
   "metadata": {
    "scrolled": true
   },
   "outputs": [
    {
     "name": "stdout",
     "output_type": "stream",
     "text": [
      "started splitting!\n",
      "fold: 0\n",
      "using seed: 28242\n"
     ]
    },
    {
     "name": "stderr",
     "output_type": "stream",
     "text": [
      "100%|████████████████████████████████████████████████████████████████████████████| 2253/2253 [00:00<00:00, 2965.41it/s]\n"
     ]
    },
    {
     "name": "stdout",
     "output_type": "stream",
     "text": [
      "(1802, 1)\n",
      "(225, 1)\n",
      "(226, 1)\n",
      "fold: 1\n",
      "using seed: 20678\n"
     ]
    },
    {
     "name": "stderr",
     "output_type": "stream",
     "text": [
      "100%|████████████████████████████████████████████████████████████████████████████| 2253/2253 [00:00<00:00, 3064.11it/s]\n"
     ]
    },
    {
     "name": "stdout",
     "output_type": "stream",
     "text": [
      "(1802, 1)\n",
      "(225, 1)\n",
      "(226, 1)\n",
      "fold: 2\n",
      "using seed: 13617\n"
     ]
    },
    {
     "name": "stderr",
     "output_type": "stream",
     "text": [
      "100%|████████████████████████████████████████████████████████████████████████████| 2253/2253 [00:00<00:00, 3358.98it/s]\n"
     ]
    },
    {
     "name": "stdout",
     "output_type": "stream",
     "text": [
      "(1802, 1)\n",
      "(225, 1)\n",
      "(226, 1)\n",
      "fold: 3\n",
      "using seed: 28478\n"
     ]
    },
    {
     "name": "stderr",
     "output_type": "stream",
     "text": [
      "100%|████████████████████████████████████████████████████████████████████████████| 2253/2253 [00:00<00:00, 3772.85it/s]\n"
     ]
    },
    {
     "name": "stdout",
     "output_type": "stream",
     "text": [
      "(1802, 1)\n",
      "(225, 1)\n",
      "(226, 1)\n",
      "fold: 4\n",
      "using seed: 8357\n"
     ]
    },
    {
     "name": "stderr",
     "output_type": "stream",
     "text": [
      "100%|████████████████████████████████████████████████████████████████████████████| 2253/2253 [00:00<00:00, 3418.55it/s]\n"
     ]
    },
    {
     "name": "stdout",
     "output_type": "stream",
     "text": [
      "(1802, 1)\n",
      "(225, 1)\n",
      "(226, 1)\n",
      "finished splitting!\n"
     ]
    }
   ],
   "source": [
    "from utils.split import *\n",
    "\n",
    "########################################################\n",
    "# example usage to random split the dataset 5 times\n",
    "\n",
    "dataset = \"./data/rhodesiense.csv\"\n",
    "\n",
    "out_dir = './data/rhodesiense/'\n",
    "\n",
    "print('started splitting!')\n",
    "\n",
    "for k in range(5):\n",
    "    print('fold: %s' % k)\n",
    "    seed_val = randint(1, 50000)\n",
    "    print('using seed: %s' % seed_val)\n",
    "    train, test, valid = random_split(dataset, seed_val) # change split type and see value here\n",
    "    train_file_path = f\"{out_dir}train_fold_{str(k)}.csv\"\n",
    "    test_file_path = f\"{out_dir}test_fold_{str(k)}.csv\"\n",
    "    valid_file_path = f\"{out_dir}valid_fold_{str(k)}.csv\"\n",
    "    train.to_csv(train_file_path, index=None)\n",
    "    test.to_csv(test_file_path, index=None)\n",
    "    valid.to_csv(valid_file_path, index=None)\n",
    "    print(train.shape)\n",
    "    print(test.shape)\n",
    "    print(valid.shape)\n",
    "\n",
    "print('finished splitting!')"
   ]
  },
  {
   "cell_type": "code",
   "execution_count": 4,
   "id": "47fcc997",
   "metadata": {},
   "outputs": [],
   "source": [
    "# read dataset and join features (random split)\n",
    "data = pd.read_csv('./data/rhodesiense.csv', sep=',', dtype={'ID': str})\n",
    "\n",
    "# join features\n",
    "data_df=data\n",
    "\n",
    "# read training and test ids for each fold\n",
    "for i in range(5):\n",
    "    train = f\"./data/rhodesiense/train_fold_{i}.csv\"\n",
    "    test = f\"./data/rhodesiense/test_fold_{i}.csv\"\n",
    "    validation = f\"./data/rhodesiense/valid_fold_{i}.csv\"\n",
    "\n",
    "    train_df = pd.read_csv(train, dtype={'ID': str})\n",
    "    test_df = pd.read_csv(test, dtype={'ID': str})\n",
    "    valid_df = pd.read_csv(validation, dtype={'ID': str})\n",
    "\n",
    "    # join with data\n",
    "    train_df = pd.merge(train_df, data_df, on='ID')\n",
    "    test_df = pd.merge(test_df, data_df, on='ID')\n",
    "    valid_df = pd.merge(valid_df, data_df, on='ID')\n",
    "    train_df.to_csv(f\"./data/rhodesiense/train_fold_{i}.csv\", index=False)\n",
    "    test_df.to_csv(f\"./data/rhodesiense/test_fold_{i}.csv\", index=False)\n",
    "    valid_df.to_csv(f\"./data/rhodesiense/valid_fold_{i}.csv\", index=False)"
   ]
  },
  {
   "cell_type": "code",
   "execution_count": null,
   "id": "d2bdc660",
   "metadata": {},
   "outputs": [],
   "source": []
  }
 ],
 "metadata": {
  "interpreter": {
   "hash": "eb6a293caa7589e2a7c0e9046d66e90625b7652428ca1f53971d2efccf17d714"
  },
  "kernelspec": {
   "display_name": "Python 3 (ipykernel)",
   "language": "python",
   "name": "python3"
  },
  "language_info": {
   "codemirror_mode": {
    "name": "ipython",
    "version": 3
   },
   "file_extension": ".py",
   "mimetype": "text/x-python",
   "name": "python",
   "nbconvert_exporter": "python",
   "pygments_lexer": "ipython3",
   "version": "3.9.12"
  }
 },
 "nbformat": 4,
 "nbformat_minor": 5
}
