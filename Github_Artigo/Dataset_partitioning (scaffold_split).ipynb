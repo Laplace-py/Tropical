{
 "cells": [
  {
   "cell_type": "code",
   "execution_count": 6,
   "id": "1ef77cda",
   "metadata": {},
   "outputs": [
    {
     "name": "stdout",
     "output_type": "stream",
     "text": [
      "started splitting!\n",
      "fold: 0\n",
      "using seed: 47406\n"
     ]
    },
    {
     "name": "stderr",
     "output_type": "stream",
     "text": [
      "100%|██████████████████████████████████████████████████████████████████████████████| 703/703 [00:00<00:00, 3051.02it/s]\n",
      "100%|██████████████████████████████████████████████████████████████████████████████| 703/703 [00:00<00:00, 2333.86it/s]\n"
     ]
    },
    {
     "name": "stdout",
     "output_type": "stream",
     "text": [
      "(562, 1)\n",
      "(70, 1)\n",
      "(71, 1)\n",
      "fold: 1\n",
      "using seed: 47406\n"
     ]
    },
    {
     "name": "stderr",
     "output_type": "stream",
     "text": [
      "100%|██████████████████████████████████████████████████████████████████████████████| 703/703 [00:00<00:00, 3175.12it/s]\n",
      "100%|██████████████████████████████████████████████████████████████████████████████| 703/703 [00:00<00:00, 2381.36it/s]\n"
     ]
    },
    {
     "name": "stdout",
     "output_type": "stream",
     "text": [
      "(562, 1)\n",
      "(70, 1)\n",
      "(71, 1)\n",
      "fold: 2\n",
      "using seed: 47406\n"
     ]
    },
    {
     "name": "stderr",
     "output_type": "stream",
     "text": [
      "100%|██████████████████████████████████████████████████████████████████████████████| 703/703 [00:00<00:00, 2876.69it/s]\n",
      "100%|██████████████████████████████████████████████████████████████████████████████| 703/703 [00:00<00:00, 1766.60it/s]\n"
     ]
    },
    {
     "name": "stdout",
     "output_type": "stream",
     "text": [
      "(562, 1)\n",
      "(70, 1)\n",
      "(71, 1)\n",
      "fold: 3\n",
      "using seed: 47406\n"
     ]
    },
    {
     "name": "stderr",
     "output_type": "stream",
     "text": [
      "100%|██████████████████████████████████████████████████████████████████████████████| 703/703 [00:00<00:00, 2055.05it/s]\n",
      "100%|██████████████████████████████████████████████████████████████████████████████| 703/703 [00:00<00:00, 1686.31it/s]\n"
     ]
    },
    {
     "name": "stdout",
     "output_type": "stream",
     "text": [
      "(562, 1)\n",
      "(70, 1)\n",
      "(71, 1)\n",
      "fold: 4\n",
      "using seed: 47406\n"
     ]
    },
    {
     "name": "stderr",
     "output_type": "stream",
     "text": [
      "100%|██████████████████████████████████████████████████████████████████████████████| 703/703 [00:00<00:00, 2481.95it/s]\n",
      "100%|██████████████████████████████████████████████████████████████████████████████| 703/703 [00:00<00:00, 1947.08it/s]\n"
     ]
    },
    {
     "name": "stdout",
     "output_type": "stream",
     "text": [
      "(562, 1)\n",
      "(70, 1)\n",
      "(71, 1)\n",
      "finished splitting!\n"
     ]
    }
   ],
   "source": [
    "from utils.split import *\n",
    "\n",
    "########################################################\n",
    "# example usage to scaffold split the dataset 5 times\n",
    "\n",
    "dataset = \"./data/HSV_regression.csv\"\n",
    "\n",
    "out_dir = './data/HSV_regression/'\n",
    "\n",
    "print('started splitting!')\n",
    "\n",
    "for k in range(5):\n",
    "    print('fold: %s' % k)\n",
    "    seed_val = randint(1, 50000)\n",
    "    print('using seed: %s' % seed_val)\n",
    "    train, test, valid = scaffold_split(dataset, seed_val) # change split type and see value here\n",
    "    train_file_path = f\"{out_dir}train_fold_{str(k)}.csv\"\n",
    "    test_file_path = f\"{out_dir}test_fold_{str(k)}.csv\"\n",
    "    valid_file_path = f\"{out_dir}valid_fold_{str(k)}.csv\"\n",
    "    train.to_csv(train_file_path, index=None)\n",
    "    test.to_csv(test_file_path, index=None)\n",
    "    valid.to_csv(valid_file_path, index=None)\n",
    "    print(train.shape)\n",
    "    print(test.shape)\n",
    "    print(valid.shape)\n",
    "\n",
    "print('finished splitting!')"
   ]
  },
  {
   "cell_type": "code",
   "execution_count": 7,
   "id": "b72c4d8c",
   "metadata": {},
   "outputs": [],
   "source": [
    "# read dataset and join features (scaffold split)\n",
    "data = pd.read_csv('./data/HSV_regression.csv', sep=',', dtype={'ID': str})\n",
    "\n",
    "# join features\n",
    "data_df=data\n",
    "\n",
    "# read training and test ids for each fold\n",
    "for i in range(5):\n",
    "    train = f\"./data/HSV_regression/train_fold_{i}.csv\"\n",
    "    test = f\"./data/HSV_regression/test_fold_{i}.csv\"\n",
    "    validation = f\"./data/HSV_regression/valid_fold_{i}.csv\"\n",
    "\n",
    "    train_df = pd.read_csv(train, dtype={'ID': str})\n",
    "    test_df = pd.read_csv(test, dtype={'ID': str})\n",
    "    valid_df = pd.read_csv(validation, dtype={'ID': str})\n",
    "\n",
    "    # join with data\n",
    "    train_df = pd.merge(train_df, data_df, on='ID')\n",
    "    test_df = pd.merge(test_df, data_df, on='ID')\n",
    "    valid_df = pd.merge(valid_df, data_df, on='ID')\n",
    "    train_df.to_csv(f\"./data/HSV_regression/train_fold_{i}.csv\", index=False)\n",
    "    test_df.to_csv(f\"./data/HSV_regression/test_fold_{i}.csv\", index=False)\n",
    "    valid_df.to_csv(f\"./data/HSV_regression/valid_fold_{i}.csv\", index=False)"
   ]
  }
 ],
 "metadata": {
  "interpreter": {
   "hash": "eb6a293caa7589e2a7c0e9046d66e90625b7652428ca1f53971d2efccf17d714"
  },
  "kernelspec": {
   "display_name": "Python 3 (ipykernel)",
   "language": "python",
   "name": "python3"
  },
  "language_info": {
   "codemirror_mode": {
    "name": "ipython",
    "version": 3
   },
   "file_extension": ".py",
   "mimetype": "text/x-python",
   "name": "python",
   "nbconvert_exporter": "python",
   "pygments_lexer": "ipython3",
   "version": "3.9.12"
  }
 },
 "nbformat": 4,
 "nbformat_minor": 5
}
