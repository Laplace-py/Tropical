{
 "cells": [
  {
   "cell_type": "code",
   "execution_count": null,
   "id": "539345d1",
   "metadata": {
    "scrolled": true
   },
   "outputs": [],
   "source": [
    "#Import standard packages for model training\n",
    "\n",
    "import sklearn as SK\n",
    "from sklearn.ensemble import RandomForestClassifier\n",
    "from sklearn.metrics import *\n",
    "from sklearn.metrics import confusion_matrix\n",
    "from sklearn.model_selection import *\n",
    "from skopt import BayesSearchCV\n",
    "import numpy as np\n",
    "import pandas as pd\n",
    "import os \n",
    "import io\n",
    "from tensorboard.plugins.hparams import api as hp\n",
    "from utils import utils\n",
    "\n",
    "commons = utils.Commons()\n",
    "ts_helper = utils.TS_Helper()\n",
    "shap_helper = utils.Shap_Helper()\n",
    "\n",
    "ts_helper.model_type = ts_helper.Classification\n",
    "os.environ[\"TF_CPP_MIN_LOG_LEVEL\"] = \"-1\""
   ]
  },
  {
   "cell_type": "code",
   "execution_count": null,
   "id": "dbf80ac7",
   "metadata": {
    "scrolled": false
   },
   "outputs": [],
   "source": [
    "#Inport train, validation and test sets\n",
    "\n",
    "training = './data/Classification/Tb.brucei/scaffold_split/train_fold_4.csv'\n",
    "validation = './data/Classification/Tb.brucei/scaffold_split/valid_fold_4.csv'\n",
    "test = './data/Classification/Tb.brucei/scaffold_split/test_fold_4.csv'\n",
    "TASK_START = 2\n",
    "NUM_TASKS = 1\n",
    "SMILES = 'SMILES'\n",
    "train_dataset,y_train,train_smiles = commons.load_dataset(training,SMILES,TASK_START,NUM_TASKS)\n",
    "valid_dataset,y_val,val_smiles = commons.load_dataset(validation,SMILES,TASK_START,NUM_TASKS)\n",
    "test_dataset,y_test,test_smiles = commons.load_dataset(test,SMILES,TASK_START,NUM_TASKS)\n",
    "\n",
    "train_dataset.head()"
   ]
  },
  {
   "cell_type": "code",
   "execution_count": null,
   "id": "1f97fed3",
   "metadata": {
    "scrolled": true
   },
   "outputs": [],
   "source": []
  },
  {
   "cell_type": "code",
   "execution_count": null,
   "id": "dc355297",
   "metadata": {
    "scrolled": true
   },
   "outputs": [],
   "source": [
    "# calculate ECFP (defaut) fingerprints using RDKit\n",
    "RADIUS = 2 #diameter 4\n",
    "FP_SIZE = 2048  #bit string size\n",
    "FEAT = False #used when you consider pharmacophoric features\n",
    "X_train = commons.assing_fp(train_smiles,FP_SIZE,RADIUS,FEAT)\n",
    "X_test = commons.assing_fp(test_smiles,FP_SIZE,RADIUS,FEAT)\n",
    "\n",
    "y_train = y_train.ravel()\n",
    "y_train = np.array(y_train).astype(int)\n",
    "y_test = y_test.ravel()\n",
    "y_test = np.array(y_test).astype(int)\n",
    "\n",
    "X_train.shape, X_test.shape"
   ]
  },
  {
   "cell_type": "code",
   "execution_count": null,
   "id": "282c103b",
   "metadata": {
    "scrolled": true
   },
   "outputs": [],
   "source": [
    "#Parameters for train model\n",
    "\n",
    "cv = RepeatedStratifiedKFold(n_splits=5, n_repeats=3, random_state=1)\n",
    "scorer = make_scorer(mean_squared_error)\n",
    "\n",
    "#log-uniform: understand as search over p = exp(x) by varying x\n",
    "\n",
    "model = BayesSearchCV(RandomForestClassifier(),\n",
    "    {\n",
    "    'max_features': ['auto', 'sqrt'],\n",
    "    'n_estimators': [2, 150],\n",
    "    \"max_depth\": [2, 10],\n",
    "    },\n",
    "    n_iter=2, # Number of parameter settings that are sampled\n",
    "    cv=cv,\n",
    "    scoring = scorer,\n",
    "    refit = True, # Refit the best estimator with the entire dataset.\n",
    "    random_state=42,\n",
    "    n_jobs = -1\n",
    ")\n",
    "\n",
    "model.fit(X_train, y_train)\n",
    "\n",
    "print(\"Best parameters: %s\" % model.best_params_)"
   ]
  },
  {
   "cell_type": "code",
   "execution_count": null,
   "id": "59b20a0e",
   "metadata": {
    "scrolled": true
   },
   "outputs": [],
   "source": [
    "#Fit model using best hyperparameters\n",
    "\n",
    "best_model = RandomForestClassifier(**model.best_params_)\n",
    "best_model.fit(X_train, y_train)\n"
   ]
  },
  {
   "cell_type": "code",
   "execution_count": 7,
   "id": "218f45c5",
   "metadata": {
    "scrolled": true
   },
   "outputs": [
    {
     "name": "stdout",
     "output_type": "stream",
     "text": [
      "Confusion matrix: [[47 32]\n",
      " [ 7 45]]\n",
      "Statistic       Value\n",
      "-----------  --------\n",
      "Accuracy     0.70229\n",
      "Precision    0.584416\n",
      "Recall       0.865385\n",
      "F1           0.697674\n",
      "MCC          0.457545\n",
      "Kappa        0.425374\n",
      "SE           0.865385\n",
      "SP           0.594937\n",
      "PPV          0.584416\n",
      "NPV          0.87037\n",
      "TPR          0.865385\n",
      "FPR          0.405063\n",
      "[[47 32]\n",
      " [ 7 45]]\n"
     ]
    },
    {
     "data": {
      "image/png": "[encoded data removed]",
      "text/plain": [
       "<Figure size 432x288 with 2 Axes>"
      ]
     },
     "metadata": {
      "needs_background": "light"
     },
     "output_type": "display_data"
    }
   ],
   "source": [
    "#Statistical characteristics of model\n",
    "\n",
    "y_pred_train = (model.predict_proba(X_train)[:,1] >= 0.5).astype(bool)\n",
    "y_pred_test = (model.predict_proba(X_test)[:,1] >= 0.5).astype(bool)\n",
    "\n",
    "#ts_helper.get_modeStatsFor_Train_Test(model,X_train,y_pred_train,X_test,y_pred_test)\n",
    "\n",
    "prediction_df = pd.DataFrame({'SMILES': test_smiles, 'y': y_test, 'pred': y_pred_test})\n",
    "confusion, (TP, TN, FP, FN) = ts_helper.calc_confusion_matrix(prediction_df)\n",
    "\n",
    "text,_  =  ts_helper.calc_Statistics(TP, TN, FP, FN, prediction_df)\n",
    "\n",
    "print(text)\n",
    "\n",
    "ts_helper.plot_Classification(confusion,[['T','F'],[\"P\",\"N\"]],title='Test set')\n",
    "\n",
    "\n",
    "# confusion = confusion_matrix(y_train, y_pred_train)\n",
    "#       #[row, column]\n",
    "# TP = confusion[1, 1]\n",
    "# TN = confusion[0, 0]\n",
    "# FP = confusion[0, 1]\n",
    "# FN = confusion[1, 0]\n",
    "\n",
    "# print((\"Train set results\"))\n",
    "# print(\"ACC\\t%.2f\" % ((TN+TP)/(TN+TP+FN+FP)))\n",
    "# print(\"MCC\\t%.2f\" % matthews_corrcoef(y_train, y_pred_train))\n",
    "# #print(\"kappa\\t%.2f\" % cohen_kappa_score(y_train, y_pred_train))\n",
    "# print(\"SE\\t%.2f\" % (TP/(TP+FN)))\n",
    "# print(\"SP\\t%.2f\" % (TN/(TN+FP)))\n",
    "# #print(\"PPV\\t%.2f\" % (TP/(TP+FP)))\n",
    "# #print(\"NPV\\t%.2f\" % (TN/(TN+FN)))\n",
    "# #print(\"TPR\\t%.2f\" %(TP/(TP+FN)))\n",
    "# #print(\"FPR\\t%.2f\" %(FP/(FP+TN)))\n",
    "# #print(\"F1\\t%.2f\" % f1_score(y_train, y_pred_train))\n",
    "\n",
    "\n",
    "# confusion_test = confusion_matrix(y_test, y_pred_test)\n",
    "#     #[row, column]\n",
    "# TP_test = confusion_test[1, 1]\n",
    "# TN_test = confusion_test[0, 0]\n",
    "# FP_test = confusion_test[0, 1]\n",
    "# FN_test = confusion_test[1, 0]\n",
    "\n",
    "# print((\"Test set results\"))\n",
    "# print(\"ACC\\t%.2f\" % ((TN_test+TP_test)/(TN_test+TP_test+FN_test+FP_test)))\n",
    "# print(\"MCC\\t%.2f\" % matthews_corrcoef(y_test, y_pred_test))\n",
    "# #print(\"kappa\\t%.2f\" % cohen_kappa_score(y_test, y_pred_test))\n",
    "# print(\"SE\\t%.2f\" % (TP_test/(TP_test+FN_test)))\n",
    "# print(\"SP\\t%.2f\" % (TN_test/(TN_test+FP_test)))\n",
    "# #print(\"PPV\\t%.2f\" % (TP_test/(TP_test+FP_test)))\n",
    "# #print(\"NPV\\t%.2f\" % (TN_test/(TN_test+FN_test)))\n",
    "# #print(\"TPR\\t%.2f\" %(TP_test/(TP_test+FN_test)))\n",
    "# #print(\"FPR\\t%.2f\" %(FP_test/(FP_test+TN_test)))\n",
    "# #print(\"F1\\t%.2f\" % f1_score(y_test, y_pred_test))\n"
   ]
  }
 ],
 "metadata": {
  "kernelspec": {
   "display_name": "AI",
   "language": "python",
   "name": "python3"
  },
  "language_info": {
   "codemirror_mode": {
    "name": "ipython",
    "version": 3
   },
   "file_extension": ".py",
   "mimetype": "text/x-python",
   "name": "python",
   "nbconvert_exporter": "python",
   "pygments_lexer": "ipython3",
   "version": "3.9.12"
  },
  "vscode": {
   "interpreter": {
    "hash": "305c663c06086012150402cb542001f2c1c554dcd7eca29927fc1d739b83f0a9"
   }
  }
 },
 "nbformat": 4,
 "nbformat_minor": 5
}
