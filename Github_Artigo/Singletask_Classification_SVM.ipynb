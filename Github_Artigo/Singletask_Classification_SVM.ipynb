{
 "cells": [
  {
   "cell_type": "code",
   "execution_count": null,
   "id": "539345d1",
   "metadata": {
    "scrolled": true
   },
   "outputs": [],
   "source": [
    "#Import standard packages for model training\n",
    "\n",
    "import sklearn as SK\n",
    "from sklearn.svm import SVC\n",
    "from sklearn.metrics import *\n",
    "from sklearn.metrics import confusion_matrix\n",
    "from sklearn.model_selection import *\n",
    "from skopt import BayesSearchCV\n",
    "import numpy as np\n",
    "import pandas as pd\n",
    "import os \n",
    "import io\n",
    "from tensorboard.plugins.hparams import api as hp\n",
    "\n",
    "os.environ[\"TF_CPP_MIN_LOG_LEVEL\"] = \"-1\""
   ]
  },
  {
   "cell_type": "code",
   "execution_count": null,
   "id": "dbf80ac7",
   "metadata": {
    "scrolled": false
   },
   "outputs": [],
   "source": [
    "#Inport train, validation and test sets\n",
    "\n",
    "training = './data/Classification/T.cruzi/random_split/train_fold_0.csv'\n",
    "validation = './data/Classification/T.cruzi/random_split/valid_fold_0.csv'\n",
    "test = './data/Classification/T.cruzi/random_split/test_fold_0.csv'\n",
    "\n",
    "train_dataset = pd.read_csv(training, delimiter=',', low_memory=False)\n",
    "valid_dataset = pd.read_csv(validation, delimiter=',', low_memory=False)\n",
    "test_dataset = pd.read_csv(test, delimiter=',', low_memory=False)\n",
    "\n",
    "train_dataset.head()"
   ]
  },
  {
   "cell_type": "code",
   "execution_count": null,
   "id": "1f97fed3",
   "metadata": {
    "scrolled": true
   },
   "outputs": [],
   "source": [
    "task_start=2\n",
    "task_index = 3\n",
    "\n",
    "# load training dataset\n",
    "\n",
    "train_dataset = pd.concat([valid_dataset, train_dataset], axis=0).reset_index(drop=True)\n",
    "y_train = np.array(train_dataset.iloc[:,2:task_index].values)\n",
    "print(f\"loaded y_train data: {y_train.shape}\")\n",
    "\n",
    "# load test dataset\n",
    "\n",
    "y_test = np.array(test_dataset.iloc[:,2:task_index].values)\n",
    "print(f\"loaded y_test data: {y_test.shape}\")"
   ]
  },
  {
   "cell_type": "code",
   "execution_count": null,
   "id": "dc355297",
   "metadata": {
    "scrolled": true
   },
   "outputs": [],
   "source": [
    "# calculate ECFP (defaut) fingerprints using RDKit\n",
    "\n",
    "from utils.fingerprints import *\n",
    "\n",
    "train_smiles=train_dataset[\"SMILES\"].values\n",
    "test_smiles=test_dataset[\"SMILES\"].values\n",
    "X_train = assing_fp(train_smiles,FP_SIZE,RADIUS)\n",
    "X_test = assing_fp(test_smiles,FP_SIZE,RADIUS)\n",
    "\n",
    "y_train = y_train.ravel()\n",
    "y_train = np.array(y_train).astype(int)\n",
    "y_test = y_test.ravel()\n",
    "y_test = np.array(y_test).astype(int)\n",
    "\n",
    "X_train.shape, X_test.shape"
   ]
  },
  {
   "cell_type": "code",
   "execution_count": null,
   "id": "282c103b",
   "metadata": {
    "scrolled": true
   },
   "outputs": [],
   "source": [
    "# parameters for train model\n",
    "\n",
    "cv = RepeatedStratifiedKFold(n_splits=5, n_repeats=3, random_state=1)\n",
    "scorer = make_scorer(mean_squared_error)\n",
    "\n",
    "# log-uniform: understand as search over p = exp(x) by varying x\n",
    "\n",
    "model = BayesSearchCV(SVC(probability=True),\n",
    "    {\n",
    "        'C': (1e-3, 1e-2, 'uniform'),\n",
    "        #'gamma': (1e-4, 1e+1, 'log-uniform'),\n",
    "        'kernel': ['rbf']\n",
    "    },\n",
    "    n_iter=1, # Number of parameter settings that are sampled\n",
    "    cv=cv,\n",
    "    scoring = scorer,\n",
    "    refit = False, # Refit the best estimator with the entire dataset.\n",
    "    random_state=42,\n",
    "    n_jobs = -1\n",
    ")\n",
    "\n",
    "model.fit(X_train, y_train)\n",
    "\n",
    "print(\"Best parameters: %s\" % model.best_params_)"
   ]
  },
  {
   "cell_type": "code",
   "execution_count": null,
   "id": "59b20a0e",
   "metadata": {
    "scrolled": true
   },
   "outputs": [],
   "source": [
    "#Fit model using best hyperparameters\n",
    "\n",
    "model = SVC(**model.best_params_)\n",
    "model.fit(X_train, y_train)"
   ]
  },
  {
   "cell_type": "code",
   "execution_count": null,
   "id": "218f45c5",
   "metadata": {},
   "outputs": [],
   "source": [
    "#Statistical characteristics of model\n",
    "\n",
    "y_pred_train = model.predict(X_train)\n",
    "y_pred_test = model.predict(X_test)\n",
    "\n",
    "confusion = confusion_matrix(y_train, y_pred_train)\n",
    "    #[row, column]\n",
    "TP = confusion[1, 1]\n",
    "TN = confusion[0, 0]\n",
    "FP = confusion[0, 1]\n",
    "FN = confusion[1, 0]\n",
    "\n",
    "print((\"Train set results\"))\n",
    "print(\"ACC\\t%.2f\" % ((TN+TP)/(TN+TP+FN+FP)))\n",
    "print(\"MCC\\t%.2f\" % matthews_corrcoef(y_train, y_pred_train))\n",
    "#print(\"kappa\\t%.2f\" % cohen_kappa_score(y_train, y_pred_train))\n",
    "print(\"SE\\t%.2f\" % (TP/(TP+FN)))\n",
    "print(\"SP\\t%.2f\" % (TN/(TN+FP)))\n",
    "#print(\"PPV\\t%.2f\" % (TP/(TP+FP)))\n",
    "#print(\"NPV\\t%.2f\" % (TN/(TN+FN)))\n",
    "#print(\"TPR\\t%.2f\" %(TP/(TP+FN)))\n",
    "#print(\"FPR\\t%.2f\" %(FP/(FP+TN)))\n",
    "#print(\"F1\\t%.2f\" % f1_score(y_train, y_pred_train))\n",
    "\n",
    "\n",
    "confusion_test = confusion_matrix(y_test, y_pred_test)\n",
    "    #[row, column]\n",
    "TP_test = confusion[1, 1]\n",
    "TN_test = confusion[0, 0]\n",
    "FP_test = confusion[0, 1]\n",
    "FN_test = confusion[1, 0]\n",
    "\n",
    "print((\"Test set results\"))\n",
    "print(\"ACC\\t%.2f\" % ((TN_test+TP_test)/(TN_test+TP_test+FN_test+FP_test)))\n",
    "print(\"MCC\\t%.2f\" % matthews_corrcoef(y_test, y_pred_test))\n",
    "#print(\"kappa\\t%.2f\" % cohen_kappa_score(y_test, y_pred_test))\n",
    "print(\"SE\\t%.2f\" % (TP_test/(TP_test+FN_test)))\n",
    "print(\"SP\\t%.2f\" % (TN_test/(TN_test+FP_test)))\n",
    "#print(\"PPV\\t%.2f\" % (TP_test/(TP_test+FP_test)))\n",
    "#print(\"NPV\\t%.2f\" % (TN_test/(TN_test+FN_test)))\n",
    "#print(\"TPR\\t%.2f\" %(TP_test/(TP_test+FN_test)))\n",
    "#print(\"FPR\\t%.2f\" %(FP_test/(FP_test+TN_test)))\n",
    "#print(\"F1\\t%.2f\" % f1_score(y_test, y_pred_test))"
   ]
  }
 ],
 "metadata": {
  "kernelspec": {
   "display_name": "Python 3 (ipykernel)",
   "language": "python",
   "name": "python3"
  },
  "language_info": {
   "codemirror_mode": {
    "name": "ipython",
    "version": 3
   },
   "file_extension": ".py",
   "mimetype": "text/x-python",
   "name": "python",
   "nbconvert_exporter": "python",
   "pygments_lexer": "ipython3",
   "version": "3.9.12"
  }
 },
 "nbformat": 4,
 "nbformat_minor": 5
}
