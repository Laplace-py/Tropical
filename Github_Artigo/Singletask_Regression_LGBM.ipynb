{
 "cells": [
  {
   "cell_type": "code",
   "execution_count": 1,
   "id": "539345d1",
   "metadata": {
    "scrolled": true
   },
   "outputs": [],
   "source": [
    "#Import standard packages for model training\n",
    "\n",
    "import sklearn as SK\n",
    "import lightgbm as lgb\n",
    "from sklearn.metrics import *\n",
    "from sklearn.metrics import confusion_matrix\n",
    "from sklearn.model_selection import *\n",
    "from skopt import BayesSearchCV\n",
    "import numpy as np\n",
    "import pandas as pd\n",
    "import scipy.stats\n",
    "from math import sqrt\n",
    "import os \n",
    "import io\n",
    "from tensorboard.plugins.hparams import api as hp\n",
    "\n",
    "os.environ[\"TF_CPP_MIN_LOG_LEVEL\"] = \"-1\""
   ]
  },
  {
   "cell_type": "code",
   "execution_count": 214,
   "id": "dbf80ac7",
   "metadata": {
    "scrolled": false
   },
   "outputs": [
    {
     "data": {
      "text/html": [
       "<div>\n",
       "<style scoped>\n",
       "    .dataframe tbody tr th:only-of-type {\n",
       "        vertical-align: middle;\n",
       "    }\n",
       "\n",
       "    .dataframe tbody tr th {\n",
       "        vertical-align: top;\n",
       "    }\n",
       "\n",
       "    .dataframe thead th {\n",
       "        text-align: right;\n",
       "    }\n",
       "</style>\n",
       "<table border=\"1\" class=\"dataframe\">\n",
       "  <thead>\n",
       "    <tr style=\"text-align: right;\">\n",
       "      <th></th>\n",
       "      <th>ID</th>\n",
       "      <th>SMILES</th>\n",
       "      <th>Tb.brucei</th>\n",
       "    </tr>\n",
       "  </thead>\n",
       "  <tbody>\n",
       "    <tr>\n",
       "      <th>0</th>\n",
       "      <td>4317</td>\n",
       "      <td>CN(C1C=CC(C=CC=NNC(=S)N)=CC=1)C</td>\n",
       "      <td>4.751781</td>\n",
       "    </tr>\n",
       "    <tr>\n",
       "      <th>1</th>\n",
       "      <td>3961</td>\n",
       "      <td>CCCCCCOC(OCCC1C=C(O)C(O)=CC=1)=O</td>\n",
       "      <td>6.698970</td>\n",
       "    </tr>\n",
       "    <tr>\n",
       "      <th>2</th>\n",
       "      <td>4169</td>\n",
       "      <td>OCCCCCCOC(OCCC1C=C(O)C(O)=CC=1)=O</td>\n",
       "      <td>5.387216</td>\n",
       "    </tr>\n",
       "    <tr>\n",
       "      <th>3</th>\n",
       "      <td>3988</td>\n",
       "      <td>CCCCCCCCCOC(OCCC1C=C(O)C(O)=CC=1)=O</td>\n",
       "      <td>6.397940</td>\n",
       "    </tr>\n",
       "    <tr>\n",
       "      <th>4</th>\n",
       "      <td>4002</td>\n",
       "      <td>CCCCCCCCOC(OCCC1C=C(O)C(O)=CC=1)=O</td>\n",
       "      <td>6.301030</td>\n",
       "    </tr>\n",
       "  </tbody>\n",
       "</table>\n",
       "</div>"
      ],
      "text/plain": [
       "     ID                               SMILES  Tb.brucei\n",
       "0  4317      CN(C1C=CC(C=CC=NNC(=S)N)=CC=1)C   4.751781\n",
       "1  3961     CCCCCCOC(OCCC1C=C(O)C(O)=CC=1)=O   6.698970\n",
       "2  4169    OCCCCCCOC(OCCC1C=C(O)C(O)=CC=1)=O   5.387216\n",
       "3  3988  CCCCCCCCCOC(OCCC1C=C(O)C(O)=CC=1)=O   6.397940\n",
       "4  4002   CCCCCCCCOC(OCCC1C=C(O)C(O)=CC=1)=O   6.301030"
      ]
     },
     "execution_count": 214,
     "metadata": {},
     "output_type": "execute_result"
    }
   ],
   "source": [
    "#Inport train, validation and test sets\n",
    "\n",
    "training = './data/Regression/Tb.brucei/scaffold_split/train_fold_4.csv'\n",
    "validation = './data/Regression/Tb.brucei/scaffold_split/valid_fold_4.csv'\n",
    "test = './data/Regression/Tb.brucei/scaffold_split/test_fold_4.csv'\n",
    "\n",
    "train_dataset = pd.read_csv(training, delimiter=',', low_memory=False)\n",
    "valid_dataset = pd.read_csv(validation, delimiter=',', low_memory=False)\n",
    "test_dataset = pd.read_csv(test, delimiter=',', low_memory=False)\n",
    "\n",
    "train_dataset.head()"
   ]
  },
  {
   "cell_type": "code",
   "execution_count": 215,
   "id": "1f97fed3",
   "metadata": {
    "scrolled": true
   },
   "outputs": [
    {
     "name": "stdout",
     "output_type": "stream",
     "text": [
      "loaded y_train data: (500, 1)\n",
      "loaded y_test data: (125, 1)\n"
     ]
    }
   ],
   "source": [
    "task_start=2\n",
    "task_index = 3\n",
    "\n",
    "# load training dataset\n",
    "\n",
    "train_dataset = pd.read_csv(training, delimiter=',', low_memory=False)\n",
    "y_train = np.array(train_dataset.iloc[:,2:task_index].values)\n",
    "print(f\"loaded y_train data: {y_train.shape}\")\n",
    "\n",
    "# load test dataset\n",
    "\n",
    "test_dataset2 = pd.concat([valid_dataset, test_dataset], axis=0).reset_index(drop=True)\n",
    "y_test = np.array(test_dataset2.iloc[:,2:task_index].values)\n",
    "print(f\"loaded y_test data: {y_test.shape}\")"
   ]
  },
  {
   "cell_type": "code",
   "execution_count": 216,
   "id": "dc355297",
   "metadata": {
    "scrolled": true
   },
   "outputs": [],
   "source": [
    "# calculate ECFP (defaut) fingerprints using RDKit\n",
    "\n",
    "from utils.fingerprints import *\n",
    "\n",
    "train_smiles=train_dataset[\"SMILES\"].values\n",
    "test_smiles=test_dataset2[\"SMILES\"].values\n",
    "X_train = assing_fp(train_smiles,FP_SIZE,RADIUS)\n",
    "X_test = assing_fp(test_smiles,FP_SIZE,RADIUS)\n",
    "\n",
    "y_train = y_train.ravel()\n",
    "y_train = np.array(y_train).astype(int)\n",
    "y_test = y_test.ravel()\n",
    "y_test = np.array(y_test).astype(int)"
   ]
  },
  {
   "cell_type": "code",
   "execution_count": 217,
   "id": "282c103b",
   "metadata": {
    "scrolled": true
   },
   "outputs": [
    {
     "name": "stderr",
     "output_type": "stream",
     "text": [
      "C:\\Users\\Predator\\anaconda3\\envs\\ia\\lib\\site-packages\\sklearn\\model_selection\\_split.py:680: UserWarning: The least populated class in y has only 2 members, which is less than n_splits=5.\n",
      "  warnings.warn(\n",
      "C:\\Users\\Predator\\anaconda3\\envs\\ia\\lib\\site-packages\\sklearn\\model_selection\\_split.py:680: UserWarning: The least populated class in y has only 2 members, which is less than n_splits=5.\n",
      "  warnings.warn(\n",
      "C:\\Users\\Predator\\anaconda3\\envs\\ia\\lib\\site-packages\\sklearn\\model_selection\\_split.py:680: UserWarning: The least populated class in y has only 2 members, which is less than n_splits=5.\n",
      "  warnings.warn(\n",
      "C:\\Users\\Predator\\anaconda3\\envs\\ia\\lib\\site-packages\\sklearn\\model_selection\\_split.py:680: UserWarning: The least populated class in y has only 2 members, which is less than n_splits=5.\n",
      "  warnings.warn(\n",
      "C:\\Users\\Predator\\anaconda3\\envs\\ia\\lib\\site-packages\\sklearn\\model_selection\\_split.py:680: UserWarning: The least populated class in y has only 2 members, which is less than n_splits=5.\n",
      "  warnings.warn(\n",
      "C:\\Users\\Predator\\anaconda3\\envs\\ia\\lib\\site-packages\\sklearn\\model_selection\\_split.py:680: UserWarning: The least populated class in y has only 2 members, which is less than n_splits=5.\n",
      "  warnings.warn(\n",
      "C:\\Users\\Predator\\anaconda3\\envs\\ia\\lib\\site-packages\\sklearn\\model_selection\\_split.py:680: UserWarning: The least populated class in y has only 2 members, which is less than n_splits=5.\n",
      "  warnings.warn(\n",
      "C:\\Users\\Predator\\anaconda3\\envs\\ia\\lib\\site-packages\\sklearn\\model_selection\\_split.py:680: UserWarning: The least populated class in y has only 2 members, which is less than n_splits=5.\n",
      "  warnings.warn(\n",
      "C:\\Users\\Predator\\anaconda3\\envs\\ia\\lib\\site-packages\\sklearn\\model_selection\\_split.py:680: UserWarning: The least populated class in y has only 2 members, which is less than n_splits=5.\n",
      "  warnings.warn(\n",
      "C:\\Users\\Predator\\anaconda3\\envs\\ia\\lib\\site-packages\\sklearn\\model_selection\\_split.py:680: UserWarning: The least populated class in y has only 2 members, which is less than n_splits=5.\n",
      "  warnings.warn(\n",
      "C:\\Users\\Predator\\anaconda3\\envs\\ia\\lib\\site-packages\\sklearn\\model_selection\\_split.py:680: UserWarning: The least populated class in y has only 2 members, which is less than n_splits=5.\n",
      "  warnings.warn(\n",
      "C:\\Users\\Predator\\anaconda3\\envs\\ia\\lib\\site-packages\\sklearn\\model_selection\\_split.py:680: UserWarning: The least populated class in y has only 2 members, which is less than n_splits=5.\n",
      "  warnings.warn(\n",
      "C:\\Users\\Predator\\anaconda3\\envs\\ia\\lib\\site-packages\\sklearn\\model_selection\\_split.py:680: UserWarning: The least populated class in y has only 2 members, which is less than n_splits=5.\n",
      "  warnings.warn(\n",
      "C:\\Users\\Predator\\anaconda3\\envs\\ia\\lib\\site-packages\\sklearn\\model_selection\\_split.py:680: UserWarning: The least populated class in y has only 2 members, which is less than n_splits=5.\n",
      "  warnings.warn(\n",
      "C:\\Users\\Predator\\anaconda3\\envs\\ia\\lib\\site-packages\\sklearn\\model_selection\\_split.py:680: UserWarning: The least populated class in y has only 2 members, which is less than n_splits=5.\n",
      "  warnings.warn(\n"
     ]
    },
    {
     "name": "stdout",
     "output_type": "stream",
     "text": [
      "Best parameters: OrderedDict([('learning_rate', 0.050034926107103674), ('max_depth', 9), ('n_estimators', 7), ('num_leaves', 7), ('subsample', 0.13759103727346972)])\n"
     ]
    }
   ],
   "source": [
    "# parameters for train model\n",
    "\n",
    "cv = RepeatedStratifiedKFold(n_splits=5, n_repeats=3, random_state=1)\n",
    "scorer = make_scorer(mean_squared_error)\n",
    "\n",
    "# log-uniform: understand as search over p = exp(x) by varying x\n",
    "\n",
    "model = BayesSearchCV(lgb.LGBMRegressor(),                   \n",
    "    {\n",
    "    'learning_rate': (0.01, 0.1, 'uniform'), \n",
    "    'num_leaves': (1, 15),\n",
    "    'n_estimators': (2, 50), \n",
    "    'max_depth': (1, 10),\n",
    "    'subsample': (0.1, 0.3), \n",
    "    }, \n",
    "    n_iter=5, # Number of parameter settings that are sampled\n",
    "    cv=cv,\n",
    "    scoring = scorer,\n",
    "    refit = True, # Refit the best estimator with the entire dataset.\n",
    "    random_state=42,\n",
    "    n_jobs = -1\n",
    ")\n",
    "\n",
    "model.fit(X_train, y_train)\n",
    "\n",
    "print(\"Best parameters: %s\" % model.best_params_)"
   ]
  },
  {
   "cell_type": "code",
   "execution_count": 218,
   "id": "59b20a0e",
   "metadata": {
    "scrolled": true
   },
   "outputs": [
    {
     "data": {
      "text/html": [
       "<style>#sk-container-id-31 {color: black;background-color: white;}#sk-container-id-31 pre{padding: 0;}#sk-container-id-31 div.sk-toggleable {background-color: white;}#sk-container-id-31 label.sk-toggleable__label {cursor: pointer;display: block;width: 100%;margin-bottom: 0;padding: 0.3em;box-sizing: border-box;text-align: center;}#sk-container-id-31 label.sk-toggleable__label-arrow:before {content: \"▸\";float: left;margin-right: 0.25em;color: #696969;}#sk-container-id-31 label.sk-toggleable__label-arrow:hover:before {color: black;}#sk-container-id-31 div.sk-estimator:hover label.sk-toggleable__label-arrow:before {color: black;}#sk-container-id-31 div.sk-toggleable__content {max-height: 0;max-width: 0;overflow: hidden;text-align: left;background-color: #f0f8ff;}#sk-container-id-31 div.sk-toggleable__content pre {margin: 0.2em;color: black;border-radius: 0.25em;background-color: #f0f8ff;}#sk-container-id-31 input.sk-toggleable__control:checked~div.sk-toggleable__content {max-height: 200px;max-width: 100%;overflow: auto;}#sk-container-id-31 input.sk-toggleable__control:checked~label.sk-toggleable__label-arrow:before {content: \"▾\";}#sk-container-id-31 div.sk-estimator input.sk-toggleable__control:checked~label.sk-toggleable__label {background-color: #d4ebff;}#sk-container-id-31 div.sk-label input.sk-toggleable__control:checked~label.sk-toggleable__label {background-color: #d4ebff;}#sk-container-id-31 input.sk-hidden--visually {border: 0;clip: rect(1px 1px 1px 1px);clip: rect(1px, 1px, 1px, 1px);height: 1px;margin: -1px;overflow: hidden;padding: 0;position: absolute;width: 1px;}#sk-container-id-31 div.sk-estimator {font-family: monospace;background-color: #f0f8ff;border: 1px dotted black;border-radius: 0.25em;box-sizing: border-box;margin-bottom: 0.5em;}#sk-container-id-31 div.sk-estimator:hover {background-color: #d4ebff;}#sk-container-id-31 div.sk-parallel-item::after {content: \"\";width: 100%;border-bottom: 1px solid gray;flex-grow: 1;}#sk-container-id-31 div.sk-label:hover label.sk-toggleable__label {background-color: #d4ebff;}#sk-container-id-31 div.sk-serial::before {content: \"\";position: absolute;border-left: 1px solid gray;box-sizing: border-box;top: 0;bottom: 0;left: 50%;z-index: 0;}#sk-container-id-31 div.sk-serial {display: flex;flex-direction: column;align-items: center;background-color: white;padding-right: 0.2em;padding-left: 0.2em;position: relative;}#sk-container-id-31 div.sk-item {position: relative;z-index: 1;}#sk-container-id-31 div.sk-parallel {display: flex;align-items: stretch;justify-content: center;background-color: white;position: relative;}#sk-container-id-31 div.sk-item::before, #sk-container-id-31 div.sk-parallel-item::before {content: \"\";position: absolute;border-left: 1px solid gray;box-sizing: border-box;top: 0;bottom: 0;left: 50%;z-index: -1;}#sk-container-id-31 div.sk-parallel-item {display: flex;flex-direction: column;z-index: 1;position: relative;background-color: white;}#sk-container-id-31 div.sk-parallel-item:first-child::after {align-self: flex-end;width: 50%;}#sk-container-id-31 div.sk-parallel-item:last-child::after {align-self: flex-start;width: 50%;}#sk-container-id-31 div.sk-parallel-item:only-child::after {width: 0;}#sk-container-id-31 div.sk-dashed-wrapped {border: 1px dashed gray;margin: 0 0.4em 0.5em 0.4em;box-sizing: border-box;padding-bottom: 0.4em;background-color: white;}#sk-container-id-31 div.sk-label label {font-family: monospace;font-weight: bold;display: inline-block;line-height: 1.2em;}#sk-container-id-31 div.sk-label-container {text-align: center;}#sk-container-id-31 div.sk-container {/* jupyter's `normalize.less` sets `[hidden] { display: none; }` but bootstrap.min.css set `[hidden] { display: none !important; }` so we also need the `!important` here to be able to override the default hidden behavior on the sphinx rendered scikit-learn.org. See: https://github.com/scikit-learn/scikit-learn/issues/21755 */display: inline-block !important;position: relative;}#sk-container-id-31 div.sk-text-repr-fallback {display: none;}</style><div id=\"sk-container-id-31\" class=\"sk-top-container\"><div class=\"sk-text-repr-fallback\"><pre>LGBMRegressor(learning_rate=0.050034926107103674, max_depth=9, n_estimators=7,\n",
       "              num_leaves=7, subsample=0.13759103727346972)</pre><b>In a Jupyter environment, please rerun this cell to show the HTML representation or trust the notebook. <br />On GitHub, the HTML representation is unable to render, please try loading this page with nbviewer.org.</b></div><div class=\"sk-container\" hidden><div class=\"sk-item\"><div class=\"sk-estimator sk-toggleable\"><input class=\"sk-toggleable__control sk-hidden--visually\" id=\"sk-estimator-id-31\" type=\"checkbox\" checked><label for=\"sk-estimator-id-31\" class=\"sk-toggleable__label sk-toggleable__label-arrow\">LGBMRegressor</label><div class=\"sk-toggleable__content\"><pre>LGBMRegressor(learning_rate=0.050034926107103674, max_depth=9, n_estimators=7,\n",
       "              num_leaves=7, subsample=0.13759103727346972)</pre></div></div></div></div></div>"
      ],
      "text/plain": [
       "LGBMRegressor(learning_rate=0.050034926107103674, max_depth=9, n_estimators=7,\n",
       "              num_leaves=7, subsample=0.13759103727346972)"
      ]
     },
     "execution_count": 218,
     "metadata": {},
     "output_type": "execute_result"
    }
   ],
   "source": [
    "#Fit model using best hyperparameters\n",
    "\n",
    "model = lgb.LGBMRegressor(**model.best_params_)\n",
    "model.fit(X_train, y_train)"
   ]
  },
  {
   "cell_type": "code",
   "execution_count": 219,
   "id": "218f45c5",
   "metadata": {},
   "outputs": [
    {
     "name": "stdout",
     "output_type": "stream",
     "text": [
      "Train set results\n",
      "r2\t0.61\n",
      "RMSE\t0.91\n",
      "MSE\t0.83\n",
      "MAE\t0.66\n",
      "Test set results\n",
      "r2\t0.45\n",
      "RMSE\t1.09\n",
      "MSE\t1.19\n",
      "MAE\t0.75\n"
     ]
    }
   ],
   "source": [
    "#Statistical characteristico of model without 3-sigma rule\n",
    "\n",
    "y_pred_train = model.predict(X_train)\n",
    "y_pred_test = model.predict(X_test)\n",
    "\n",
    "r2, p = scipy.stats.pearsonr(y_train,y_pred_train)\n",
    "print((\"Train set results\"))\n",
    "print (\"r2\\t%.2f\"  % r2)\n",
    "print (\"RMSE\\t%.2f\"  % sqrt(mean_squared_error(y_pred_train, y_train)))\n",
    "print (\"MSE\\t%.2f\"  % (mean_squared_error(y_pred_train, y_train)))\n",
    "print (\"MAE\\t%.2f\"  % mean_absolute_error(y_pred_train, y_train))\n",
    "\n",
    "r2, p_ext = scipy.stats.pearsonr(y_test, y_pred_test)\n",
    "print((\"Test set results\"))\n",
    "print (\"r2\\t%.2f\"  % r2)\n",
    "print (\"RMSE\\t%.2f\"  % sqrt(mean_squared_error(y_pred_test, y_test)))\n",
    "print (\"MSE\\t%.2f\"  % (mean_squared_error(y_pred_test, y_test)))\n",
    "print (\"MAE\\t%.2f\"  % mean_absolute_error(y_pred_test, y_test))"
   ]
  },
  {
   "cell_type": "code",
   "execution_count": 220,
   "id": "95824350",
   "metadata": {},
   "outputs": [
    {
     "name": "stdout",
     "output_type": "stream",
     "text": [
      "Train set results\n",
      "r^2\t0.66\n",
      "RMSE\t0.79\n",
      "MSE\t0.62\n",
      "MAE\t0.59\n",
      "Train set results\n",
      "r^2\t0.38\n",
      "RMSE\t0.81\n",
      "MSE\t0.66\n",
      "MAE\t0.59\n"
     ]
    }
   ],
   "source": [
    "#Statistical characteristics of model using 3-sigma rule\n",
    "\n",
    "train_pred = pd.DataFrame(y_train,y_pred_train) \n",
    "train_pred['y_pred'] = train_pred.index\n",
    "train_pred = train_pred.rename(columns = {0: 'y_obs'})\n",
    "train_pred2 = train_pred.reset_index(drop=True)\n",
    "train_pred2['Folds'] = 'Train'\n",
    "train_pred2 = train_pred2.assign(Folds_error = abs(train_pred2['y_pred'] - train_pred2['y_obs']))\n",
    "train_pred2['Folds error Mean'] = train_pred2['Folds_error'].mean() \n",
    "train_pred2['Folds error 3*sigma'] = train_pred2['Folds_error'].std()\n",
    "train_pred2['Folds error 3*sigma'] = train_pred2['Folds error 3*sigma']*3\n",
    "train_pred2=train_pred2[train_pred2['Folds_error']<=(train_pred2['Folds error 3*sigma'])] #keep only the ones that are within +3 to -3 standard deviations in the column 'Data'.\n",
    "\n",
    "r2 = (train_pred2[\"y_obs\"].corr(train_pred2[\"y_pred\"]))    \n",
    "print((\"Train set results\"))\n",
    "print(\"r^2\\t%.2f\" % r2)\n",
    "print (\"RMSE\\t%.2f\" % sqrt(mean_squared_error(train_pred2[\"y_obs\"],train_pred2[\"y_pred\"])))\n",
    "print (\"MSE\\t%.2f\" % (mean_squared_error(train_pred2[\"y_obs\"],train_pred2[\"y_pred\"])))\n",
    "print (\"MAE\\t%.2f\"  %mean_absolute_error(train_pred2[\"y_obs\"],train_pred2[\"y_pred\"]))   \n",
    "\n",
    "test_pred = pd.DataFrame(y_test,y_pred_test) \n",
    "test_pred['y_pred'] = test_pred.index\n",
    "test_pred = test_pred.rename(columns = {0: 'y_obs'})\n",
    "test_pred2 = test_pred.reset_index(drop=True)\n",
    "test_pred2['Folds'] = 'Train'\n",
    "test_pred2 = test_pred2.assign(Folds_error = abs(test_pred2['y_pred'] - test_pred2['y_obs']))\n",
    "test_pred2['Folds error Mean'] = test_pred2['Folds_error'].mean() \n",
    "test_pred2['Folds error 3*sigma'] = test_pred2['Folds_error'].std()\n",
    "test_pred2['Folds error 3*sigma'] = test_pred2['Folds error 3*sigma']*3\n",
    "test_pred2 = test_pred2[test_pred2['Folds_error']<=(test_pred2['Folds error 3*sigma'])] #keep only the ones that are within +3 to -3 standard deviations in the column 'Data'.\n",
    "\n",
    "r2 = (test_pred2[\"y_obs\"].corr(test_pred2[\"y_pred\"]))    \n",
    "print((\"Train set results\"))\n",
    "print(\"r^2\\t%.2f\" % r2)\n",
    "print (\"RMSE\\t%.2f\" % sqrt(mean_squared_error(test_pred2[\"y_obs\"],test_pred2[\"y_pred\"])))\n",
    "print (\"MSE\\t%.2f\" % (mean_squared_error(test_pred2[\"y_obs\"],test_pred2[\"y_pred\"])))\n",
    "print (\"MAE\\t%.2f\"  %mean_absolute_error(test_pred2[\"y_obs\"],test_pred2[\"y_pred\"])) "
   ]
  },
  {
   "cell_type": "code",
   "execution_count": null,
   "id": "87a1e0c3",
   "metadata": {},
   "outputs": [],
   "source": []
  }
 ],
 "metadata": {
  "kernelspec": {
   "display_name": "Python 3 (ipykernel)",
   "language": "python",
   "name": "python3"
  },
  "language_info": {
   "codemirror_mode": {
    "name": "ipython",
    "version": 3
   },
   "file_extension": ".py",
   "mimetype": "text/x-python",
   "name": "python",
   "nbconvert_exporter": "python",
   "pygments_lexer": "ipython3",
   "version": "3.9.12"
  }
 },
 "nbformat": 4,
 "nbformat_minor": 5
}
