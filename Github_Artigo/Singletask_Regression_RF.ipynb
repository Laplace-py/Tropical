{
 "cells": [
  {
   "cell_type": "code",
   "execution_count": 8,
   "id": "539345d1",
   "metadata": {
    "scrolled": true
   },
   "outputs": [],
   "source": [
    "#Import standard packages for model training\n",
    "\n",
    "import sklearn as SK\n",
    "from sklearn.ensemble import RandomForestRegressor\n",
    "from sklearn.metrics import *\n",
    "from sklearn.metrics import confusion_matrix\n",
    "from sklearn.model_selection import *\n",
    "from skopt import BayesSearchCV\n",
    "import numpy as np\n",
    "import pandas as pd\n",
    "import scipy.stats\n",
    "from math import sqrt\n",
    "import os \n",
    "import io\n",
    "from tensorboard.plugins.hparams import api as hp\n",
    "from utils import utils\n",
    "\n",
    "commons = utils.Commons()\n",
    "ts_helper = utils.TS_Helper()\n",
    "shap_helper = utils.Shap_Helper()\n",
    "\n",
    "ts_helper.model_type = ts_helper.Regression\n",
    "os.environ[\"TF_CPP_MIN_LOG_LEVEL\"] = \"-1\""
   ]
  },
  {
   "cell_type": "code",
   "execution_count": 9,
   "id": "dbf80ac7",
   "metadata": {
    "scrolled": false
   },
   "outputs": [
    {
     "name": "stdout",
     "output_type": "stream",
     "text": [
      "Loaded dataset ./data/Classification/Tb.brucei/scaffold_split/train_fold_4.csv with shape: (1051, 3)\n",
      "Loaded dataset ./data/Classification/Tb.brucei/scaffold_split/valid_fold_4.csv with shape: (132, 3)\n",
      "Loaded dataset ./data/Classification/Tb.brucei/scaffold_split/test_fold_4.csv with shape: (131, 3)\n"
     ]
    },
    {
     "data": {
      "text/html": [
       "<div>\n",
       "<style scoped>\n",
       "    .dataframe tbody tr th:only-of-type {\n",
       "        vertical-align: middle;\n",
       "    }\n",
       "\n",
       "    .dataframe tbody tr th {\n",
       "        vertical-align: top;\n",
       "    }\n",
       "\n",
       "    .dataframe thead th {\n",
       "        text-align: right;\n",
       "    }\n",
       "</style>\n",
       "<table border=\"1\" class=\"dataframe\">\n",
       "  <thead>\n",
       "    <tr style=\"text-align: right;\">\n",
       "      <th></th>\n",
       "      <th>ID</th>\n",
       "      <th>SMILES</th>\n",
       "      <th>Tb.brucei</th>\n",
       "    </tr>\n",
       "  </thead>\n",
       "  <tbody>\n",
       "    <tr>\n",
       "      <th>0</th>\n",
       "      <td>1049</td>\n",
       "      <td>CCN1N=C(C=C1C)C(=O)NC1=NN=C(CCSC2=CC=CC=C2)O1</td>\n",
       "      <td>0</td>\n",
       "    </tr>\n",
       "    <tr>\n",
       "      <th>1</th>\n",
       "      <td>798</td>\n",
       "      <td>CC1=CC=CC(NC2=NC(NC3=CC=C4OCOC4=C3)=NC(=N2)N2C...</td>\n",
       "      <td>1</td>\n",
       "    </tr>\n",
       "    <tr>\n",
       "      <th>2</th>\n",
       "      <td>1155</td>\n",
       "      <td>COC1=CC=C(CCNC(=O)NCC2CN(C(=O)C2)C2=CC=C(Cl)C=...</td>\n",
       "      <td>0</td>\n",
       "    </tr>\n",
       "    <tr>\n",
       "      <th>3</th>\n",
       "      <td>204</td>\n",
       "      <td>CC1OC(C(O)C(O)C1O)N1C=C(CNC2=CC3=C4C(=CC=C5C(=...</td>\n",
       "      <td>1</td>\n",
       "    </tr>\n",
       "    <tr>\n",
       "      <th>4</th>\n",
       "      <td>206</td>\n",
       "      <td>CN(C)CCCN1C(=O)C2=CC(NCC3=CN(N=N3)C3OC(CO)C(O)...</td>\n",
       "      <td>1</td>\n",
       "    </tr>\n",
       "  </tbody>\n",
       "</table>\n",
       "</div>"
      ],
      "text/plain": [
       "     ID                                             SMILES  Tb.brucei\n",
       "0  1049      CCN1N=C(C=C1C)C(=O)NC1=NN=C(CCSC2=CC=CC=C2)O1          0\n",
       "1   798  CC1=CC=CC(NC2=NC(NC3=CC=C4OCOC4=C3)=NC(=N2)N2C...          1\n",
       "2  1155  COC1=CC=C(CCNC(=O)NCC2CN(C(=O)C2)C2=CC=C(Cl)C=...          0\n",
       "3   204  CC1OC(C(O)C(O)C1O)N1C=C(CNC2=CC3=C4C(=CC=C5C(=...          1\n",
       "4   206  CN(C)CCCN1C(=O)C2=CC(NCC3=CN(N=N3)C3OC(CO)C(O)...          1"
      ]
     },
     "execution_count": 9,
     "metadata": {},
     "output_type": "execute_result"
    }
   ],
   "source": [
    "#Inport train, validation and test sets\n",
    "\n",
    "training = './data/Classification/Tb.brucei/scaffold_split/train_fold_4.csv'\n",
    "validation = './data/Classification/Tb.brucei/scaffold_split/valid_fold_4.csv'\n",
    "test = './data/Classification/Tb.brucei/scaffold_split/test_fold_4.csv'\n",
    "TASK_START = 2\n",
    "NUM_TASKS = 1\n",
    "SMILES = 'SMILES'\n",
    "train_dataset,y_train,train_smiles = commons.load_dataset(training,SMILES,TASK_START,NUM_TASKS)\n",
    "valid_dataset,y_val,val_smiles = commons.load_dataset(validation,SMILES,TASK_START,NUM_TASKS)\n",
    "test_dataset,y_test,test_smiles = commons.load_dataset(test,SMILES,TASK_START,NUM_TASKS)\n",
    "\n",
    "train_dataset.head()"
   ]
  },
  {
   "cell_type": "code",
   "execution_count": 10,
   "id": "dc355297",
   "metadata": {
    "scrolled": true
   },
   "outputs": [],
   "source": [
    "# calculate ECFP (defaut) fingerprints using RDKit\n",
    "RADIUS = 2 #diameter 4\n",
    "FP_SIZE = 2048  #bit string size\n",
    "FEAT = False #used when you consider pharmacophoric features\n",
    "X_train = commons.assing_fp(train_smiles,FP_SIZE,RADIUS,FEAT)\n",
    "X_test = commons.assing_fp(test_smiles,FP_SIZE,RADIUS,FEAT)\n",
    "\n",
    "y_train = y_train.ravel()\n",
    "y_train = np.array(y_train).astype(int)\n",
    "y_test = y_test.ravel()\n",
    "y_test = np.array(y_test).astype(int)"
   ]
  },
  {
   "cell_type": "code",
   "execution_count": 11,
   "id": "282c103b",
   "metadata": {
    "scrolled": true
   },
   "outputs": [
    {
     "name": "stdout",
     "output_type": "stream",
     "text": [
      "Best parameters: OrderedDict([('max_depth', 5), ('max_features', 'sqrt'), ('n_estimators', 140)])\n"
     ]
    }
   ],
   "source": [
    "# parameters for train model\n",
    "\n",
    "cv = RepeatedStratifiedKFold(n_splits=5, n_repeats=3, random_state=1)\n",
    "scorer = make_scorer(mean_squared_error)\n",
    "\n",
    "# log-uniform: understand as search over p = exp(x) by varying x\n",
    "\n",
    "model = BayesSearchCV(RandomForestRegressor(),\n",
    "    {\n",
    "    'max_features': ['auto', 'sqrt'],\n",
    "    'n_estimators': [2, 150],\n",
    "    \"max_depth\": [2, 10],\n",
    "    },\n",
    "    n_iter=5, # Number of parameter settings that are sampled\n",
    "    cv=cv,\n",
    "    scoring = scorer,\n",
    "    refit = True, # Refit the best estimator with the entire dataset.\n",
    "    random_state=42,\n",
    "    n_jobs = -1\n",
    ")\n",
    "\n",
    "model.fit(X_train, y_train)\n",
    "\n",
    "print(\"Best parameters: %s\" % model.best_params_)"
   ]
  },
  {
   "cell_type": "code",
   "execution_count": 12,
   "id": "59b20a0e",
   "metadata": {
    "scrolled": true
   },
   "outputs": [
    {
     "data": {
      "text/html": [
       "<style>#sk-container-id-2 {color: black;background-color: white;}#sk-container-id-2 pre{padding: 0;}#sk-container-id-2 div.sk-toggleable {background-color: white;}#sk-container-id-2 label.sk-toggleable__label {cursor: pointer;display: block;width: 100%;margin-bottom: 0;padding: 0.3em;box-sizing: border-box;text-align: center;}#sk-container-id-2 label.sk-toggleable__label-arrow:before {content: \"▸\";float: left;margin-right: 0.25em;color: #696969;}#sk-container-id-2 label.sk-toggleable__label-arrow:hover:before {color: black;}#sk-container-id-2 div.sk-estimator:hover label.sk-toggleable__label-arrow:before {color: black;}#sk-container-id-2 div.sk-toggleable__content {max-height: 0;max-width: 0;overflow: hidden;text-align: left;background-color: #f0f8ff;}#sk-container-id-2 div.sk-toggleable__content pre {margin: 0.2em;color: black;border-radius: 0.25em;background-color: #f0f8ff;}#sk-container-id-2 input.sk-toggleable__control:checked~div.sk-toggleable__content {max-height: 200px;max-width: 100%;overflow: auto;}#sk-container-id-2 input.sk-toggleable__control:checked~label.sk-toggleable__label-arrow:before {content: \"▾\";}#sk-container-id-2 div.sk-estimator input.sk-toggleable__control:checked~label.sk-toggleable__label {background-color: #d4ebff;}#sk-container-id-2 div.sk-label input.sk-toggleable__control:checked~label.sk-toggleable__label {background-color: #d4ebff;}#sk-container-id-2 input.sk-hidden--visually {border: 0;clip: rect(1px 1px 1px 1px);clip: rect(1px, 1px, 1px, 1px);height: 1px;margin: -1px;overflow: hidden;padding: 0;position: absolute;width: 1px;}#sk-container-id-2 div.sk-estimator {font-family: monospace;background-color: #f0f8ff;border: 1px dotted black;border-radius: 0.25em;box-sizing: border-box;margin-bottom: 0.5em;}#sk-container-id-2 div.sk-estimator:hover {background-color: #d4ebff;}#sk-container-id-2 div.sk-parallel-item::after {content: \"\";width: 100%;border-bottom: 1px solid gray;flex-grow: 1;}#sk-container-id-2 div.sk-label:hover label.sk-toggleable__label {background-color: #d4ebff;}#sk-container-id-2 div.sk-serial::before {content: \"\";position: absolute;border-left: 1px solid gray;box-sizing: border-box;top: 0;bottom: 0;left: 50%;z-index: 0;}#sk-container-id-2 div.sk-serial {display: flex;flex-direction: column;align-items: center;background-color: white;padding-right: 0.2em;padding-left: 0.2em;position: relative;}#sk-container-id-2 div.sk-item {position: relative;z-index: 1;}#sk-container-id-2 div.sk-parallel {display: flex;align-items: stretch;justify-content: center;background-color: white;position: relative;}#sk-container-id-2 div.sk-item::before, #sk-container-id-2 div.sk-parallel-item::before {content: \"\";position: absolute;border-left: 1px solid gray;box-sizing: border-box;top: 0;bottom: 0;left: 50%;z-index: -1;}#sk-container-id-2 div.sk-parallel-item {display: flex;flex-direction: column;z-index: 1;position: relative;background-color: white;}#sk-container-id-2 div.sk-parallel-item:first-child::after {align-self: flex-end;width: 50%;}#sk-container-id-2 div.sk-parallel-item:last-child::after {align-self: flex-start;width: 50%;}#sk-container-id-2 div.sk-parallel-item:only-child::after {width: 0;}#sk-container-id-2 div.sk-dashed-wrapped {border: 1px dashed gray;margin: 0 0.4em 0.5em 0.4em;box-sizing: border-box;padding-bottom: 0.4em;background-color: white;}#sk-container-id-2 div.sk-label label {font-family: monospace;font-weight: bold;display: inline-block;line-height: 1.2em;}#sk-container-id-2 div.sk-label-container {text-align: center;}#sk-container-id-2 div.sk-container {/* jupyter's `normalize.less` sets `[hidden] { display: none; }` but bootstrap.min.css set `[hidden] { display: none !important; }` so we also need the `!important` here to be able to override the default hidden behavior on the sphinx rendered scikit-learn.org. See: https://github.com/scikit-learn/scikit-learn/issues/21755 */display: inline-block !important;position: relative;}#sk-container-id-2 div.sk-text-repr-fallback {display: none;}</style><div id=\"sk-container-id-2\" class=\"sk-top-container\"><div class=\"sk-text-repr-fallback\"><pre>RandomForestRegressor(max_depth=5, max_features=&#x27;sqrt&#x27;, n_estimators=140)</pre><b>In a Jupyter environment, please rerun this cell to show the HTML representation or trust the notebook. <br />On GitHub, the HTML representation is unable to render, please try loading this page with nbviewer.org.</b></div><div class=\"sk-container\" hidden><div class=\"sk-item\"><div class=\"sk-estimator sk-toggleable\"><input class=\"sk-toggleable__control sk-hidden--visually\" id=\"sk-estimator-id-2\" type=\"checkbox\" checked><label for=\"sk-estimator-id-2\" class=\"sk-toggleable__label sk-toggleable__label-arrow\">RandomForestRegressor</label><div class=\"sk-toggleable__content\"><pre>RandomForestRegressor(max_depth=5, max_features=&#x27;sqrt&#x27;, n_estimators=140)</pre></div></div></div></div></div>"
      ],
      "text/plain": [
       "RandomForestRegressor(max_depth=5, max_features='sqrt', n_estimators=140)"
      ]
     },
     "execution_count": 12,
     "metadata": {},
     "output_type": "execute_result"
    }
   ],
   "source": [
    "#Fit model using best hyperparameters\n",
    "\n",
    "model = RandomForestRegressor(**model.best_params_)\n",
    "model.fit(X_train, y_train)"
   ]
  },
  {
   "cell_type": "code",
   "execution_count": 13,
   "id": "218f45c5",
   "metadata": {},
   "outputs": [
    {
     "name": "stdout",
     "output_type": "stream",
     "text": [
      "Train set results\n",
      "r2\t0.59\n",
      "RMSE\t0.44\n",
      "MSE\t0.20\n",
      "MAE\t0.44\n",
      "Test set results\n",
      "r2\t0.55\n",
      "RMSE\t0.47\n",
      "MSE\t0.22\n",
      "MAE\t0.46\n"
     ]
    }
   ],
   "source": [
    "#Statistical characteristico of model without 3-sigma rule\n",
    "\n",
    "y_pred_train = model.predict(X_train)\n",
    "y_pred_test = model.predict(X_test)\n",
    "\n",
    "\n",
    "r2, p = scipy.stats.pearsonr(y_train,y_pred_train)\n",
    "print((\"Train set results\"))\n",
    "print (\"r2\\t%.2f\"  % r2)\n",
    "print (\"RMSE\\t%.2f\"  % sqrt(mean_squared_error(y_pred_train, y_train)))\n",
    "print (\"MSE\\t%.2f\"  % (mean_squared_error(y_pred_train, y_train)))\n",
    "print (\"MAE\\t%.2f\"  % mean_absolute_error(y_pred_train, y_train))\n",
    "\n",
    "r2, p_ext = scipy.stats.pearsonr(y_test, y_pred_test)\n",
    "print((\"Test set results\"))\n",
    "print (\"r2\\t%.2f\"  % r2)\n",
    "print (\"RMSE\\t%.2f\"  % sqrt(mean_squared_error(y_pred_test, y_test)))\n",
    "print (\"MSE\\t%.2f\"  % (mean_squared_error(y_pred_test, y_test)))\n",
    "print (\"MAE\\t%.2f\"  % mean_absolute_error(y_pred_test, y_test))"
   ]
  },
  {
   "cell_type": "code",
   "execution_count": 14,
   "id": "95824350",
   "metadata": {
    "scrolled": true
   },
   "outputs": [
    {
     "name": "stdout",
     "output_type": "stream",
     "text": [
      "Train set results\n",
      "r^2\t0.99\n",
      "RMSE\t0.24\n",
      "MSE\t0.06\n",
      "MAE\t0.24\n",
      "Train set results\n",
      "r^2\tnan\n"
     ]
    },
    {
     "ename": "ValueError",
     "evalue": "Found array with 0 sample(s) (shape=(0,)) while a minimum of 1 is required.",
     "output_type": "error",
     "traceback": [
      "\u001b[1;31m---------------------------------------------------------------------------\u001b[0m",
      "\u001b[1;31mValueError\u001b[0m                                Traceback (most recent call last)",
      "\u001b[1;32mc:\\Users\\Laplace\\Desktop\\work\\projetos academicos\\labmol\\Code_dump\\Github_Artigo\\Github_Artigo\\Singletask_Regression_RF.ipynb Cell 7\u001b[0m in \u001b[0;36m<cell line: 35>\u001b[1;34m()\u001b[0m\n\u001b[0;32m     <a href='vscode-notebook-cell:/c%3A/Users/Laplace/Desktop/work/projetos%20academicos/labmol/Code_dump/Github_Artigo/Github_Artigo/Singletask_Regression_RF.ipynb#W6sZmlsZQ%3D%3D?line=32'>33</a>\u001b[0m \u001b[39mprint\u001b[39m((\u001b[39m\"\u001b[39m\u001b[39mTrain set results\u001b[39m\u001b[39m\"\u001b[39m))\n\u001b[0;32m     <a href='vscode-notebook-cell:/c%3A/Users/Laplace/Desktop/work/projetos%20academicos/labmol/Code_dump/Github_Artigo/Github_Artigo/Singletask_Regression_RF.ipynb#W6sZmlsZQ%3D%3D?line=33'>34</a>\u001b[0m \u001b[39mprint\u001b[39m(\u001b[39m\"\u001b[39m\u001b[39mr^2\u001b[39m\u001b[39m\\t\u001b[39;00m\u001b[39m%.2f\u001b[39;00m\u001b[39m\"\u001b[39m \u001b[39m%\u001b[39m r2)\n\u001b[1;32m---> <a href='vscode-notebook-cell:/c%3A/Users/Laplace/Desktop/work/projetos%20academicos/labmol/Code_dump/Github_Artigo/Github_Artigo/Singletask_Regression_RF.ipynb#W6sZmlsZQ%3D%3D?line=34'>35</a>\u001b[0m \u001b[39mprint\u001b[39m (\u001b[39m\"\u001b[39m\u001b[39mRMSE\u001b[39m\u001b[39m\\t\u001b[39;00m\u001b[39m%.2f\u001b[39;00m\u001b[39m\"\u001b[39m \u001b[39m%\u001b[39m sqrt(mean_squared_error(test_pred2[\u001b[39m\"\u001b[39;49m\u001b[39my_obs\u001b[39;49m\u001b[39m\"\u001b[39;49m],test_pred2[\u001b[39m\"\u001b[39;49m\u001b[39my_pred\u001b[39;49m\u001b[39m\"\u001b[39;49m])))\n\u001b[0;32m     <a href='vscode-notebook-cell:/c%3A/Users/Laplace/Desktop/work/projetos%20academicos/labmol/Code_dump/Github_Artigo/Github_Artigo/Singletask_Regression_RF.ipynb#W6sZmlsZQ%3D%3D?line=35'>36</a>\u001b[0m \u001b[39mprint\u001b[39m (\u001b[39m\"\u001b[39m\u001b[39mMSE\u001b[39m\u001b[39m\\t\u001b[39;00m\u001b[39m%.2f\u001b[39;00m\u001b[39m\"\u001b[39m \u001b[39m%\u001b[39m (mean_squared_error(test_pred2[\u001b[39m\"\u001b[39m\u001b[39my_obs\u001b[39m\u001b[39m\"\u001b[39m],test_pred2[\u001b[39m\"\u001b[39m\u001b[39my_pred\u001b[39m\u001b[39m\"\u001b[39m])))\n\u001b[0;32m     <a href='vscode-notebook-cell:/c%3A/Users/Laplace/Desktop/work/projetos%20academicos/labmol/Code_dump/Github_Artigo/Github_Artigo/Singletask_Regression_RF.ipynb#W6sZmlsZQ%3D%3D?line=36'>37</a>\u001b[0m \u001b[39mprint\u001b[39m (\u001b[39m\"\u001b[39m\u001b[39mMAE\u001b[39m\u001b[39m\\t\u001b[39;00m\u001b[39m%.2f\u001b[39;00m\u001b[39m\"\u001b[39m  \u001b[39m%\u001b[39mmean_absolute_error(test_pred2[\u001b[39m\"\u001b[39m\u001b[39my_obs\u001b[39m\u001b[39m\"\u001b[39m],test_pred2[\u001b[39m\"\u001b[39m\u001b[39my_pred\u001b[39m\u001b[39m\"\u001b[39m]))\n",
      "File \u001b[1;32mc:\\Users\\Laplace\\anaconda3\\envs\\AI\\lib\\site-packages\\sklearn\\metrics\\_regression.py:442\u001b[0m, in \u001b[0;36mmean_squared_error\u001b[1;34m(y_true, y_pred, sample_weight, multioutput, squared)\u001b[0m\n\u001b[0;32m    382\u001b[0m \u001b[39mdef\u001b[39;00m \u001b[39mmean_squared_error\u001b[39m(\n\u001b[0;32m    383\u001b[0m     y_true, y_pred, \u001b[39m*\u001b[39m, sample_weight\u001b[39m=\u001b[39m\u001b[39mNone\u001b[39;00m, multioutput\u001b[39m=\u001b[39m\u001b[39m\"\u001b[39m\u001b[39muniform_average\u001b[39m\u001b[39m\"\u001b[39m, squared\u001b[39m=\u001b[39m\u001b[39mTrue\u001b[39;00m\n\u001b[0;32m    384\u001b[0m ):\n\u001b[0;32m    385\u001b[0m     \u001b[39m\"\"\"Mean squared error regression loss.\u001b[39;00m\n\u001b[0;32m    386\u001b[0m \n\u001b[0;32m    387\u001b[0m \u001b[39m    Read more in the :ref:`User Guide <mean_squared_error>`.\u001b[39;00m\n\u001b[1;32m   (...)\u001b[0m\n\u001b[0;32m    440\u001b[0m \u001b[39m    0.825...\u001b[39;00m\n\u001b[0;32m    441\u001b[0m \u001b[39m    \"\"\"\u001b[39;00m\n\u001b[1;32m--> 442\u001b[0m     y_type, y_true, y_pred, multioutput \u001b[39m=\u001b[39m _check_reg_targets(\n\u001b[0;32m    443\u001b[0m         y_true, y_pred, multioutput\n\u001b[0;32m    444\u001b[0m     )\n\u001b[0;32m    445\u001b[0m     check_consistent_length(y_true, y_pred, sample_weight)\n\u001b[0;32m    446\u001b[0m     output_errors \u001b[39m=\u001b[39m np\u001b[39m.\u001b[39maverage((y_true \u001b[39m-\u001b[39m y_pred) \u001b[39m*\u001b[39m\u001b[39m*\u001b[39m \u001b[39m2\u001b[39m, axis\u001b[39m=\u001b[39m\u001b[39m0\u001b[39m, weights\u001b[39m=\u001b[39msample_weight)\n",
      "File \u001b[1;32mc:\\Users\\Laplace\\anaconda3\\envs\\AI\\lib\\site-packages\\sklearn\\metrics\\_regression.py:101\u001b[0m, in \u001b[0;36m_check_reg_targets\u001b[1;34m(y_true, y_pred, multioutput, dtype)\u001b[0m\n\u001b[0;32m     67\u001b[0m \u001b[39m\"\"\"Check that y_true and y_pred belong to the same regression task.\u001b[39;00m\n\u001b[0;32m     68\u001b[0m \n\u001b[0;32m     69\u001b[0m \u001b[39mParameters\u001b[39;00m\n\u001b[1;32m   (...)\u001b[0m\n\u001b[0;32m     98\u001b[0m \u001b[39m    correct keyword.\u001b[39;00m\n\u001b[0;32m     99\u001b[0m \u001b[39m\"\"\"\u001b[39;00m\n\u001b[0;32m    100\u001b[0m check_consistent_length(y_true, y_pred)\n\u001b[1;32m--> 101\u001b[0m y_true \u001b[39m=\u001b[39m check_array(y_true, ensure_2d\u001b[39m=\u001b[39;49m\u001b[39mFalse\u001b[39;49;00m, dtype\u001b[39m=\u001b[39;49mdtype)\n\u001b[0;32m    102\u001b[0m y_pred \u001b[39m=\u001b[39m check_array(y_pred, ensure_2d\u001b[39m=\u001b[39m\u001b[39mFalse\u001b[39;00m, dtype\u001b[39m=\u001b[39mdtype)\n\u001b[0;32m    104\u001b[0m \u001b[39mif\u001b[39;00m y_true\u001b[39m.\u001b[39mndim \u001b[39m==\u001b[39m \u001b[39m1\u001b[39m:\n",
      "File \u001b[1;32mc:\\Users\\Laplace\\anaconda3\\envs\\AI\\lib\\site-packages\\sklearn\\utils\\validation.py:909\u001b[0m, in \u001b[0;36mcheck_array\u001b[1;34m(array, accept_sparse, accept_large_sparse, dtype, order, copy, force_all_finite, ensure_2d, allow_nd, ensure_min_samples, ensure_min_features, estimator, input_name)\u001b[0m\n\u001b[0;32m    907\u001b[0m     n_samples \u001b[39m=\u001b[39m _num_samples(array)\n\u001b[0;32m    908\u001b[0m     \u001b[39mif\u001b[39;00m n_samples \u001b[39m<\u001b[39m ensure_min_samples:\n\u001b[1;32m--> 909\u001b[0m         \u001b[39mraise\u001b[39;00m \u001b[39mValueError\u001b[39;00m(\n\u001b[0;32m    910\u001b[0m             \u001b[39m\"\u001b[39m\u001b[39mFound array with \u001b[39m\u001b[39m%d\u001b[39;00m\u001b[39m sample(s) (shape=\u001b[39m\u001b[39m%s\u001b[39;00m\u001b[39m) while a\u001b[39m\u001b[39m\"\u001b[39m\n\u001b[0;32m    911\u001b[0m             \u001b[39m\"\u001b[39m\u001b[39m minimum of \u001b[39m\u001b[39m%d\u001b[39;00m\u001b[39m is required\u001b[39m\u001b[39m%s\u001b[39;00m\u001b[39m.\u001b[39m\u001b[39m\"\u001b[39m\n\u001b[0;32m    912\u001b[0m             \u001b[39m%\u001b[39m (n_samples, array\u001b[39m.\u001b[39mshape, ensure_min_samples, context)\n\u001b[0;32m    913\u001b[0m         )\n\u001b[0;32m    915\u001b[0m \u001b[39mif\u001b[39;00m ensure_min_features \u001b[39m>\u001b[39m \u001b[39m0\u001b[39m \u001b[39mand\u001b[39;00m array\u001b[39m.\u001b[39mndim \u001b[39m==\u001b[39m \u001b[39m2\u001b[39m:\n\u001b[0;32m    916\u001b[0m     n_features \u001b[39m=\u001b[39m array\u001b[39m.\u001b[39mshape[\u001b[39m1\u001b[39m]\n",
      "\u001b[1;31mValueError\u001b[0m: Found array with 0 sample(s) (shape=(0,)) while a minimum of 1 is required."
     ]
    }
   ],
   "source": [
    "#Statistical characteristics of model using 3-sigma rule\n",
    "\n",
    "train_pred = pd.DataFrame(y_train,y_pred_train) \n",
    "train_pred['y_pred'] = train_pred.index\n",
    "train_pred = train_pred.rename(columns = {0: 'y_obs'})\n",
    "train_pred2 = train_pred.reset_index(drop=True)\n",
    "train_pred2['Folds'] = 'Train'\n",
    "train_pred2 = train_pred2.assign(Folds_error = abs(train_pred2['y_pred'] - train_pred2['y_obs']))\n",
    "train_pred2['Folds error Mean'] = train_pred2['Folds_error'].mean() \n",
    "train_pred2['Folds error 3*sigma'] = train_pred2['Folds_error'].std()\n",
    "train_pred2['Folds error 3*sigma'] = train_pred2['Folds error 3*sigma']*3\n",
    "train_pred2=train_pred2[train_pred2['Folds_error']<=(train_pred2['Folds error 3*sigma'])] #keep only the ones that are within +3 to -3 standard deviations in the column 'Data'.\n",
    "\n",
    "r2 = (train_pred2[\"y_obs\"].corr(train_pred2[\"y_pred\"]))    \n",
    "print((\"Train set results\"))\n",
    "print(\"r^2\\t%.2f\" % r2)\n",
    "print (\"RMSE\\t%.2f\" % sqrt(mean_squared_error(train_pred2[\"y_obs\"],train_pred2[\"y_pred\"])))\n",
    "print (\"MSE\\t%.2f\" % (mean_squared_error(train_pred2[\"y_obs\"],train_pred2[\"y_pred\"])))\n",
    "print (\"MAE\\t%.2f\"  %mean_absolute_error(train_pred2[\"y_obs\"],train_pred2[\"y_pred\"]))   \n",
    "\n",
    "test_pred = pd.DataFrame(y_test,y_pred_test) \n",
    "test_pred['y_pred'] = test_pred.index\n",
    "test_pred = test_pred.rename(columns = {0: 'y_obs'})\n",
    "test_pred2 = test_pred.reset_index(drop=True)\n",
    "test_pred2['Folds'] = 'Train'\n",
    "test_pred2 = test_pred2.assign(Folds_error = abs(test_pred2['y_pred'] - test_pred2['y_obs']))\n",
    "test_pred2['Folds error Mean'] = test_pred2['Folds_error'].mean() \n",
    "test_pred2['Folds error 3*sigma'] = test_pred2['Folds_error'].std()\n",
    "test_pred2['Folds error 3*sigma'] = test_pred2['Folds error 3*sigma']*3\n",
    "test_pred2 = test_pred2[test_pred2['Folds_error']<=(test_pred2['Folds error 3*sigma'])] #keep only the ones that are within +3 to -3 standard deviations in the column 'Data'.\n",
    "\n",
    "r2 = (test_pred2[\"y_obs\"].corr(test_pred2[\"y_pred\"]))    \n",
    "print((\"Train set results\"))\n",
    "print(\"r^2\\t%.2f\" % r2)\n",
    "print (\"RMSE\\t%.2f\" % sqrt(mean_squared_error(test_pred2[\"y_obs\"],test_pred2[\"y_pred\"])))\n",
    "print (\"MSE\\t%.2f\" % (mean_squared_error(test_pred2[\"y_obs\"],test_pred2[\"y_pred\"])))\n",
    "print (\"MAE\\t%.2f\"  %mean_absolute_error(test_pred2[\"y_obs\"],test_pred2[\"y_pred\"])) "
   ]
  },
  {
   "cell_type": "code",
   "execution_count": null,
   "id": "7364f948",
   "metadata": {},
   "outputs": [],
   "source": []
  }
 ],
 "metadata": {
  "kernelspec": {
   "display_name": "AI",
   "language": "python",
   "name": "python3"
  },
  "language_info": {
   "codemirror_mode": {
    "name": "ipython",
    "version": 3
   },
   "file_extension": ".py",
   "mimetype": "text/x-python",
   "name": "python",
   "nbconvert_exporter": "python",
   "pygments_lexer": "ipython3",
   "version": "3.9.12"
  },
  "vscode": {
   "interpreter": {
    "hash": "305c663c06086012150402cb542001f2c1c554dcd7eca29927fc1d739b83f0a9"
   }
  }
 },
 "nbformat": 4,
 "nbformat_minor": 5
}
